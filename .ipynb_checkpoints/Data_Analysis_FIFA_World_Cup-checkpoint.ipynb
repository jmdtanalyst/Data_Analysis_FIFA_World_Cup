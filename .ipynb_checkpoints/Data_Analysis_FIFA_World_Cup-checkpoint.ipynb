{
 "cells": [
  {
   "cell_type": "markdown",
   "metadata": {},
   "source": [
    "# <p style=\"text-align: center;\">Data Analysis FIFA World Cup</p>\n",
    " "
   ]
  },
  {
   "cell_type": "markdown",
   "metadata": {},
   "source": [
    "# EDA on FIFA World Cup Matches\n"
   ]
  },
  {
   "cell_type": "markdown",
   "metadata": {},
   "source": [
    "More information and the dataset you can find in the link below:\n",
    "\n",
    "Dataset: https://www.kaggle.com/datasets/abecklas/fifa-world-cup"
   ]
  },
  {
   "cell_type": "code",
   "execution_count": 1,
   "metadata": {},
   "outputs": [
    {
     "data": {
      "text/html": [
       "        <script type=\"text/javascript\">\n",
       "        window.PlotlyConfig = {MathJaxConfig: 'local'};\n",
       "        if (window.MathJax && window.MathJax.Hub && window.MathJax.Hub.Config) {window.MathJax.Hub.Config({SVG: {font: \"STIX-Web\"}});}\n",
       "        if (typeof require !== 'undefined') {\n",
       "        require.undef(\"plotly\");\n",
       "        requirejs.config({\n",
       "            paths: {\n",
       "                'plotly': ['https://cdn.plot.ly/plotly-2.12.1.min']\n",
       "            }\n",
       "        });\n",
       "        require(['plotly'], function(Plotly) {\n",
       "            window._Plotly = Plotly;\n",
       "        });\n",
       "        }\n",
       "        </script>\n",
       "        "
      ]
     },
     "metadata": {},
     "output_type": "display_data"
    },
    {
     "data": {
      "text/html": [
       "        <script type=\"text/javascript\">\n",
       "        window.PlotlyConfig = {MathJaxConfig: 'local'};\n",
       "        if (window.MathJax && window.MathJax.Hub && window.MathJax.Hub.Config) {window.MathJax.Hub.Config({SVG: {font: \"STIX-Web\"}});}\n",
       "        if (typeof require !== 'undefined') {\n",
       "        require.undef(\"plotly\");\n",
       "        requirejs.config({\n",
       "            paths: {\n",
       "                'plotly': ['https://cdn.plot.ly/plotly-2.12.1.min']\n",
       "            }\n",
       "        });\n",
       "        require(['plotly'], function(Plotly) {\n",
       "            window._Plotly = Plotly;\n",
       "        });\n",
       "        }\n",
       "        </script>\n",
       "        "
      ]
     },
     "metadata": {},
     "output_type": "display_data"
    }
   ],
   "source": [
    "import pandas as pd\n",
    "import numpy as np\n",
    "import matplotlib.pyplot as plt\n",
    "import seaborn as sns\n",
    "import plotly as py\n",
    "import cufflinks as cf\n",
    "%matplotlib inline\n",
    "\n",
    "\n",
    "from plotly.offline import iplot\n",
    "\n",
    "\n",
    "#now we need to mak sure that ploty and  cufflinks works in offline mode.\n",
    "py.offline.init_notebook_mode(connected=True)\n",
    "cf.go_offline()\n"
   ]
  },
  {
   "cell_type": "code",
   "execution_count": 2,
   "metadata": {},
   "outputs": [],
   "source": [
    "# If you get an error, probably You'll need to install cufflinks, its necessary run this cell just once,  and if its already instaled ,  ignore this cell\n",
    "\n",
    "#!pip install cufflinks"
   ]
  },
  {
   "cell_type": "code",
   "execution_count": 3,
   "metadata": {},
   "outputs": [
    {
     "data": {
      "text/html": [
       "        <script type=\"text/javascript\">\n",
       "        window.PlotlyConfig = {MathJaxConfig: 'local'};\n",
       "        if (window.MathJax && window.MathJax.Hub && window.MathJax.Hub.Config) {window.MathJax.Hub.Config({SVG: {font: \"STIX-Web\"}});}\n",
       "        if (typeof require !== 'undefined') {\n",
       "        require.undef(\"plotly\");\n",
       "        requirejs.config({\n",
       "            paths: {\n",
       "                'plotly': ['https://cdn.plot.ly/plotly-2.12.1.min']\n",
       "            }\n",
       "        });\n",
       "        require(['plotly'], function(Plotly) {\n",
       "            window._Plotly = Plotly;\n",
       "        });\n",
       "        }\n",
       "        </script>\n",
       "        "
      ]
     },
     "metadata": {},
     "output_type": "display_data"
    },
    {
     "data": {
      "text/html": [
       "        <script type=\"text/javascript\">\n",
       "        window.PlotlyConfig = {MathJaxConfig: 'local'};\n",
       "        if (window.MathJax && window.MathJax.Hub && window.MathJax.Hub.Config) {window.MathJax.Hub.Config({SVG: {font: \"STIX-Web\"}});}\n",
       "        if (typeof require !== 'undefined') {\n",
       "        require.undef(\"plotly\");\n",
       "        requirejs.config({\n",
       "            paths: {\n",
       "                'plotly': ['https://cdn.plot.ly/plotly-2.12.1.min']\n",
       "            }\n",
       "        });\n",
       "        require(['plotly'], function(Plotly) {\n",
       "            window._Plotly = Plotly;\n",
       "        });\n",
       "        }\n",
       "        </script>\n",
       "        "
      ]
     },
     "metadata": {},
     "output_type": "display_data"
    }
   ],
   "source": []
  },
  {
   "cell_type": "markdown",
   "metadata": {},
   "source": [
    "# 1 - Data Wrangling\n",
    "\n",
    "Now we need to load the datasets to a dataframe,  note that the datasets are inside of the folder: Dataset, so we need to refer the folter using \"\"./Datasets\"\n",
    "After thate, we will perfor some tasks with the data.  Cleaning, handling with null values etc."
   ]
  },
  {
   "cell_type": "code",
   "execution_count": 4,
   "metadata": {},
   "outputs": [],
   "source": [
    "cups_df = pd.read_csv('./Datasets/WorldCups.csv')\n",
    "players_df = pd.read_csv('./Datasets/WorldCupPlayers.csv')\n",
    "matches_df = pd.read_csv('./Datasets/WorldCupMatches.csv')"
   ]
  },
  {
   "cell_type": "code",
   "execution_count": 40,
   "metadata": {
    "scrolled": true
   },
   "outputs": [
    {
     "data": {
      "text/html": [
       "<div>\n",
       "<style scoped>\n",
       "    .dataframe tbody tr th:only-of-type {\n",
       "        vertical-align: middle;\n",
       "    }\n",
       "\n",
       "    .dataframe tbody tr th {\n",
       "        vertical-align: top;\n",
       "    }\n",
       "\n",
       "    .dataframe thead th {\n",
       "        text-align: right;\n",
       "    }\n",
       "</style>\n",
       "<table border=\"1\" class=\"dataframe\">\n",
       "  <thead>\n",
       "    <tr style=\"text-align: right;\">\n",
       "      <th></th>\n",
       "      <th>Year</th>\n",
       "      <th>Country</th>\n",
       "      <th>Winner</th>\n",
       "      <th>Runners-Up</th>\n",
       "      <th>Third</th>\n",
       "      <th>Fourth</th>\n",
       "      <th>GoalsScored</th>\n",
       "      <th>QualifiedTeams</th>\n",
       "      <th>MatchesPlayed</th>\n",
       "      <th>Attendance</th>\n",
       "    </tr>\n",
       "  </thead>\n",
       "  <tbody>\n",
       "    <tr>\n",
       "      <th>0</th>\n",
       "      <td>1930</td>\n",
       "      <td>Uruguay</td>\n",
       "      <td>Uruguay</td>\n",
       "      <td>Argentina</td>\n",
       "      <td>USA</td>\n",
       "      <td>Yugoslavia</td>\n",
       "      <td>70</td>\n",
       "      <td>13</td>\n",
       "      <td>18</td>\n",
       "      <td>590.549</td>\n",
       "    </tr>\n",
       "    <tr>\n",
       "      <th>1</th>\n",
       "      <td>1934</td>\n",
       "      <td>Italy</td>\n",
       "      <td>Italy</td>\n",
       "      <td>Czechoslovakia</td>\n",
       "      <td>Germany</td>\n",
       "      <td>Austria</td>\n",
       "      <td>70</td>\n",
       "      <td>16</td>\n",
       "      <td>17</td>\n",
       "      <td>363.000</td>\n",
       "    </tr>\n",
       "    <tr>\n",
       "      <th>2</th>\n",
       "      <td>1938</td>\n",
       "      <td>France</td>\n",
       "      <td>Italy</td>\n",
       "      <td>Hungary</td>\n",
       "      <td>Brazil</td>\n",
       "      <td>Sweden</td>\n",
       "      <td>84</td>\n",
       "      <td>15</td>\n",
       "      <td>18</td>\n",
       "      <td>375.700</td>\n",
       "    </tr>\n",
       "    <tr>\n",
       "      <th>3</th>\n",
       "      <td>1950</td>\n",
       "      <td>Brazil</td>\n",
       "      <td>Uruguay</td>\n",
       "      <td>Brazil</td>\n",
       "      <td>Sweden</td>\n",
       "      <td>Spain</td>\n",
       "      <td>88</td>\n",
       "      <td>13</td>\n",
       "      <td>22</td>\n",
       "      <td>1.045.246</td>\n",
       "    </tr>\n",
       "    <tr>\n",
       "      <th>4</th>\n",
       "      <td>1954</td>\n",
       "      <td>Switzerland</td>\n",
       "      <td>Germany</td>\n",
       "      <td>Hungary</td>\n",
       "      <td>Austria</td>\n",
       "      <td>Uruguay</td>\n",
       "      <td>140</td>\n",
       "      <td>16</td>\n",
       "      <td>26</td>\n",
       "      <td>768.607</td>\n",
       "    </tr>\n",
       "    <tr>\n",
       "      <th>5</th>\n",
       "      <td>1958</td>\n",
       "      <td>Sweden</td>\n",
       "      <td>Brazil</td>\n",
       "      <td>Sweden</td>\n",
       "      <td>France</td>\n",
       "      <td>Germany</td>\n",
       "      <td>126</td>\n",
       "      <td>16</td>\n",
       "      <td>35</td>\n",
       "      <td>819.810</td>\n",
       "    </tr>\n",
       "    <tr>\n",
       "      <th>6</th>\n",
       "      <td>1962</td>\n",
       "      <td>Chile</td>\n",
       "      <td>Brazil</td>\n",
       "      <td>Czechoslovakia</td>\n",
       "      <td>Chile</td>\n",
       "      <td>Yugoslavia</td>\n",
       "      <td>89</td>\n",
       "      <td>16</td>\n",
       "      <td>32</td>\n",
       "      <td>893.172</td>\n",
       "    </tr>\n",
       "    <tr>\n",
       "      <th>7</th>\n",
       "      <td>1966</td>\n",
       "      <td>England</td>\n",
       "      <td>England</td>\n",
       "      <td>Germany</td>\n",
       "      <td>Portugal</td>\n",
       "      <td>Soviet Union</td>\n",
       "      <td>89</td>\n",
       "      <td>16</td>\n",
       "      <td>32</td>\n",
       "      <td>1.563.135</td>\n",
       "    </tr>\n",
       "    <tr>\n",
       "      <th>8</th>\n",
       "      <td>1970</td>\n",
       "      <td>Mexico</td>\n",
       "      <td>Brazil</td>\n",
       "      <td>Italy</td>\n",
       "      <td>Germany</td>\n",
       "      <td>Uruguay</td>\n",
       "      <td>95</td>\n",
       "      <td>16</td>\n",
       "      <td>32</td>\n",
       "      <td>1.603.975</td>\n",
       "    </tr>\n",
       "    <tr>\n",
       "      <th>9</th>\n",
       "      <td>1974</td>\n",
       "      <td>Germany</td>\n",
       "      <td>Germany</td>\n",
       "      <td>Netherlands</td>\n",
       "      <td>Poland</td>\n",
       "      <td>Brazil</td>\n",
       "      <td>97</td>\n",
       "      <td>16</td>\n",
       "      <td>38</td>\n",
       "      <td>1.865.753</td>\n",
       "    </tr>\n",
       "    <tr>\n",
       "      <th>10</th>\n",
       "      <td>1978</td>\n",
       "      <td>Argentina</td>\n",
       "      <td>Argentina</td>\n",
       "      <td>Netherlands</td>\n",
       "      <td>Brazil</td>\n",
       "      <td>Italy</td>\n",
       "      <td>102</td>\n",
       "      <td>16</td>\n",
       "      <td>38</td>\n",
       "      <td>1.545.791</td>\n",
       "    </tr>\n",
       "    <tr>\n",
       "      <th>11</th>\n",
       "      <td>1982</td>\n",
       "      <td>Spain</td>\n",
       "      <td>Italy</td>\n",
       "      <td>Germany</td>\n",
       "      <td>Poland</td>\n",
       "      <td>France</td>\n",
       "      <td>146</td>\n",
       "      <td>24</td>\n",
       "      <td>52</td>\n",
       "      <td>2.109.723</td>\n",
       "    </tr>\n",
       "    <tr>\n",
       "      <th>12</th>\n",
       "      <td>1986</td>\n",
       "      <td>Mexico</td>\n",
       "      <td>Argentina</td>\n",
       "      <td>Germany</td>\n",
       "      <td>France</td>\n",
       "      <td>Belgium</td>\n",
       "      <td>132</td>\n",
       "      <td>24</td>\n",
       "      <td>52</td>\n",
       "      <td>2.394.031</td>\n",
       "    </tr>\n",
       "    <tr>\n",
       "      <th>13</th>\n",
       "      <td>1990</td>\n",
       "      <td>Italy</td>\n",
       "      <td>Germany</td>\n",
       "      <td>Argentina</td>\n",
       "      <td>Italy</td>\n",
       "      <td>England</td>\n",
       "      <td>115</td>\n",
       "      <td>24</td>\n",
       "      <td>52</td>\n",
       "      <td>2.516.215</td>\n",
       "    </tr>\n",
       "    <tr>\n",
       "      <th>14</th>\n",
       "      <td>1994</td>\n",
       "      <td>USA</td>\n",
       "      <td>Brazil</td>\n",
       "      <td>Italy</td>\n",
       "      <td>Sweden</td>\n",
       "      <td>Bulgaria</td>\n",
       "      <td>141</td>\n",
       "      <td>24</td>\n",
       "      <td>52</td>\n",
       "      <td>3.587.538</td>\n",
       "    </tr>\n",
       "    <tr>\n",
       "      <th>15</th>\n",
       "      <td>1998</td>\n",
       "      <td>France</td>\n",
       "      <td>France</td>\n",
       "      <td>Brazil</td>\n",
       "      <td>Croatia</td>\n",
       "      <td>Netherlands</td>\n",
       "      <td>171</td>\n",
       "      <td>32</td>\n",
       "      <td>64</td>\n",
       "      <td>2.785.100</td>\n",
       "    </tr>\n",
       "    <tr>\n",
       "      <th>16</th>\n",
       "      <td>2002</td>\n",
       "      <td>Korea/Japan</td>\n",
       "      <td>Brazil</td>\n",
       "      <td>Germany</td>\n",
       "      <td>Turkey</td>\n",
       "      <td>Korea Republic</td>\n",
       "      <td>161</td>\n",
       "      <td>32</td>\n",
       "      <td>64</td>\n",
       "      <td>2.705.197</td>\n",
       "    </tr>\n",
       "    <tr>\n",
       "      <th>17</th>\n",
       "      <td>2006</td>\n",
       "      <td>Germany</td>\n",
       "      <td>Italy</td>\n",
       "      <td>France</td>\n",
       "      <td>Germany</td>\n",
       "      <td>Portugal</td>\n",
       "      <td>147</td>\n",
       "      <td>32</td>\n",
       "      <td>64</td>\n",
       "      <td>3.359.439</td>\n",
       "    </tr>\n",
       "    <tr>\n",
       "      <th>18</th>\n",
       "      <td>2010</td>\n",
       "      <td>South Africa</td>\n",
       "      <td>Spain</td>\n",
       "      <td>Netherlands</td>\n",
       "      <td>Germany</td>\n",
       "      <td>Uruguay</td>\n",
       "      <td>145</td>\n",
       "      <td>32</td>\n",
       "      <td>64</td>\n",
       "      <td>3.178.856</td>\n",
       "    </tr>\n",
       "    <tr>\n",
       "      <th>19</th>\n",
       "      <td>2014</td>\n",
       "      <td>Brazil</td>\n",
       "      <td>Germany</td>\n",
       "      <td>Argentina</td>\n",
       "      <td>Netherlands</td>\n",
       "      <td>Brazil</td>\n",
       "      <td>171</td>\n",
       "      <td>32</td>\n",
       "      <td>64</td>\n",
       "      <td>3.386.810</td>\n",
       "    </tr>\n",
       "  </tbody>\n",
       "</table>\n",
       "</div>"
      ],
      "text/plain": [
       "    Year       Country     Winner      Runners-Up        Third  \\\n",
       "0   1930       Uruguay    Uruguay       Argentina          USA   \n",
       "1   1934         Italy      Italy  Czechoslovakia      Germany   \n",
       "2   1938        France      Italy         Hungary       Brazil   \n",
       "3   1950        Brazil    Uruguay          Brazil       Sweden   \n",
       "4   1954   Switzerland    Germany         Hungary      Austria   \n",
       "5   1958        Sweden     Brazil          Sweden       France   \n",
       "6   1962         Chile     Brazil  Czechoslovakia        Chile   \n",
       "7   1966       England    England         Germany     Portugal   \n",
       "8   1970        Mexico     Brazil           Italy      Germany   \n",
       "9   1974       Germany    Germany     Netherlands       Poland   \n",
       "10  1978     Argentina  Argentina     Netherlands       Brazil   \n",
       "11  1982         Spain      Italy         Germany       Poland   \n",
       "12  1986        Mexico  Argentina         Germany       France   \n",
       "13  1990         Italy    Germany       Argentina        Italy   \n",
       "14  1994           USA     Brazil           Italy       Sweden   \n",
       "15  1998        France     France          Brazil      Croatia   \n",
       "16  2002   Korea/Japan     Brazil         Germany       Turkey   \n",
       "17  2006       Germany      Italy          France      Germany   \n",
       "18  2010  South Africa      Spain     Netherlands      Germany   \n",
       "19  2014        Brazil    Germany       Argentina  Netherlands   \n",
       "\n",
       "            Fourth  GoalsScored  QualifiedTeams  MatchesPlayed Attendance  \n",
       "0       Yugoslavia           70              13             18    590.549  \n",
       "1          Austria           70              16             17    363.000  \n",
       "2           Sweden           84              15             18    375.700  \n",
       "3            Spain           88              13             22  1.045.246  \n",
       "4          Uruguay          140              16             26    768.607  \n",
       "5          Germany          126              16             35    819.810  \n",
       "6       Yugoslavia           89              16             32    893.172  \n",
       "7     Soviet Union           89              16             32  1.563.135  \n",
       "8          Uruguay           95              16             32  1.603.975  \n",
       "9           Brazil           97              16             38  1.865.753  \n",
       "10           Italy          102              16             38  1.545.791  \n",
       "11          France          146              24             52  2.109.723  \n",
       "12         Belgium          132              24             52  2.394.031  \n",
       "13         England          115              24             52  2.516.215  \n",
       "14        Bulgaria          141              24             52  3.587.538  \n",
       "15     Netherlands          171              32             64  2.785.100  \n",
       "16  Korea Republic          161              32             64  2.705.197  \n",
       "17        Portugal          147              32             64  3.359.439  \n",
       "18         Uruguay          145              32             64  3.178.856  \n",
       "19          Brazil          171              32             64  3.386.810  "
      ]
     },
     "execution_count": 40,
     "metadata": {},
     "output_type": "execute_result"
    }
   ],
   "source": [
    "#The method .head() shouws the first 5 rowns of the dataset,  and  .tail() shows the las five,\n",
    "# you can use the parameter to choose how many rows you want to see. Ex: .head(10)\n",
    "\n",
    "cups_df.head(30)"
   ]
  },
  {
   "cell_type": "code",
   "execution_count": 6,
   "metadata": {},
   "outputs": [
    {
     "data": {
      "text/html": [
       "<div>\n",
       "<style scoped>\n",
       "    .dataframe tbody tr th:only-of-type {\n",
       "        vertical-align: middle;\n",
       "    }\n",
       "\n",
       "    .dataframe tbody tr th {\n",
       "        vertical-align: top;\n",
       "    }\n",
       "\n",
       "    .dataframe thead th {\n",
       "        text-align: right;\n",
       "    }\n",
       "</style>\n",
       "<table border=\"1\" class=\"dataframe\">\n",
       "  <thead>\n",
       "    <tr style=\"text-align: right;\">\n",
       "      <th></th>\n",
       "      <th>RoundID</th>\n",
       "      <th>MatchID</th>\n",
       "      <th>Team Initials</th>\n",
       "      <th>Coach Name</th>\n",
       "      <th>Line-up</th>\n",
       "      <th>Shirt Number</th>\n",
       "      <th>Player Name</th>\n",
       "      <th>Position</th>\n",
       "      <th>Event</th>\n",
       "    </tr>\n",
       "  </thead>\n",
       "  <tbody>\n",
       "    <tr>\n",
       "      <th>0</th>\n",
       "      <td>201</td>\n",
       "      <td>1096</td>\n",
       "      <td>FRA</td>\n",
       "      <td>CAUDRON Raoul (FRA)</td>\n",
       "      <td>S</td>\n",
       "      <td>0</td>\n",
       "      <td>Alex THEPOT</td>\n",
       "      <td>GK</td>\n",
       "      <td>NaN</td>\n",
       "    </tr>\n",
       "    <tr>\n",
       "      <th>1</th>\n",
       "      <td>201</td>\n",
       "      <td>1096</td>\n",
       "      <td>MEX</td>\n",
       "      <td>LUQUE Juan (MEX)</td>\n",
       "      <td>S</td>\n",
       "      <td>0</td>\n",
       "      <td>Oscar BONFIGLIO</td>\n",
       "      <td>GK</td>\n",
       "      <td>NaN</td>\n",
       "    </tr>\n",
       "    <tr>\n",
       "      <th>2</th>\n",
       "      <td>201</td>\n",
       "      <td>1096</td>\n",
       "      <td>FRA</td>\n",
       "      <td>CAUDRON Raoul (FRA)</td>\n",
       "      <td>S</td>\n",
       "      <td>0</td>\n",
       "      <td>Marcel LANGILLER</td>\n",
       "      <td>NaN</td>\n",
       "      <td>G40'</td>\n",
       "    </tr>\n",
       "    <tr>\n",
       "      <th>3</th>\n",
       "      <td>201</td>\n",
       "      <td>1096</td>\n",
       "      <td>MEX</td>\n",
       "      <td>LUQUE Juan (MEX)</td>\n",
       "      <td>S</td>\n",
       "      <td>0</td>\n",
       "      <td>Juan CARRENO</td>\n",
       "      <td>NaN</td>\n",
       "      <td>G70'</td>\n",
       "    </tr>\n",
       "    <tr>\n",
       "      <th>4</th>\n",
       "      <td>201</td>\n",
       "      <td>1096</td>\n",
       "      <td>FRA</td>\n",
       "      <td>CAUDRON Raoul (FRA)</td>\n",
       "      <td>S</td>\n",
       "      <td>0</td>\n",
       "      <td>Ernest LIBERATI</td>\n",
       "      <td>NaN</td>\n",
       "      <td>NaN</td>\n",
       "    </tr>\n",
       "  </tbody>\n",
       "</table>\n",
       "</div>"
      ],
      "text/plain": [
       "   RoundID  MatchID Team Initials           Coach Name Line-up  Shirt Number  \\\n",
       "0      201     1096           FRA  CAUDRON Raoul (FRA)       S             0   \n",
       "1      201     1096           MEX     LUQUE Juan (MEX)       S             0   \n",
       "2      201     1096           FRA  CAUDRON Raoul (FRA)       S             0   \n",
       "3      201     1096           MEX     LUQUE Juan (MEX)       S             0   \n",
       "4      201     1096           FRA  CAUDRON Raoul (FRA)       S             0   \n",
       "\n",
       "        Player Name Position Event  \n",
       "0       Alex THEPOT       GK   NaN  \n",
       "1   Oscar BONFIGLIO       GK   NaN  \n",
       "2  Marcel LANGILLER      NaN  G40'  \n",
       "3      Juan CARRENO      NaN  G70'  \n",
       "4   Ernest LIBERATI      NaN   NaN  "
      ]
     },
     "execution_count": 6,
     "metadata": {},
     "output_type": "execute_result"
    }
   ],
   "source": [
    "players_df.head()"
   ]
  },
  {
   "cell_type": "code",
   "execution_count": 7,
   "metadata": {
    "scrolled": true
   },
   "outputs": [
    {
     "data": {
      "text/html": [
       "<div>\n",
       "<style scoped>\n",
       "    .dataframe tbody tr th:only-of-type {\n",
       "        vertical-align: middle;\n",
       "    }\n",
       "\n",
       "    .dataframe tbody tr th {\n",
       "        vertical-align: top;\n",
       "    }\n",
       "\n",
       "    .dataframe thead th {\n",
       "        text-align: right;\n",
       "    }\n",
       "</style>\n",
       "<table border=\"1\" class=\"dataframe\">\n",
       "  <thead>\n",
       "    <tr style=\"text-align: right;\">\n",
       "      <th></th>\n",
       "      <th>Year</th>\n",
       "      <th>Datetime</th>\n",
       "      <th>Stage</th>\n",
       "      <th>Stadium</th>\n",
       "      <th>City</th>\n",
       "      <th>Home Team Name</th>\n",
       "      <th>Home Team Goals</th>\n",
       "      <th>Away Team Goals</th>\n",
       "      <th>Away Team Name</th>\n",
       "      <th>Win conditions</th>\n",
       "      <th>Attendance</th>\n",
       "      <th>Half-time Home Goals</th>\n",
       "      <th>Half-time Away Goals</th>\n",
       "      <th>Referee</th>\n",
       "      <th>Assistant 1</th>\n",
       "      <th>Assistant 2</th>\n",
       "      <th>RoundID</th>\n",
       "      <th>MatchID</th>\n",
       "      <th>Home Team Initials</th>\n",
       "      <th>Away Team Initials</th>\n",
       "    </tr>\n",
       "  </thead>\n",
       "  <tbody>\n",
       "    <tr>\n",
       "      <th>0</th>\n",
       "      <td>1930.0</td>\n",
       "      <td>13 Jul 1930 - 15:00</td>\n",
       "      <td>Group 1</td>\n",
       "      <td>Pocitos</td>\n",
       "      <td>Montevideo</td>\n",
       "      <td>France</td>\n",
       "      <td>4.0</td>\n",
       "      <td>1.0</td>\n",
       "      <td>Mexico</td>\n",
       "      <td></td>\n",
       "      <td>4444.0</td>\n",
       "      <td>3.0</td>\n",
       "      <td>0.0</td>\n",
       "      <td>LOMBARDI Domingo (URU)</td>\n",
       "      <td>CRISTOPHE Henry (BEL)</td>\n",
       "      <td>REGO Gilberto (BRA)</td>\n",
       "      <td>201.0</td>\n",
       "      <td>1096.0</td>\n",
       "      <td>FRA</td>\n",
       "      <td>MEX</td>\n",
       "    </tr>\n",
       "    <tr>\n",
       "      <th>1</th>\n",
       "      <td>1930.0</td>\n",
       "      <td>13 Jul 1930 - 15:00</td>\n",
       "      <td>Group 4</td>\n",
       "      <td>Parque Central</td>\n",
       "      <td>Montevideo</td>\n",
       "      <td>USA</td>\n",
       "      <td>3.0</td>\n",
       "      <td>0.0</td>\n",
       "      <td>Belgium</td>\n",
       "      <td></td>\n",
       "      <td>18346.0</td>\n",
       "      <td>2.0</td>\n",
       "      <td>0.0</td>\n",
       "      <td>MACIAS Jose (ARG)</td>\n",
       "      <td>MATEUCCI Francisco (URU)</td>\n",
       "      <td>WARNKEN Alberto (CHI)</td>\n",
       "      <td>201.0</td>\n",
       "      <td>1090.0</td>\n",
       "      <td>USA</td>\n",
       "      <td>BEL</td>\n",
       "    </tr>\n",
       "    <tr>\n",
       "      <th>2</th>\n",
       "      <td>1930.0</td>\n",
       "      <td>14 Jul 1930 - 12:45</td>\n",
       "      <td>Group 2</td>\n",
       "      <td>Parque Central</td>\n",
       "      <td>Montevideo</td>\n",
       "      <td>Yugoslavia</td>\n",
       "      <td>2.0</td>\n",
       "      <td>1.0</td>\n",
       "      <td>Brazil</td>\n",
       "      <td></td>\n",
       "      <td>24059.0</td>\n",
       "      <td>2.0</td>\n",
       "      <td>0.0</td>\n",
       "      <td>TEJADA Anibal (URU)</td>\n",
       "      <td>VALLARINO Ricardo (URU)</td>\n",
       "      <td>BALWAY Thomas (FRA)</td>\n",
       "      <td>201.0</td>\n",
       "      <td>1093.0</td>\n",
       "      <td>YUG</td>\n",
       "      <td>BRA</td>\n",
       "    </tr>\n",
       "    <tr>\n",
       "      <th>3</th>\n",
       "      <td>1930.0</td>\n",
       "      <td>14 Jul 1930 - 14:50</td>\n",
       "      <td>Group 3</td>\n",
       "      <td>Pocitos</td>\n",
       "      <td>Montevideo</td>\n",
       "      <td>Romania</td>\n",
       "      <td>3.0</td>\n",
       "      <td>1.0</td>\n",
       "      <td>Peru</td>\n",
       "      <td></td>\n",
       "      <td>2549.0</td>\n",
       "      <td>1.0</td>\n",
       "      <td>0.0</td>\n",
       "      <td>WARNKEN Alberto (CHI)</td>\n",
       "      <td>LANGENUS Jean (BEL)</td>\n",
       "      <td>MATEUCCI Francisco (URU)</td>\n",
       "      <td>201.0</td>\n",
       "      <td>1098.0</td>\n",
       "      <td>ROU</td>\n",
       "      <td>PER</td>\n",
       "    </tr>\n",
       "    <tr>\n",
       "      <th>4</th>\n",
       "      <td>1930.0</td>\n",
       "      <td>15 Jul 1930 - 16:00</td>\n",
       "      <td>Group 1</td>\n",
       "      <td>Parque Central</td>\n",
       "      <td>Montevideo</td>\n",
       "      <td>Argentina</td>\n",
       "      <td>1.0</td>\n",
       "      <td>0.0</td>\n",
       "      <td>France</td>\n",
       "      <td></td>\n",
       "      <td>23409.0</td>\n",
       "      <td>0.0</td>\n",
       "      <td>0.0</td>\n",
       "      <td>REGO Gilberto (BRA)</td>\n",
       "      <td>SAUCEDO Ulises (BOL)</td>\n",
       "      <td>RADULESCU Constantin (ROU)</td>\n",
       "      <td>201.0</td>\n",
       "      <td>1085.0</td>\n",
       "      <td>ARG</td>\n",
       "      <td>FRA</td>\n",
       "    </tr>\n",
       "  </tbody>\n",
       "</table>\n",
       "</div>"
      ],
      "text/plain": [
       "     Year              Datetime    Stage         Stadium         City  \\\n",
       "0  1930.0  13 Jul 1930 - 15:00   Group 1         Pocitos  Montevideo    \n",
       "1  1930.0  13 Jul 1930 - 15:00   Group 4  Parque Central  Montevideo    \n",
       "2  1930.0  14 Jul 1930 - 12:45   Group 2  Parque Central  Montevideo    \n",
       "3  1930.0  14 Jul 1930 - 14:50   Group 3         Pocitos  Montevideo    \n",
       "4  1930.0  15 Jul 1930 - 16:00   Group 1  Parque Central  Montevideo    \n",
       "\n",
       "  Home Team Name  Home Team Goals  Away Team Goals Away Team Name  \\\n",
       "0         France              4.0              1.0         Mexico   \n",
       "1            USA              3.0              0.0        Belgium   \n",
       "2     Yugoslavia              2.0              1.0         Brazil   \n",
       "3        Romania              3.0              1.0           Peru   \n",
       "4      Argentina              1.0              0.0         France   \n",
       "\n",
       "  Win conditions  Attendance  Half-time Home Goals  Half-time Away Goals  \\\n",
       "0                     4444.0                   3.0                   0.0   \n",
       "1                    18346.0                   2.0                   0.0   \n",
       "2                    24059.0                   2.0                   0.0   \n",
       "3                     2549.0                   1.0                   0.0   \n",
       "4                    23409.0                   0.0                   0.0   \n",
       "\n",
       "                  Referee               Assistant 1  \\\n",
       "0  LOMBARDI Domingo (URU)     CRISTOPHE Henry (BEL)   \n",
       "1       MACIAS Jose (ARG)  MATEUCCI Francisco (URU)   \n",
       "2     TEJADA Anibal (URU)   VALLARINO Ricardo (URU)   \n",
       "3   WARNKEN Alberto (CHI)       LANGENUS Jean (BEL)   \n",
       "4     REGO Gilberto (BRA)      SAUCEDO Ulises (BOL)   \n",
       "\n",
       "                  Assistant 2  RoundID  MatchID Home Team Initials  \\\n",
       "0         REGO Gilberto (BRA)    201.0   1096.0                FRA   \n",
       "1       WARNKEN Alberto (CHI)    201.0   1090.0                USA   \n",
       "2         BALWAY Thomas (FRA)    201.0   1093.0                YUG   \n",
       "3    MATEUCCI Francisco (URU)    201.0   1098.0                ROU   \n",
       "4  RADULESCU Constantin (ROU)    201.0   1085.0                ARG   \n",
       "\n",
       "  Away Team Initials  \n",
       "0                MEX  \n",
       "1                BEL  \n",
       "2                BRA  \n",
       "3                PER  \n",
       "4                FRA  "
      ]
     },
     "execution_count": 7,
     "metadata": {},
     "output_type": "execute_result"
    }
   ],
   "source": [
    "matches_df.head()"
   ]
  },
  {
   "cell_type": "markdown",
   "metadata": {},
   "source": [
    "We use the method .info() to show more information about the dataset, and also,  the function isnull to get some null values from the dataset"
   ]
  },
  {
   "cell_type": "code",
   "execution_count": 8,
   "metadata": {},
   "outputs": [
    {
     "name": "stdout",
     "output_type": "stream",
     "text": [
      "<class 'pandas.core.frame.DataFrame'>\n",
      "RangeIndex: 20 entries, 0 to 19\n",
      "Data columns (total 10 columns):\n",
      " #   Column          Non-Null Count  Dtype \n",
      "---  ------          --------------  ----- \n",
      " 0   Year            20 non-null     int64 \n",
      " 1   Country         20 non-null     object\n",
      " 2   Winner          20 non-null     object\n",
      " 3   Runners-Up      20 non-null     object\n",
      " 4   Third           20 non-null     object\n",
      " 5   Fourth          20 non-null     object\n",
      " 6   GoalsScored     20 non-null     int64 \n",
      " 7   QualifiedTeams  20 non-null     int64 \n",
      " 8   MatchesPlayed   20 non-null     int64 \n",
      " 9   Attendance      20 non-null     object\n",
      "dtypes: int64(4), object(6)\n",
      "memory usage: 1.7+ KB\n"
     ]
    }
   ],
   "source": [
    "cups_df.info()\n",
    "\n",
    "# As you can see, inthis dataset, there isnt null values, and it has 9 columns and 20 rowns."
   ]
  },
  {
   "cell_type": "code",
   "execution_count": 9,
   "metadata": {
    "scrolled": true
   },
   "outputs": [
    {
     "name": "stdout",
     "output_type": "stream",
     "text": [
      "<class 'pandas.core.frame.DataFrame'>\n",
      "RangeIndex: 37784 entries, 0 to 37783\n",
      "Data columns (total 9 columns):\n",
      " #   Column         Non-Null Count  Dtype \n",
      "---  ------         --------------  ----- \n",
      " 0   RoundID        37784 non-null  int64 \n",
      " 1   MatchID        37784 non-null  int64 \n",
      " 2   Team Initials  37784 non-null  object\n",
      " 3   Coach Name     37784 non-null  object\n",
      " 4   Line-up        37784 non-null  object\n",
      " 5   Shirt Number   37784 non-null  int64 \n",
      " 6   Player Name    37784 non-null  object\n",
      " 7   Position       4143 non-null   object\n",
      " 8   Event          9069 non-null   object\n",
      "dtypes: int64(3), object(6)\n",
      "memory usage: 2.6+ MB\n"
     ]
    }
   ],
   "source": [
    "players_df.info()\n",
    "\n",
    "# in this dataset, we can see that the columns \"Event\" and 'Position' have some null values."
   ]
  },
  {
   "cell_type": "code",
   "execution_count": 10,
   "metadata": {
    "scrolled": true
   },
   "outputs": [
    {
     "name": "stdout",
     "output_type": "stream",
     "text": [
      "<class 'pandas.core.frame.DataFrame'>\n",
      "RangeIndex: 4572 entries, 0 to 4571\n",
      "Data columns (total 20 columns):\n",
      " #   Column                Non-Null Count  Dtype  \n",
      "---  ------                --------------  -----  \n",
      " 0   Year                  852 non-null    float64\n",
      " 1   Datetime              852 non-null    object \n",
      " 2   Stage                 852 non-null    object \n",
      " 3   Stadium               852 non-null    object \n",
      " 4   City                  852 non-null    object \n",
      " 5   Home Team Name        852 non-null    object \n",
      " 6   Home Team Goals       852 non-null    float64\n",
      " 7   Away Team Goals       852 non-null    float64\n",
      " 8   Away Team Name        852 non-null    object \n",
      " 9   Win conditions        852 non-null    object \n",
      " 10  Attendance            850 non-null    float64\n",
      " 11  Half-time Home Goals  852 non-null    float64\n",
      " 12  Half-time Away Goals  852 non-null    float64\n",
      " 13  Referee               852 non-null    object \n",
      " 14  Assistant 1           852 non-null    object \n",
      " 15  Assistant 2           852 non-null    object \n",
      " 16  RoundID               852 non-null    float64\n",
      " 17  MatchID               852 non-null    float64\n",
      " 18  Home Team Initials    852 non-null    object \n",
      " 19  Away Team Initials    852 non-null    object \n",
      "dtypes: float64(8), object(12)\n",
      "memory usage: 714.5+ KB\n"
     ]
    }
   ],
   "source": [
    "matches_df.info()"
   ]
  },
  {
   "cell_type": "markdown",
   "metadata": {},
   "source": [
    "Checking Null Values\n"
   ]
  },
  {
   "cell_type": "code",
   "execution_count": 11,
   "metadata": {},
   "outputs": [
    {
     "data": {
      "text/plain": [
       "(Year              0\n",
       " Country           0\n",
       " Winner            0\n",
       " Runners-Up        0\n",
       " Third             0\n",
       " Fourth            0\n",
       " GoalsScored       0\n",
       " QualifiedTeams    0\n",
       " MatchesPlayed     0\n",
       " Attendance        0\n",
       " dtype: int64,\n",
       " RoundID              0\n",
       " MatchID              0\n",
       " Team Initials        0\n",
       " Coach Name           0\n",
       " Line-up              0\n",
       " Shirt Number         0\n",
       " Player Name          0\n",
       " Position         33641\n",
       " Event            28715\n",
       " dtype: int64,\n",
       " Year                    3720\n",
       " Datetime                3720\n",
       " Stage                   3720\n",
       " Stadium                 3720\n",
       " City                    3720\n",
       " Home Team Name          3720\n",
       " Home Team Goals         3720\n",
       " Away Team Goals         3720\n",
       " Away Team Name          3720\n",
       " Win conditions          3720\n",
       " Attendance              3722\n",
       " Half-time Home Goals    3720\n",
       " Half-time Away Goals    3720\n",
       " Referee                 3720\n",
       " Assistant 1             3720\n",
       " Assistant 2             3720\n",
       " RoundID                 3720\n",
       " MatchID                 3720\n",
       " Home Team Initials      3720\n",
       " Away Team Initials      3720\n",
       " dtype: int64)"
      ]
     },
     "execution_count": 11,
     "metadata": {},
     "output_type": "execute_result"
    }
   ],
   "source": [
    "# by placing the three methods in line, using coma, we can see the result in the same cell.d\n",
    "cups_df.isnull().sum(), players_df.isnull().sum(), matches_df.isnull().sum()"
   ]
  },
  {
   "cell_type": "code",
   "execution_count": null,
   "metadata": {},
   "outputs": [],
   "source": []
  },
  {
   "cell_type": "markdown",
   "metadata": {},
   "source": [
    "# Data Cleaning \n",
    "\n",
    "Now we know that there are some null  (NaN) values, we need to handle with them\n",
    "The best approach is creating a new dataframe to hold the result.\n"
   ]
  },
  {
   "cell_type": "code",
   "execution_count": 12,
   "metadata": {
    "scrolled": true
   },
   "outputs": [
    {
     "data": {
      "text/plain": [
       "((37784, 9),\n",
       " RoundID              0\n",
       " MatchID              0\n",
       " Team Initials        0\n",
       " Coach Name           0\n",
       " Line-up              0\n",
       " Shirt Number         0\n",
       " Player Name          0\n",
       " Position         33641\n",
       " Event            28715\n",
       " dtype: int64)"
      ]
     },
     "execution_count": 12,
     "metadata": {},
     "output_type": "execute_result"
    }
   ],
   "source": [
    "players_df.shape, players_df.isnull().sum()"
   ]
  },
  {
   "cell_type": "markdown",
   "metadata": {},
   "source": [
    "In this dataset, players_df, we can see that, the dataset has 37784 rowns, and in the columns 'Position' and 'Event' there are 33641 and 28715 NaN values.\n",
    "\n",
    "As they are Categorical Values,  we can replace these values by 'Not Informed\" or leave in blank, it will not impact any statistical analysys."
   ]
  },
  {
   "cell_type": "code",
   "execution_count": 13,
   "metadata": {
    "scrolled": false
   },
   "outputs": [
    {
     "data": {
      "text/html": [
       "<div>\n",
       "<style scoped>\n",
       "    .dataframe tbody tr th:only-of-type {\n",
       "        vertical-align: middle;\n",
       "    }\n",
       "\n",
       "    .dataframe tbody tr th {\n",
       "        vertical-align: top;\n",
       "    }\n",
       "\n",
       "    .dataframe thead th {\n",
       "        text-align: right;\n",
       "    }\n",
       "</style>\n",
       "<table border=\"1\" class=\"dataframe\">\n",
       "  <thead>\n",
       "    <tr style=\"text-align: right;\">\n",
       "      <th></th>\n",
       "      <th>RoundID</th>\n",
       "      <th>MatchID</th>\n",
       "      <th>Team Initials</th>\n",
       "      <th>Coach Name</th>\n",
       "      <th>Line-up</th>\n",
       "      <th>Shirt Number</th>\n",
       "      <th>Player Name</th>\n",
       "      <th>Position</th>\n",
       "      <th>Event</th>\n",
       "    </tr>\n",
       "  </thead>\n",
       "  <tbody>\n",
       "    <tr>\n",
       "      <th>0</th>\n",
       "      <td>201</td>\n",
       "      <td>1096</td>\n",
       "      <td>FRA</td>\n",
       "      <td>CAUDRON Raoul (FRA)</td>\n",
       "      <td>S</td>\n",
       "      <td>0</td>\n",
       "      <td>Alex THEPOT</td>\n",
       "      <td>GK</td>\n",
       "      <td>NaN</td>\n",
       "    </tr>\n",
       "    <tr>\n",
       "      <th>1</th>\n",
       "      <td>201</td>\n",
       "      <td>1096</td>\n",
       "      <td>MEX</td>\n",
       "      <td>LUQUE Juan (MEX)</td>\n",
       "      <td>S</td>\n",
       "      <td>0</td>\n",
       "      <td>Oscar BONFIGLIO</td>\n",
       "      <td>GK</td>\n",
       "      <td>NaN</td>\n",
       "    </tr>\n",
       "    <tr>\n",
       "      <th>2</th>\n",
       "      <td>201</td>\n",
       "      <td>1096</td>\n",
       "      <td>FRA</td>\n",
       "      <td>CAUDRON Raoul (FRA)</td>\n",
       "      <td>S</td>\n",
       "      <td>0</td>\n",
       "      <td>Marcel LANGILLER</td>\n",
       "      <td>NaN</td>\n",
       "      <td>G40'</td>\n",
       "    </tr>\n",
       "    <tr>\n",
       "      <th>3</th>\n",
       "      <td>201</td>\n",
       "      <td>1096</td>\n",
       "      <td>MEX</td>\n",
       "      <td>LUQUE Juan (MEX)</td>\n",
       "      <td>S</td>\n",
       "      <td>0</td>\n",
       "      <td>Juan CARRENO</td>\n",
       "      <td>NaN</td>\n",
       "      <td>G70'</td>\n",
       "    </tr>\n",
       "    <tr>\n",
       "      <th>4</th>\n",
       "      <td>201</td>\n",
       "      <td>1096</td>\n",
       "      <td>FRA</td>\n",
       "      <td>CAUDRON Raoul (FRA)</td>\n",
       "      <td>S</td>\n",
       "      <td>0</td>\n",
       "      <td>Ernest LIBERATI</td>\n",
       "      <td>NaN</td>\n",
       "      <td>NaN</td>\n",
       "    </tr>\n",
       "  </tbody>\n",
       "</table>\n",
       "</div>"
      ],
      "text/plain": [
       "   RoundID  MatchID Team Initials           Coach Name Line-up  Shirt Number  \\\n",
       "0      201     1096           FRA  CAUDRON Raoul (FRA)       S             0   \n",
       "1      201     1096           MEX     LUQUE Juan (MEX)       S             0   \n",
       "2      201     1096           FRA  CAUDRON Raoul (FRA)       S             0   \n",
       "3      201     1096           MEX     LUQUE Juan (MEX)       S             0   \n",
       "4      201     1096           FRA  CAUDRON Raoul (FRA)       S             0   \n",
       "\n",
       "        Player Name Position Event  \n",
       "0       Alex THEPOT       GK   NaN  \n",
       "1   Oscar BONFIGLIO       GK   NaN  \n",
       "2  Marcel LANGILLER      NaN  G40'  \n",
       "3      Juan CARRENO      NaN  G70'  \n",
       "4   Ernest LIBERATI      NaN   NaN  "
      ]
     },
     "execution_count": 13,
     "metadata": {},
     "output_type": "execute_result"
    }
   ],
   "source": [
    "# First dataset with NaN values: players_df\n",
    "players_df[players_df.isnull().any(axis=1)].head()"
   ]
  },
  {
   "cell_type": "code",
   "execution_count": 14,
   "metadata": {},
   "outputs": [
    {
     "data": {
      "text/html": [
       "<div>\n",
       "<style scoped>\n",
       "    .dataframe tbody tr th:only-of-type {\n",
       "        vertical-align: middle;\n",
       "    }\n",
       "\n",
       "    .dataframe tbody tr th {\n",
       "        vertical-align: top;\n",
       "    }\n",
       "\n",
       "    .dataframe thead th {\n",
       "        text-align: right;\n",
       "    }\n",
       "</style>\n",
       "<table border=\"1\" class=\"dataframe\">\n",
       "  <thead>\n",
       "    <tr style=\"text-align: right;\">\n",
       "      <th></th>\n",
       "      <th>RoundID</th>\n",
       "      <th>MatchID</th>\n",
       "      <th>Team Initials</th>\n",
       "      <th>Coach Name</th>\n",
       "      <th>Line-up</th>\n",
       "      <th>Shirt Number</th>\n",
       "      <th>Player Name</th>\n",
       "      <th>Position</th>\n",
       "      <th>Event</th>\n",
       "    </tr>\n",
       "  </thead>\n",
       "  <tbody>\n",
       "    <tr>\n",
       "      <th>0</th>\n",
       "      <td>201</td>\n",
       "      <td>1096</td>\n",
       "      <td>FRA</td>\n",
       "      <td>CAUDRON Raoul (FRA)</td>\n",
       "      <td>S</td>\n",
       "      <td>0</td>\n",
       "      <td>Alex THEPOT</td>\n",
       "      <td>GK</td>\n",
       "      <td></td>\n",
       "    </tr>\n",
       "    <tr>\n",
       "      <th>1</th>\n",
       "      <td>201</td>\n",
       "      <td>1096</td>\n",
       "      <td>MEX</td>\n",
       "      <td>LUQUE Juan (MEX)</td>\n",
       "      <td>S</td>\n",
       "      <td>0</td>\n",
       "      <td>Oscar BONFIGLIO</td>\n",
       "      <td>GK</td>\n",
       "      <td></td>\n",
       "    </tr>\n",
       "    <tr>\n",
       "      <th>2</th>\n",
       "      <td>201</td>\n",
       "      <td>1096</td>\n",
       "      <td>FRA</td>\n",
       "      <td>CAUDRON Raoul (FRA)</td>\n",
       "      <td>S</td>\n",
       "      <td>0</td>\n",
       "      <td>Marcel LANGILLER</td>\n",
       "      <td></td>\n",
       "      <td>G40'</td>\n",
       "    </tr>\n",
       "    <tr>\n",
       "      <th>3</th>\n",
       "      <td>201</td>\n",
       "      <td>1096</td>\n",
       "      <td>MEX</td>\n",
       "      <td>LUQUE Juan (MEX)</td>\n",
       "      <td>S</td>\n",
       "      <td>0</td>\n",
       "      <td>Juan CARRENO</td>\n",
       "      <td></td>\n",
       "      <td>G70'</td>\n",
       "    </tr>\n",
       "    <tr>\n",
       "      <th>4</th>\n",
       "      <td>201</td>\n",
       "      <td>1096</td>\n",
       "      <td>FRA</td>\n",
       "      <td>CAUDRON Raoul (FRA)</td>\n",
       "      <td>S</td>\n",
       "      <td>0</td>\n",
       "      <td>Ernest LIBERATI</td>\n",
       "      <td></td>\n",
       "      <td></td>\n",
       "    </tr>\n",
       "    <tr>\n",
       "      <th>...</th>\n",
       "      <td>...</td>\n",
       "      <td>...</td>\n",
       "      <td>...</td>\n",
       "      <td>...</td>\n",
       "      <td>...</td>\n",
       "      <td>...</td>\n",
       "      <td>...</td>\n",
       "      <td>...</td>\n",
       "      <td>...</td>\n",
       "    </tr>\n",
       "    <tr>\n",
       "      <th>37779</th>\n",
       "      <td>255959</td>\n",
       "      <td>300186501</td>\n",
       "      <td>ARG</td>\n",
       "      <td>SABELLA Alejandro (ARG)</td>\n",
       "      <td>N</td>\n",
       "      <td>19</td>\n",
       "      <td>ALVAREZ</td>\n",
       "      <td></td>\n",
       "      <td></td>\n",
       "    </tr>\n",
       "    <tr>\n",
       "      <th>37780</th>\n",
       "      <td>255959</td>\n",
       "      <td>300186501</td>\n",
       "      <td>GER</td>\n",
       "      <td>LOEW Joachim (GER)</td>\n",
       "      <td>N</td>\n",
       "      <td>6</td>\n",
       "      <td>KHEDIRA</td>\n",
       "      <td></td>\n",
       "      <td></td>\n",
       "    </tr>\n",
       "    <tr>\n",
       "      <th>37781</th>\n",
       "      <td>255959</td>\n",
       "      <td>300186501</td>\n",
       "      <td>ARG</td>\n",
       "      <td>SABELLA Alejandro (ARG)</td>\n",
       "      <td>N</td>\n",
       "      <td>20</td>\n",
       "      <td>AGUERO</td>\n",
       "      <td></td>\n",
       "      <td>IH46' Y65'</td>\n",
       "    </tr>\n",
       "    <tr>\n",
       "      <th>37782</th>\n",
       "      <td>255959</td>\n",
       "      <td>300186501</td>\n",
       "      <td>GER</td>\n",
       "      <td>LOEW Joachim (GER)</td>\n",
       "      <td>N</td>\n",
       "      <td>21</td>\n",
       "      <td>MUSTAFI</td>\n",
       "      <td></td>\n",
       "      <td></td>\n",
       "    </tr>\n",
       "    <tr>\n",
       "      <th>37783</th>\n",
       "      <td>255959</td>\n",
       "      <td>300186501</td>\n",
       "      <td>ARG</td>\n",
       "      <td>SABELLA Alejandro (ARG)</td>\n",
       "      <td>N</td>\n",
       "      <td>23</td>\n",
       "      <td>BASANTA</td>\n",
       "      <td></td>\n",
       "      <td></td>\n",
       "    </tr>\n",
       "  </tbody>\n",
       "</table>\n",
       "<p>37784 rows × 9 columns</p>\n",
       "</div>"
      ],
      "text/plain": [
       "       RoundID    MatchID Team Initials               Coach Name Line-up  \\\n",
       "0          201       1096           FRA      CAUDRON Raoul (FRA)       S   \n",
       "1          201       1096           MEX         LUQUE Juan (MEX)       S   \n",
       "2          201       1096           FRA      CAUDRON Raoul (FRA)       S   \n",
       "3          201       1096           MEX         LUQUE Juan (MEX)       S   \n",
       "4          201       1096           FRA      CAUDRON Raoul (FRA)       S   \n",
       "...        ...        ...           ...                      ...     ...   \n",
       "37779   255959  300186501           ARG  SABELLA Alejandro (ARG)       N   \n",
       "37780   255959  300186501           GER       LOEW Joachim (GER)       N   \n",
       "37781   255959  300186501           ARG  SABELLA Alejandro (ARG)       N   \n",
       "37782   255959  300186501           GER       LOEW Joachim (GER)       N   \n",
       "37783   255959  300186501           ARG  SABELLA Alejandro (ARG)       N   \n",
       "\n",
       "       Shirt Number       Player Name Position       Event  \n",
       "0                 0       Alex THEPOT       GK              \n",
       "1                 0   Oscar BONFIGLIO       GK              \n",
       "2                 0  Marcel LANGILLER                 G40'  \n",
       "3                 0      Juan CARRENO                 G70'  \n",
       "4                 0   Ernest LIBERATI                       \n",
       "...             ...               ...      ...         ...  \n",
       "37779            19           ALVAREZ                       \n",
       "37780             6           KHEDIRA                       \n",
       "37781            20            AGUERO           IH46' Y65'  \n",
       "37782            21           MUSTAFI                       \n",
       "37783            23           BASANTA                       \n",
       "\n",
       "[37784 rows x 9 columns]"
      ]
     },
     "execution_count": 14,
     "metadata": {},
     "output_type": "execute_result"
    }
   ],
   "source": [
    "players_df.fillna('')"
   ]
  },
  {
   "cell_type": "code",
   "execution_count": 15,
   "metadata": {},
   "outputs": [
    {
     "data": {
      "text/html": [
       "<div>\n",
       "<style scoped>\n",
       "    .dataframe tbody tr th:only-of-type {\n",
       "        vertical-align: middle;\n",
       "    }\n",
       "\n",
       "    .dataframe tbody tr th {\n",
       "        vertical-align: top;\n",
       "    }\n",
       "\n",
       "    .dataframe thead th {\n",
       "        text-align: right;\n",
       "    }\n",
       "</style>\n",
       "<table border=\"1\" class=\"dataframe\">\n",
       "  <thead>\n",
       "    <tr style=\"text-align: right;\">\n",
       "      <th></th>\n",
       "      <th>Year</th>\n",
       "      <th>Datetime</th>\n",
       "      <th>Stage</th>\n",
       "      <th>Stadium</th>\n",
       "      <th>City</th>\n",
       "      <th>Home Team Name</th>\n",
       "      <th>Home Team Goals</th>\n",
       "      <th>Away Team Goals</th>\n",
       "      <th>Away Team Name</th>\n",
       "      <th>Win conditions</th>\n",
       "      <th>Attendance</th>\n",
       "      <th>Half-time Home Goals</th>\n",
       "      <th>Half-time Away Goals</th>\n",
       "      <th>Referee</th>\n",
       "      <th>Assistant 1</th>\n",
       "      <th>Assistant 2</th>\n",
       "      <th>RoundID</th>\n",
       "      <th>MatchID</th>\n",
       "      <th>Home Team Initials</th>\n",
       "      <th>Away Team Initials</th>\n",
       "    </tr>\n",
       "  </thead>\n",
       "  <tbody>\n",
       "    <tr>\n",
       "      <th>823</th>\n",
       "      <td>2014.0</td>\n",
       "      <td>30 Jun 2014 - 17:00</td>\n",
       "      <td>Round of 16</td>\n",
       "      <td>Estadio Beira-Rio</td>\n",
       "      <td>Porto Alegre</td>\n",
       "      <td>Germany</td>\n",
       "      <td>2.0</td>\n",
       "      <td>1.0</td>\n",
       "      <td>Algeria</td>\n",
       "      <td>Germany win after extra time</td>\n",
       "      <td>NaN</td>\n",
       "      <td>0.0</td>\n",
       "      <td>0.0</td>\n",
       "      <td>RICCI Sandro (BRA)</td>\n",
       "      <td>DE CARVALHO Emerson (BRA)</td>\n",
       "      <td>VAN GASSE Marcelo (BRA)</td>\n",
       "      <td>255951.0</td>\n",
       "      <td>300186460.0</td>\n",
       "      <td>GER</td>\n",
       "      <td>ALG</td>\n",
       "    </tr>\n",
       "    <tr>\n",
       "      <th>841</th>\n",
       "      <td>2014.0</td>\n",
       "      <td>30 Jun 2014 - 17:00</td>\n",
       "      <td>Round of 16</td>\n",
       "      <td>Estadio Beira-Rio</td>\n",
       "      <td>Porto Alegre</td>\n",
       "      <td>Germany</td>\n",
       "      <td>2.0</td>\n",
       "      <td>1.0</td>\n",
       "      <td>Algeria</td>\n",
       "      <td>Germany win after extra time</td>\n",
       "      <td>NaN</td>\n",
       "      <td>0.0</td>\n",
       "      <td>0.0</td>\n",
       "      <td>RICCI Sandro (BRA)</td>\n",
       "      <td>DE CARVALHO Emerson (BRA)</td>\n",
       "      <td>VAN GASSE Marcelo (BRA)</td>\n",
       "      <td>255951.0</td>\n",
       "      <td>300186460.0</td>\n",
       "      <td>GER</td>\n",
       "      <td>ALG</td>\n",
       "    </tr>\n",
       "    <tr>\n",
       "      <th>852</th>\n",
       "      <td>NaN</td>\n",
       "      <td>NaN</td>\n",
       "      <td>NaN</td>\n",
       "      <td>NaN</td>\n",
       "      <td>NaN</td>\n",
       "      <td>NaN</td>\n",
       "      <td>NaN</td>\n",
       "      <td>NaN</td>\n",
       "      <td>NaN</td>\n",
       "      <td>NaN</td>\n",
       "      <td>NaN</td>\n",
       "      <td>NaN</td>\n",
       "      <td>NaN</td>\n",
       "      <td>NaN</td>\n",
       "      <td>NaN</td>\n",
       "      <td>NaN</td>\n",
       "      <td>NaN</td>\n",
       "      <td>NaN</td>\n",
       "      <td>NaN</td>\n",
       "      <td>NaN</td>\n",
       "    </tr>\n",
       "    <tr>\n",
       "      <th>853</th>\n",
       "      <td>NaN</td>\n",
       "      <td>NaN</td>\n",
       "      <td>NaN</td>\n",
       "      <td>NaN</td>\n",
       "      <td>NaN</td>\n",
       "      <td>NaN</td>\n",
       "      <td>NaN</td>\n",
       "      <td>NaN</td>\n",
       "      <td>NaN</td>\n",
       "      <td>NaN</td>\n",
       "      <td>NaN</td>\n",
       "      <td>NaN</td>\n",
       "      <td>NaN</td>\n",
       "      <td>NaN</td>\n",
       "      <td>NaN</td>\n",
       "      <td>NaN</td>\n",
       "      <td>NaN</td>\n",
       "      <td>NaN</td>\n",
       "      <td>NaN</td>\n",
       "      <td>NaN</td>\n",
       "    </tr>\n",
       "    <tr>\n",
       "      <th>854</th>\n",
       "      <td>NaN</td>\n",
       "      <td>NaN</td>\n",
       "      <td>NaN</td>\n",
       "      <td>NaN</td>\n",
       "      <td>NaN</td>\n",
       "      <td>NaN</td>\n",
       "      <td>NaN</td>\n",
       "      <td>NaN</td>\n",
       "      <td>NaN</td>\n",
       "      <td>NaN</td>\n",
       "      <td>NaN</td>\n",
       "      <td>NaN</td>\n",
       "      <td>NaN</td>\n",
       "      <td>NaN</td>\n",
       "      <td>NaN</td>\n",
       "      <td>NaN</td>\n",
       "      <td>NaN</td>\n",
       "      <td>NaN</td>\n",
       "      <td>NaN</td>\n",
       "      <td>NaN</td>\n",
       "    </tr>\n",
       "  </tbody>\n",
       "</table>\n",
       "</div>"
      ],
      "text/plain": [
       "       Year              Datetime        Stage            Stadium  \\\n",
       "823  2014.0  30 Jun 2014 - 17:00   Round of 16  Estadio Beira-Rio   \n",
       "841  2014.0  30 Jun 2014 - 17:00   Round of 16  Estadio Beira-Rio   \n",
       "852     NaN                   NaN          NaN                NaN   \n",
       "853     NaN                   NaN          NaN                NaN   \n",
       "854     NaN                   NaN          NaN                NaN   \n",
       "\n",
       "              City Home Team Name  Home Team Goals  Away Team Goals  \\\n",
       "823  Porto Alegre         Germany              2.0              1.0   \n",
       "841  Porto Alegre         Germany              2.0              1.0   \n",
       "852            NaN            NaN              NaN              NaN   \n",
       "853            NaN            NaN              NaN              NaN   \n",
       "854            NaN            NaN              NaN              NaN   \n",
       "\n",
       "    Away Team Name                 Win conditions  Attendance  \\\n",
       "823        Algeria  Germany win after extra time          NaN   \n",
       "841        Algeria  Germany win after extra time          NaN   \n",
       "852            NaN                            NaN         NaN   \n",
       "853            NaN                            NaN         NaN   \n",
       "854            NaN                            NaN         NaN   \n",
       "\n",
       "     Half-time Home Goals  Half-time Away Goals             Referee  \\\n",
       "823                   0.0                   0.0  RICCI Sandro (BRA)   \n",
       "841                   0.0                   0.0  RICCI Sandro (BRA)   \n",
       "852                   NaN                   NaN                 NaN   \n",
       "853                   NaN                   NaN                 NaN   \n",
       "854                   NaN                   NaN                 NaN   \n",
       "\n",
       "                   Assistant 1              Assistant 2   RoundID  \\\n",
       "823  DE CARVALHO Emerson (BRA)  VAN GASSE Marcelo (BRA)  255951.0   \n",
       "841  DE CARVALHO Emerson (BRA)  VAN GASSE Marcelo (BRA)  255951.0   \n",
       "852                        NaN                      NaN       NaN   \n",
       "853                        NaN                      NaN       NaN   \n",
       "854                        NaN                      NaN       NaN   \n",
       "\n",
       "         MatchID Home Team Initials Away Team Initials  \n",
       "823  300186460.0                GER                ALG  \n",
       "841  300186460.0                GER                ALG  \n",
       "852          NaN                NaN                NaN  \n",
       "853          NaN                NaN                NaN  \n",
       "854          NaN                NaN                NaN  "
      ]
     },
     "execution_count": 15,
     "metadata": {},
     "output_type": "execute_result"
    }
   ],
   "source": [
    "# Now lets check the matches_df dataframe\n",
    "\n",
    "matches_df[matches_df.isnull().any(axis=1)].head()"
   ]
  },
  {
   "cell_type": "markdown",
   "metadata": {},
   "source": [
    "Now we are going to remove all rows with NaN, on the column Year, because, even we having two rows with NaN on Attendance column, ther are valid information on the others columns."
   ]
  },
  {
   "cell_type": "code",
   "execution_count": 16,
   "metadata": {},
   "outputs": [
    {
     "data": {
      "text/html": [
       "<div>\n",
       "<style scoped>\n",
       "    .dataframe tbody tr th:only-of-type {\n",
       "        vertical-align: middle;\n",
       "    }\n",
       "\n",
       "    .dataframe tbody tr th {\n",
       "        vertical-align: top;\n",
       "    }\n",
       "\n",
       "    .dataframe thead th {\n",
       "        text-align: right;\n",
       "    }\n",
       "</style>\n",
       "<table border=\"1\" class=\"dataframe\">\n",
       "  <thead>\n",
       "    <tr style=\"text-align: right;\">\n",
       "      <th></th>\n",
       "      <th>Year</th>\n",
       "      <th>Datetime</th>\n",
       "      <th>Stage</th>\n",
       "      <th>Stadium</th>\n",
       "      <th>City</th>\n",
       "      <th>Home Team Name</th>\n",
       "      <th>Home Team Goals</th>\n",
       "      <th>Away Team Goals</th>\n",
       "      <th>Away Team Name</th>\n",
       "      <th>Win conditions</th>\n",
       "      <th>Attendance</th>\n",
       "      <th>Half-time Home Goals</th>\n",
       "      <th>Half-time Away Goals</th>\n",
       "      <th>Referee</th>\n",
       "      <th>Assistant 1</th>\n",
       "      <th>Assistant 2</th>\n",
       "      <th>RoundID</th>\n",
       "      <th>MatchID</th>\n",
       "      <th>Home Team Initials</th>\n",
       "      <th>Away Team Initials</th>\n",
       "    </tr>\n",
       "  </thead>\n",
       "  <tbody>\n",
       "    <tr>\n",
       "      <th>823</th>\n",
       "      <td>2014.0</td>\n",
       "      <td>30 Jun 2014 - 17:00</td>\n",
       "      <td>Round of 16</td>\n",
       "      <td>Estadio Beira-Rio</td>\n",
       "      <td>Porto Alegre</td>\n",
       "      <td>Germany</td>\n",
       "      <td>2.0</td>\n",
       "      <td>1.0</td>\n",
       "      <td>Algeria</td>\n",
       "      <td>Germany win after extra time</td>\n",
       "      <td>NaN</td>\n",
       "      <td>0.0</td>\n",
       "      <td>0.0</td>\n",
       "      <td>RICCI Sandro (BRA)</td>\n",
       "      <td>DE CARVALHO Emerson (BRA)</td>\n",
       "      <td>VAN GASSE Marcelo (BRA)</td>\n",
       "      <td>255951.0</td>\n",
       "      <td>300186460.0</td>\n",
       "      <td>GER</td>\n",
       "      <td>ALG</td>\n",
       "    </tr>\n",
       "    <tr>\n",
       "      <th>841</th>\n",
       "      <td>2014.0</td>\n",
       "      <td>30 Jun 2014 - 17:00</td>\n",
       "      <td>Round of 16</td>\n",
       "      <td>Estadio Beira-Rio</td>\n",
       "      <td>Porto Alegre</td>\n",
       "      <td>Germany</td>\n",
       "      <td>2.0</td>\n",
       "      <td>1.0</td>\n",
       "      <td>Algeria</td>\n",
       "      <td>Germany win after extra time</td>\n",
       "      <td>NaN</td>\n",
       "      <td>0.0</td>\n",
       "      <td>0.0</td>\n",
       "      <td>RICCI Sandro (BRA)</td>\n",
       "      <td>DE CARVALHO Emerson (BRA)</td>\n",
       "      <td>VAN GASSE Marcelo (BRA)</td>\n",
       "      <td>255951.0</td>\n",
       "      <td>300186460.0</td>\n",
       "      <td>GER</td>\n",
       "      <td>ALG</td>\n",
       "    </tr>\n",
       "  </tbody>\n",
       "</table>\n",
       "</div>"
      ],
      "text/plain": [
       "       Year              Datetime        Stage            Stadium  \\\n",
       "823  2014.0  30 Jun 2014 - 17:00   Round of 16  Estadio Beira-Rio   \n",
       "841  2014.0  30 Jun 2014 - 17:00   Round of 16  Estadio Beira-Rio   \n",
       "\n",
       "              City Home Team Name  Home Team Goals  Away Team Goals  \\\n",
       "823  Porto Alegre         Germany              2.0              1.0   \n",
       "841  Porto Alegre         Germany              2.0              1.0   \n",
       "\n",
       "    Away Team Name                 Win conditions  Attendance  \\\n",
       "823        Algeria  Germany win after extra time          NaN   \n",
       "841        Algeria  Germany win after extra time          NaN   \n",
       "\n",
       "     Half-time Home Goals  Half-time Away Goals             Referee  \\\n",
       "823                   0.0                   0.0  RICCI Sandro (BRA)   \n",
       "841                   0.0                   0.0  RICCI Sandro (BRA)   \n",
       "\n",
       "                   Assistant 1              Assistant 2   RoundID  \\\n",
       "823  DE CARVALHO Emerson (BRA)  VAN GASSE Marcelo (BRA)  255951.0   \n",
       "841  DE CARVALHO Emerson (BRA)  VAN GASSE Marcelo (BRA)  255951.0   \n",
       "\n",
       "         MatchID Home Team Initials Away Team Initials  \n",
       "823  300186460.0                GER                ALG  \n",
       "841  300186460.0                GER                ALG  "
      ]
     },
     "execution_count": 16,
     "metadata": {},
     "output_type": "execute_result"
    }
   ],
   "source": [
    "matches_df.dropna(subset=['Year'], inplace=True)\n",
    "matches_df[matches_df.isnull().any(axis=1)].head()\n"
   ]
  },
  {
   "cell_type": "code",
   "execution_count": 17,
   "metadata": {},
   "outputs": [],
   "source": [
    "# fill with blank\n",
    "\n",
    "matches_df=matches_df.fillna('')"
   ]
  },
  {
   "cell_type": "markdown",
   "metadata": {},
   "source": [
    "### Now lets analyse some columns,  lets check how many Teams there are in the dataset.\n"
   ]
  },
  {
   "cell_type": "code",
   "execution_count": 18,
   "metadata": {},
   "outputs": [
    {
     "data": {
      "text/plain": [
       "(array(['France', 'USA', 'Yugoslavia', 'Romania', 'Argentina', 'Chile',\n",
       "        'Uruguay', 'Brazil', 'Paraguay', 'Austria', 'Hungary',\n",
       "        'Switzerland', 'Sweden', 'Germany', 'Spain', 'Italy',\n",
       "        'Czechoslovakia', 'Cuba', 'England', 'Germany FR', 'Turkey',\n",
       "        'Soviet Union', 'Northern Ireland', 'Mexico', 'Wales', 'Portugal',\n",
       "        'Korea DPR', 'Peru', 'Belgium', 'Bulgaria', 'German DR', 'Zaire',\n",
       "        'Poland', 'Australia', 'Scotland', 'Netherlands', 'Haiti',\n",
       "        'Tunisia', 'Algeria', 'Honduras', 'Canada', 'Morocco',\n",
       "        'Korea Republic', 'Iraq', 'Denmark', 'rn\">United Arab Emirates',\n",
       "        'Costa Rica', 'Cameroon', 'rn\">Republic of Ireland', 'Colombia',\n",
       "        'Norway', 'Nigeria', 'Saudi Arabia', 'Bolivia', 'Russia', 'Greece',\n",
       "        'Jamaica', 'South Africa', 'Japan', 'Croatia', 'China PR',\n",
       "        'Senegal', 'Slovenia', 'Ecuador', 'rn\">Trinidad and Tobago',\n",
       "        'rn\">Serbia and Montenegro', 'Angola', 'Czech Republic', 'Togo',\n",
       "        'Iran', \"C�te d'Ivoire\", 'Ghana', 'Ukraine', 'Serbia',\n",
       "        'New Zealand', 'Slovakia', 'IR Iran', 'rn\">Bosnia and Herzegovina'],\n",
       "       dtype=object),\n",
       " array(['Mexico', 'Belgium', 'Brazil', 'Peru', 'France', 'Bolivia',\n",
       "        'Paraguay', 'Romania', 'Chile', 'USA', 'Yugoslavia', 'Argentina',\n",
       "        'Egypt', 'Netherlands', 'Switzerland', 'Sweden', 'Spain',\n",
       "        'Hungary', 'Austria', 'Germany', 'Czechoslovakia',\n",
       "        'Dutch East Indies', 'Norway', 'Poland', 'Cuba', 'Italy',\n",
       "        'England', 'Scotland', 'Turkey', 'Korea Republic', 'Germany FR',\n",
       "        'Uruguay', 'Wales', 'Northern Ireland', 'Soviet Union', 'Colombia',\n",
       "        'Bulgaria', 'Korea DPR', 'Portugal', 'Israel', 'Morocco',\n",
       "        'El Salvador', 'Australia', 'Haiti', 'German DR', 'Zaire',\n",
       "        'IR Iran', 'Tunisia', 'Iran', 'Cameroon', 'New Zealand', 'Algeria',\n",
       "        'Honduras', 'Kuwait', 'Iraq', 'Denmark', 'Canada',\n",
       "        'rn\">Republic of Ireland', 'rn\">United Arab Emirates',\n",
       "        'Costa Rica', 'Saudi Arabia', 'Russia', 'Greece', 'Nigeria',\n",
       "        'South Africa', 'Japan', 'Croatia', 'Jamaica', 'Senegal',\n",
       "        'Slovenia', 'Ecuador', 'China PR', \"C�te d'Ivoire\",\n",
       "        'Czech Republic', 'Ghana', 'Togo', 'Ukraine',\n",
       "        'rn\">Trinidad and Tobago', 'rn\">Serbia and Montenegro', 'Angola',\n",
       "        'Slovakia', 'Serbia', 'rn\">Bosnia and Herzegovina'], dtype=object))"
      ]
     },
     "execution_count": 18,
     "metadata": {},
     "output_type": "execute_result"
    }
   ],
   "source": [
    "matches_df['Home Team Name'].unique(), matches_df['Away Team Name'].unique()\n"
   ]
  },
  {
   "cell_type": "markdown",
   "metadata": {},
   "source": [
    "We can see that there are some names starting with these characters:  (rn\">), we can check which ones are with these characters and remove.\n",
    "Also, there is a special character in \"C�te d'Ivoire\", it is supose to be: \"Côte d'Ivoire\" we can replace. and \"Germany FR\" and \"German DR\", will become only Germany.\n"
   ]
  },
  {
   "cell_type": "code",
   "execution_count": 19,
   "metadata": {},
   "outputs": [
    {
     "data": {
      "text/plain": [
       "Away Team Name\n",
       "rn\">Republic of Ireland       8\n",
       "rn\">United Arab Emirates      2\n",
       "rn\">Trinidad and Tobago       2\n",
       "rn\">Serbia and Montenegro     2\n",
       "rn\">Bosnia and Herzegovina    2\n",
       "Name: count, dtype: int64"
      ]
     },
     "execution_count": 19,
     "metadata": {},
     "output_type": "execute_result"
    }
   ],
   "source": [
    "#matches_df[matches_df['Home Team Name'].str.contains('rn\">')]['Home Team Name'].value_counts()\n",
    "matches_df[matches_df['Home Team Name'].str.contains('rn\">')]['Home Team Name'].value_counts()\n",
    "matches_df[matches_df['Away Team Name'].str.contains('rn\">')]['Away Team Name'].value_counts()"
   ]
  },
  {
   "cell_type": "code",
   "execution_count": 20,
   "metadata": {},
   "outputs": [
    {
     "data": {
      "text/plain": [
       "array(['France', 'USA', 'Yugoslavia', 'Romania', 'Argentina', 'Chile',\n",
       "       'Uruguay', 'Brazil', 'Paraguay', 'Austria', 'Hungary',\n",
       "       'Switzerland', 'Swede', 'Germany', 'Spai', 'Italy',\n",
       "       'Czechoslovakia', 'Cuba', 'England', 'Turkey', 'Soviet Unio',\n",
       "       'Northern Ireland', 'Mexico', 'Wales', 'Portugal', 'Korea DPR',\n",
       "       'Peru', 'Belgium', 'Bulgaria', 'Zaire', 'Poland', 'Australia',\n",
       "       'Scotland', 'Netherlands', 'Haiti', 'Tunisia', 'Algeria',\n",
       "       'Honduras', 'Canada', 'Morocco', 'Korea Republic', 'Iraq',\n",
       "       'Denmark', 'United Arab Emirates', 'Costa Rica', 'Cameroo',\n",
       "       'Republic of Ireland', 'Colombia', 'Norway', 'Nigeria',\n",
       "       'Saudi Arabia', 'Bolivia', 'Russia', 'Greece', 'Jamaica',\n",
       "       'South Africa', 'Japa', 'Croatia', 'China PR', 'Senegal',\n",
       "       'Slovenia', 'Ecuado', 'Trinidad and Tobago',\n",
       "       'Serbia and Montenegro', 'Angola', 'Czech Republic', 'Togo', 'Ira',\n",
       "       \"Côte d'Ivoire\", 'Ghana', 'Ukraine', 'Serbia', 'New Zealand',\n",
       "       'Slovakia', 'IR Ira', 'Bosnia and Herzegovina'], dtype=object)"
      ]
     },
     "execution_count": 20,
     "metadata": {},
     "output_type": "execute_result"
    }
   ],
   "source": [
    "# We can use the method '.str.strip()' to remove these characters:\n",
    "matches_df['Home Team Name']=matches_df['Home Team Name'].str.strip('rn\">')\n",
    "\n",
    "# We can use the replace method to replace the names: \n",
    "matches_df['Home Team Name']=matches_df['Home Team Name'].str.replace(\"�\", \"ô\")\n",
    "matches_df['Home Team Name']=matches_df['Home Team Name'].str.replace(\"Germany FR\", \"Germany\")\n",
    "matches_df['Home Team Name']=matches_df['Home Team Name'].str.replace(\"German DR\", \"Germany\")\n",
    "\n",
    "#'Germany FR'\n",
    "matches_df['Home Team Name'].unique()\n",
    "\n"
   ]
  },
  {
   "cell_type": "markdown",
   "metadata": {},
   "source": [
    "Need to clean the column 'Away Team Name"
   ]
  },
  {
   "cell_type": "code",
   "execution_count": 21,
   "metadata": {},
   "outputs": [
    {
     "data": {
      "text/plain": [
       "array(['Mexico', 'Belgium', 'Brazil', 'Peru', 'France', 'Bolivia',\n",
       "       'Paraguay', 'Romania', 'Chile', 'USA', 'Yugoslavia', 'Argentina',\n",
       "       'Egypt', 'Netherlands', 'Switzerland', 'Swede', 'Spai', 'Hungary',\n",
       "       'Austria', 'Germany', 'Czechoslovakia', 'Dutch East Indies',\n",
       "       'Norway', 'Poland', 'Cuba', 'Italy', 'England', 'Scotland',\n",
       "       'Turkey', 'Korea Republic', 'Uruguay', 'Wales', 'Northern Ireland',\n",
       "       'Soviet Unio', 'Colombia', 'Bulgaria', 'Korea DPR', 'Portugal',\n",
       "       'Israel', 'Morocco', 'El Salvado', 'Australia', 'Haiti', 'Zaire',\n",
       "       'IR Ira', 'Tunisia', 'Ira', 'Cameroo', 'New Zealand', 'Algeria',\n",
       "       'Honduras', 'Kuwait', 'Iraq', 'Denmark', 'Canada',\n",
       "       'Republic of Ireland', 'United Arab Emirates', 'Costa Rica',\n",
       "       'Saudi Arabia', 'Russia', 'Greece', 'Nigeria', 'South Africa',\n",
       "       'Japa', 'Croatia', 'Jamaica', 'Senegal', 'Slovenia', 'Ecuado',\n",
       "       'China PR', \"Côte d'Ivoire\", 'Czech Republic', 'Ghana', 'Togo',\n",
       "       'Ukraine', 'Trinidad and Tobago', 'Serbia and Montenegro',\n",
       "       'Angola', 'Slovakia', 'Serbia', 'Bosnia and Herzegovina'],\n",
       "      dtype=object)"
      ]
     },
     "execution_count": 21,
     "metadata": {},
     "output_type": "execute_result"
    }
   ],
   "source": [
    "# We can use the method '.str.strip()' to remove these characters:\n",
    "matches_df['Away Team Name']=matches_df['Away Team Name'].str.strip('rn\">')\n",
    "\n",
    "# We can use the replace method to replace the names: \n",
    "matches_df['Away Team Name']=matches_df['Away Team Name'].str.replace(\"�\", \"ô\")\n",
    "matches_df['Away Team Name']=matches_df['Away Team Name'].str.replace(\"Germany FR\", \"Germany\")\n",
    "matches_df['Away Team Name']=matches_df['Away Team Name'].str.replace(\"German DR\", \"Germany\")\n",
    "\n",
    "#'Germany FR'\n",
    "matches_df['Away Team Name'].unique()\n"
   ]
  },
  {
   "cell_type": "code",
   "execution_count": 22,
   "metadata": {},
   "outputs": [
    {
     "data": {
      "text/plain": [
       "Series([], Name: count, dtype: int64)"
      ]
     },
     "execution_count": 22,
     "metadata": {},
     "output_type": "execute_result"
    }
   ],
   "source": [
    "# Running again the str.contains, we can see that they have gone.\n",
    "matches_df[matches_df['Home Team Name'].str.contains('rn\">')]['Home Team Name'].value_counts()"
   ]
  },
  {
   "cell_type": "code",
   "execution_count": 23,
   "metadata": {},
   "outputs": [
    {
     "data": {
      "text/plain": [
       "array(['Pocitos', 'Parque Central', 'Estadio Centenario',\n",
       "       'Stadio Benito Mussolini', 'Giorgio Ascarelli', 'San Siro',\n",
       "       'Littorale', 'Giovanni Berta', 'Luigi Ferraris', 'Nazionale PNF',\n",
       "       'Littorio', 'Parc des Princes', 'Velodrome Municipale',\n",
       "       'Stade Olympique', 'Stade Municipal', 'Stade V�lodrome',\n",
       "       'Stade de la Meinau', 'Cavee Verte', 'Stade du Parc Lescure',\n",
       "       'Victor Boucquey', 'Fort Carree',\n",
       "       'Maracan� - Est�dio Jornalista M�rio Filho', 'Durival de Brito',\n",
       "       'Pacaembu', 'Independencia', 'Eucaliptos', 'Ilha do Retiro',\n",
       "       'Wankdorf Stadium', 'Hardturm', 'Charmilles', 'La Pontaise',\n",
       "       'St. Jakob', 'Comunale di Cornaredo', 'Rasunda Stadium',\n",
       "       'Nya Ullevi', 'Malmo Stadion', 'Jarnvallen', 'Idrottsparken',\n",
       "       'Arosvallen', 'Rimnersvallen', 'Orjans Vall', 'Ryavallen',\n",
       "       'Olympia Stadium', 'Tunavallen', 'Eyravallen', 'Carlos Dittborn',\n",
       "       'Estadio Sausalito', 'Estadio El Teniente-Codelco', 'Nacional',\n",
       "       'Wembley Stadium', 'Hillsborough', 'Goodison Park',\n",
       "       'Ayresome Park', 'Old Trafford Stadium', 'Villa Park',\n",
       "       'Roker Park Ground', 'White City', 'Estadio Azteca', 'Cuauhtemoc',\n",
       "       'Nou Camp - Estadio Le�n', 'Jalisco', 'Luis Dosal', 'Waldstadion',\n",
       "       'Olympiastadion', 'Volksparkstadion', 'Westfalenstadion',\n",
       "       'Niedersachsenstadion', 'Rheinstadion', 'Neckarstadion',\n",
       "       'Parkstadion',\n",
       "       'El Monumental - Estadio Monumental Antonio Vespuci',\n",
       "       'Estadio Jos� Mar�a Minella',\n",
       "       'Arroyito - Estadio Dr. Lisandro de la Torre', 'Jose Amalfitani',\n",
       "       'Estadio Ol�mpico Chateau Carreras', 'San Martin', 'Camp Nou',\n",
       "       'Estadio Municipal de Bala�dos', 'Ramon Sanchez Pizjuan', 'Riazor',\n",
       "       'Nuevo Estadio', 'La Rosaleda', 'El Molinon', 'San Mames',\n",
       "       'Luis Casanova', 'Carlos Tartiere', 'Jose Zorrilla', 'La Romareda',\n",
       "       'Jose Rico Perez', 'Benito Villamarin', 'Vicente Calderon',\n",
       "       'Sarria', 'Santiago Bernabeu', 'Estadio Irapuato',\n",
       "       'Estadio Ol�mpico Universitario', 'Estadio Universitario',\n",
       "       'Tres de Marzo', 'Tecnologico', 'Bombonera - Estadio Nemesio Diez',\n",
       "       'Neza', 'Estadio Corregidora', 'Giuseppe Meazza',\n",
       "       'Stadio San Nicola', 'Renato Dall Ara', 'Stadio Olimpico',\n",
       "       'Comunale', 'Stadio delle Alpi', 'Sant Elia',\n",
       "       'Marc Antonio Bentegodi', 'Della Favorita', 'Dacia Arena',\n",
       "       'San Paolo', 'Friuli', 'Cotton Bowl', 'Soldier Field',\n",
       "       'Pontiac Silverdome', 'Giants Stadium', 'Rose Bowl', 'Citrus Bowl',\n",
       "       'RFK Stadium', 'Stanford Stadium', 'Foxboro Stadium',\n",
       "       'Stade de France', 'La Mosson', 'Stade Felix Bollaert',\n",
       "       'La Beaujoire', 'Stade de Gerland', 'Stade Geoffroy Guichard',\n",
       "       'Seoul World Cup Stadium', 'Munsu Football Stadium',\n",
       "       'Niigata Stadium Big Swan', 'Sapporo Dome', 'Kashima Stadium',\n",
       "       'Busan Asiad Main Stadium', 'Saitama Stadium 2002',\n",
       "       'Gwangju World Cup Stadium', 'Kobe Wing Stadium',\n",
       "       'Suwon World Cup Stadium', 'Daegu World Cup Stadium',\n",
       "       'Jeonju World Cup Stadium', 'Jeju World Cup Stadium',\n",
       "       'Incheon Football Stadium', 'International Stadium Yokohama',\n",
       "       'Miyagi Stadium', 'Oita Stadium Big Eye', 'Shizuoka Stadium Ecopa',\n",
       "       'Osaka Nagai Stadium', 'Daejeon World Cup Stadium',\n",
       "       'FIFA World Cup Stadium, Munich',\n",
       "       'FIFA World Cup Stadium, Gelsenkirchen',\n",
       "       'FIFA World Cup Stadium, Frankfurt',\n",
       "       'FIFA World Cup Stadium, Dortmund',\n",
       "       'FIFA World Cup Stadium, Hamburg', 'Zentralstadion',\n",
       "       'Franken-Stadion', 'FIFA World Cup Stadium, Cologne',\n",
       "       'Fritz-Walter-Stadion', 'FIFA World Cup Stadium, Hanover',\n",
       "       'Gottlieb-Daimler-Stadion', 'Soccer City Stadium',\n",
       "       'Cape Town Stadium', 'Port Elizabeth Stadium',\n",
       "       'Ellis Park Stadium', 'Royal Bafokeng Sports Palace',\n",
       "       'Peter Mokaba Stadium', 'Loftus Versfeld Stadium',\n",
       "       'Durban Stadium', 'Free State Stadium', 'Mbombela Stadium',\n",
       "       'Arena de Sao Paulo', 'Estadio das Dunas', 'Arena Fonte Nova',\n",
       "       'Arena Pantanal', 'Estadio Mineirao', 'Estadio Castelao',\n",
       "       'Arena Amazonia', 'Arena Pernambuco', 'Estadio Nacional',\n",
       "       'Estadio Beira-Rio', 'Estadio do Maracana', 'Arena da Baixada'],\n",
       "      dtype=object)"
      ]
     },
     "execution_count": 23,
     "metadata": {},
     "output_type": "execute_result"
    }
   ],
   "source": [
    "### Now we have the column ['Home Team Name'] cleaned, lets get the Stadium column\n",
    "matches_df['Stadium'].unique()\n"
   ]
  },
  {
   "cell_type": "markdown",
   "metadata": {},
   "source": [
    "Analyzing this result, we need to fix these values:\n",
    "      \n",
    "    'Stade V�lodrome'  = 'Stade Vélodrome'\n",
    "    'Maracan� - Est�dio Jornalista M�rio Filho'= 'Estadio Maracanã'\n",
    "    'Nou Camp - Estadio Le�n' = 'Nou Camp - Estadio León'\n",
    "    'Estadio Jos� Mar�a Minella' = 'Estadio José Maria Minella'\n",
    "    'Estadio Ol�mpico Chateau Carreras' = 'Estadio Olímpico Chateau Carreras'\n",
    "    'Estadio Municipal de Bala�dos' = 'Estadio Municipal de Balaídos'\n",
    "    'Estadio Ol�mpico Universitario' = 'Estadio Olímpico Universitario'\n",
    "    'Estadio do Maracana' = 'Estadio Maracanã'\n",
    "\n"
   ]
  },
  {
   "cell_type": "code",
   "execution_count": 24,
   "metadata": {},
   "outputs": [],
   "source": [
    "matches_df['Stadium']=matches_df['Stadium'].str.replace(\"V�lodrome\", \"Vélodrome\")\n",
    "matches_df['Stadium']=matches_df['Stadium'].str.replace('Maracan� - Est�dio Jornalista M�rio Filho', 'Estadio Maracanã')\n",
    "matches_df['Stadium']=matches_df['Stadium'].str.replace('Le�n', 'León')\n",
    "matches_df['Stadium']=matches_df['Stadium'].str.replace(\"Jos� Mar�a\", \"José Maria\")\n",
    "matches_df['Stadium']=matches_df['Stadium'].str.replace(\"Ol�mpico\", \"Olímpico\")\n",
    "matches_df['Stadium']=matches_df['Stadium'].str.replace(\"Bala�dos\", \"Balaídos\")\n",
    "matches_df['Stadium']=matches_df['Stadium'].str.replace(\"Estadio do Maracana\", \"Estadio Maracanã\")\n",
    "\n",
    "# now these words were fixed, you can check runing the unique() again.\n",
    "#matches_df['Stadium'].unique()\n",
    "\n",
    "\n"
   ]
  },
  {
   "cell_type": "code",
   "execution_count": 25,
   "metadata": {
    "scrolled": true
   },
   "outputs": [
    {
     "data": {
      "text/html": [
       "<div>\n",
       "<style scoped>\n",
       "    .dataframe tbody tr th:only-of-type {\n",
       "        vertical-align: middle;\n",
       "    }\n",
       "\n",
       "    .dataframe tbody tr th {\n",
       "        vertical-align: top;\n",
       "    }\n",
       "\n",
       "    .dataframe thead th {\n",
       "        text-align: right;\n",
       "    }\n",
       "</style>\n",
       "<table border=\"1\" class=\"dataframe\">\n",
       "  <thead>\n",
       "    <tr style=\"text-align: right;\">\n",
       "      <th></th>\n",
       "      <th>Year</th>\n",
       "      <th>Country</th>\n",
       "      <th>Winner</th>\n",
       "      <th>Runners-Up</th>\n",
       "      <th>Third</th>\n",
       "      <th>Fourth</th>\n",
       "      <th>GoalsScored</th>\n",
       "      <th>QualifiedTeams</th>\n",
       "      <th>MatchesPlayed</th>\n",
       "      <th>Attendance</th>\n",
       "    </tr>\n",
       "  </thead>\n",
       "  <tbody>\n",
       "    <tr>\n",
       "      <th>0</th>\n",
       "      <td>1930</td>\n",
       "      <td>Uruguay</td>\n",
       "      <td>Uruguay</td>\n",
       "      <td>Argentina</td>\n",
       "      <td>USA</td>\n",
       "      <td>Yugoslavia</td>\n",
       "      <td>70</td>\n",
       "      <td>13</td>\n",
       "      <td>18</td>\n",
       "      <td>590.549</td>\n",
       "    </tr>\n",
       "    <tr>\n",
       "      <th>1</th>\n",
       "      <td>1934</td>\n",
       "      <td>Italy</td>\n",
       "      <td>Italy</td>\n",
       "      <td>Czechoslovakia</td>\n",
       "      <td>Germany</td>\n",
       "      <td>Austria</td>\n",
       "      <td>70</td>\n",
       "      <td>16</td>\n",
       "      <td>17</td>\n",
       "      <td>363.000</td>\n",
       "    </tr>\n",
       "    <tr>\n",
       "      <th>2</th>\n",
       "      <td>1938</td>\n",
       "      <td>France</td>\n",
       "      <td>Italy</td>\n",
       "      <td>Hungary</td>\n",
       "      <td>Brazil</td>\n",
       "      <td>Sweden</td>\n",
       "      <td>84</td>\n",
       "      <td>15</td>\n",
       "      <td>18</td>\n",
       "      <td>375.700</td>\n",
       "    </tr>\n",
       "    <tr>\n",
       "      <th>3</th>\n",
       "      <td>1950</td>\n",
       "      <td>Brazil</td>\n",
       "      <td>Uruguay</td>\n",
       "      <td>Brazil</td>\n",
       "      <td>Sweden</td>\n",
       "      <td>Spain</td>\n",
       "      <td>88</td>\n",
       "      <td>13</td>\n",
       "      <td>22</td>\n",
       "      <td>1.045.246</td>\n",
       "    </tr>\n",
       "    <tr>\n",
       "      <th>4</th>\n",
       "      <td>1954</td>\n",
       "      <td>Switzerland</td>\n",
       "      <td>Germany FR</td>\n",
       "      <td>Hungary</td>\n",
       "      <td>Austria</td>\n",
       "      <td>Uruguay</td>\n",
       "      <td>140</td>\n",
       "      <td>16</td>\n",
       "      <td>26</td>\n",
       "      <td>768.607</td>\n",
       "    </tr>\n",
       "    <tr>\n",
       "      <th>5</th>\n",
       "      <td>1958</td>\n",
       "      <td>Sweden</td>\n",
       "      <td>Brazil</td>\n",
       "      <td>Sweden</td>\n",
       "      <td>France</td>\n",
       "      <td>Germany FR</td>\n",
       "      <td>126</td>\n",
       "      <td>16</td>\n",
       "      <td>35</td>\n",
       "      <td>819.810</td>\n",
       "    </tr>\n",
       "    <tr>\n",
       "      <th>6</th>\n",
       "      <td>1962</td>\n",
       "      <td>Chile</td>\n",
       "      <td>Brazil</td>\n",
       "      <td>Czechoslovakia</td>\n",
       "      <td>Chile</td>\n",
       "      <td>Yugoslavia</td>\n",
       "      <td>89</td>\n",
       "      <td>16</td>\n",
       "      <td>32</td>\n",
       "      <td>893.172</td>\n",
       "    </tr>\n",
       "    <tr>\n",
       "      <th>7</th>\n",
       "      <td>1966</td>\n",
       "      <td>England</td>\n",
       "      <td>England</td>\n",
       "      <td>Germany FR</td>\n",
       "      <td>Portugal</td>\n",
       "      <td>Soviet Union</td>\n",
       "      <td>89</td>\n",
       "      <td>16</td>\n",
       "      <td>32</td>\n",
       "      <td>1.563.135</td>\n",
       "    </tr>\n",
       "    <tr>\n",
       "      <th>8</th>\n",
       "      <td>1970</td>\n",
       "      <td>Mexico</td>\n",
       "      <td>Brazil</td>\n",
       "      <td>Italy</td>\n",
       "      <td>Germany FR</td>\n",
       "      <td>Uruguay</td>\n",
       "      <td>95</td>\n",
       "      <td>16</td>\n",
       "      <td>32</td>\n",
       "      <td>1.603.975</td>\n",
       "    </tr>\n",
       "    <tr>\n",
       "      <th>9</th>\n",
       "      <td>1974</td>\n",
       "      <td>Germany</td>\n",
       "      <td>Germany FR</td>\n",
       "      <td>Netherlands</td>\n",
       "      <td>Poland</td>\n",
       "      <td>Brazil</td>\n",
       "      <td>97</td>\n",
       "      <td>16</td>\n",
       "      <td>38</td>\n",
       "      <td>1.865.753</td>\n",
       "    </tr>\n",
       "    <tr>\n",
       "      <th>10</th>\n",
       "      <td>1978</td>\n",
       "      <td>Argentina</td>\n",
       "      <td>Argentina</td>\n",
       "      <td>Netherlands</td>\n",
       "      <td>Brazil</td>\n",
       "      <td>Italy</td>\n",
       "      <td>102</td>\n",
       "      <td>16</td>\n",
       "      <td>38</td>\n",
       "      <td>1.545.791</td>\n",
       "    </tr>\n",
       "    <tr>\n",
       "      <th>11</th>\n",
       "      <td>1982</td>\n",
       "      <td>Spain</td>\n",
       "      <td>Italy</td>\n",
       "      <td>Germany FR</td>\n",
       "      <td>Poland</td>\n",
       "      <td>France</td>\n",
       "      <td>146</td>\n",
       "      <td>24</td>\n",
       "      <td>52</td>\n",
       "      <td>2.109.723</td>\n",
       "    </tr>\n",
       "    <tr>\n",
       "      <th>12</th>\n",
       "      <td>1986</td>\n",
       "      <td>Mexico</td>\n",
       "      <td>Argentina</td>\n",
       "      <td>Germany FR</td>\n",
       "      <td>France</td>\n",
       "      <td>Belgium</td>\n",
       "      <td>132</td>\n",
       "      <td>24</td>\n",
       "      <td>52</td>\n",
       "      <td>2.394.031</td>\n",
       "    </tr>\n",
       "    <tr>\n",
       "      <th>13</th>\n",
       "      <td>1990</td>\n",
       "      <td>Italy</td>\n",
       "      <td>Germany FR</td>\n",
       "      <td>Argentina</td>\n",
       "      <td>Italy</td>\n",
       "      <td>England</td>\n",
       "      <td>115</td>\n",
       "      <td>24</td>\n",
       "      <td>52</td>\n",
       "      <td>2.516.215</td>\n",
       "    </tr>\n",
       "    <tr>\n",
       "      <th>14</th>\n",
       "      <td>1994</td>\n",
       "      <td>USA</td>\n",
       "      <td>Brazil</td>\n",
       "      <td>Italy</td>\n",
       "      <td>Sweden</td>\n",
       "      <td>Bulgaria</td>\n",
       "      <td>141</td>\n",
       "      <td>24</td>\n",
       "      <td>52</td>\n",
       "      <td>3.587.538</td>\n",
       "    </tr>\n",
       "    <tr>\n",
       "      <th>15</th>\n",
       "      <td>1998</td>\n",
       "      <td>France</td>\n",
       "      <td>France</td>\n",
       "      <td>Brazil</td>\n",
       "      <td>Croatia</td>\n",
       "      <td>Netherlands</td>\n",
       "      <td>171</td>\n",
       "      <td>32</td>\n",
       "      <td>64</td>\n",
       "      <td>2.785.100</td>\n",
       "    </tr>\n",
       "    <tr>\n",
       "      <th>16</th>\n",
       "      <td>2002</td>\n",
       "      <td>Korea/Japan</td>\n",
       "      <td>Brazil</td>\n",
       "      <td>Germany</td>\n",
       "      <td>Turkey</td>\n",
       "      <td>Korea Republic</td>\n",
       "      <td>161</td>\n",
       "      <td>32</td>\n",
       "      <td>64</td>\n",
       "      <td>2.705.197</td>\n",
       "    </tr>\n",
       "    <tr>\n",
       "      <th>17</th>\n",
       "      <td>2006</td>\n",
       "      <td>Germany</td>\n",
       "      <td>Italy</td>\n",
       "      <td>France</td>\n",
       "      <td>Germany</td>\n",
       "      <td>Portugal</td>\n",
       "      <td>147</td>\n",
       "      <td>32</td>\n",
       "      <td>64</td>\n",
       "      <td>3.359.439</td>\n",
       "    </tr>\n",
       "    <tr>\n",
       "      <th>18</th>\n",
       "      <td>2010</td>\n",
       "      <td>South Africa</td>\n",
       "      <td>Spain</td>\n",
       "      <td>Netherlands</td>\n",
       "      <td>Germany</td>\n",
       "      <td>Uruguay</td>\n",
       "      <td>145</td>\n",
       "      <td>32</td>\n",
       "      <td>64</td>\n",
       "      <td>3.178.856</td>\n",
       "    </tr>\n",
       "    <tr>\n",
       "      <th>19</th>\n",
       "      <td>2014</td>\n",
       "      <td>Brazil</td>\n",
       "      <td>Germany</td>\n",
       "      <td>Argentina</td>\n",
       "      <td>Netherlands</td>\n",
       "      <td>Brazil</td>\n",
       "      <td>171</td>\n",
       "      <td>32</td>\n",
       "      <td>64</td>\n",
       "      <td>3.386.810</td>\n",
       "    </tr>\n",
       "  </tbody>\n",
       "</table>\n",
       "</div>"
      ],
      "text/plain": [
       "    Year       Country      Winner      Runners-Up        Third  \\\n",
       "0   1930       Uruguay     Uruguay       Argentina          USA   \n",
       "1   1934         Italy       Italy  Czechoslovakia      Germany   \n",
       "2   1938        France       Italy         Hungary       Brazil   \n",
       "3   1950        Brazil     Uruguay          Brazil       Sweden   \n",
       "4   1954   Switzerland  Germany FR         Hungary      Austria   \n",
       "5   1958        Sweden      Brazil          Sweden       France   \n",
       "6   1962         Chile      Brazil  Czechoslovakia        Chile   \n",
       "7   1966       England     England      Germany FR     Portugal   \n",
       "8   1970        Mexico      Brazil           Italy   Germany FR   \n",
       "9   1974       Germany  Germany FR     Netherlands       Poland   \n",
       "10  1978     Argentina   Argentina     Netherlands       Brazil   \n",
       "11  1982         Spain       Italy      Germany FR       Poland   \n",
       "12  1986        Mexico   Argentina      Germany FR       France   \n",
       "13  1990         Italy  Germany FR       Argentina        Italy   \n",
       "14  1994           USA      Brazil           Italy       Sweden   \n",
       "15  1998        France      France          Brazil      Croatia   \n",
       "16  2002   Korea/Japan      Brazil         Germany       Turkey   \n",
       "17  2006       Germany       Italy          France      Germany   \n",
       "18  2010  South Africa       Spain     Netherlands      Germany   \n",
       "19  2014        Brazil     Germany       Argentina  Netherlands   \n",
       "\n",
       "            Fourth  GoalsScored  QualifiedTeams  MatchesPlayed Attendance  \n",
       "0       Yugoslavia           70              13             18    590.549  \n",
       "1          Austria           70              16             17    363.000  \n",
       "2           Sweden           84              15             18    375.700  \n",
       "3            Spain           88              13             22  1.045.246  \n",
       "4          Uruguay          140              16             26    768.607  \n",
       "5       Germany FR          126              16             35    819.810  \n",
       "6       Yugoslavia           89              16             32    893.172  \n",
       "7     Soviet Union           89              16             32  1.563.135  \n",
       "8          Uruguay           95              16             32  1.603.975  \n",
       "9           Brazil           97              16             38  1.865.753  \n",
       "10           Italy          102              16             38  1.545.791  \n",
       "11          France          146              24             52  2.109.723  \n",
       "12         Belgium          132              24             52  2.394.031  \n",
       "13         England          115              24             52  2.516.215  \n",
       "14        Bulgaria          141              24             52  3.587.538  \n",
       "15     Netherlands          171              32             64  2.785.100  \n",
       "16  Korea Republic          161              32             64  2.705.197  \n",
       "17        Portugal          147              32             64  3.359.439  \n",
       "18         Uruguay          145              32             64  3.178.856  \n",
       "19          Brazil          171              32             64  3.386.810  "
      ]
     },
     "execution_count": 25,
     "metadata": {},
     "output_type": "execute_result"
    }
   ],
   "source": [
    "cups_df"
   ]
  },
  {
   "cell_type": "code",
   "execution_count": 26,
   "metadata": {},
   "outputs": [
    {
     "data": {
      "text/html": [
       "<div>\n",
       "<style scoped>\n",
       "    .dataframe tbody tr th:only-of-type {\n",
       "        vertical-align: middle;\n",
       "    }\n",
       "\n",
       "    .dataframe tbody tr th {\n",
       "        vertical-align: top;\n",
       "    }\n",
       "\n",
       "    .dataframe thead th {\n",
       "        text-align: right;\n",
       "    }\n",
       "</style>\n",
       "<table border=\"1\" class=\"dataframe\">\n",
       "  <thead>\n",
       "    <tr style=\"text-align: right;\">\n",
       "      <th></th>\n",
       "      <th>Year</th>\n",
       "      <th>Country</th>\n",
       "      <th>Winner</th>\n",
       "      <th>Runners-Up</th>\n",
       "      <th>Third</th>\n",
       "      <th>Fourth</th>\n",
       "      <th>GoalsScored</th>\n",
       "      <th>QualifiedTeams</th>\n",
       "      <th>MatchesPlayed</th>\n",
       "      <th>Attendance</th>\n",
       "    </tr>\n",
       "  </thead>\n",
       "  <tbody>\n",
       "    <tr>\n",
       "      <th>0</th>\n",
       "      <td>1930</td>\n",
       "      <td>Uruguay</td>\n",
       "      <td>Uruguay</td>\n",
       "      <td>Argentina</td>\n",
       "      <td>USA</td>\n",
       "      <td>Yugoslavia</td>\n",
       "      <td>70</td>\n",
       "      <td>13</td>\n",
       "      <td>18</td>\n",
       "      <td>590.549</td>\n",
       "    </tr>\n",
       "    <tr>\n",
       "      <th>1</th>\n",
       "      <td>1934</td>\n",
       "      <td>Italy</td>\n",
       "      <td>Italy</td>\n",
       "      <td>Czechoslovakia</td>\n",
       "      <td>Germany</td>\n",
       "      <td>Austria</td>\n",
       "      <td>70</td>\n",
       "      <td>16</td>\n",
       "      <td>17</td>\n",
       "      <td>363.000</td>\n",
       "    </tr>\n",
       "    <tr>\n",
       "      <th>2</th>\n",
       "      <td>1938</td>\n",
       "      <td>France</td>\n",
       "      <td>Italy</td>\n",
       "      <td>Hungary</td>\n",
       "      <td>Brazil</td>\n",
       "      <td>Sweden</td>\n",
       "      <td>84</td>\n",
       "      <td>15</td>\n",
       "      <td>18</td>\n",
       "      <td>375.700</td>\n",
       "    </tr>\n",
       "    <tr>\n",
       "      <th>3</th>\n",
       "      <td>1950</td>\n",
       "      <td>Brazil</td>\n",
       "      <td>Uruguay</td>\n",
       "      <td>Brazil</td>\n",
       "      <td>Sweden</td>\n",
       "      <td>Spain</td>\n",
       "      <td>88</td>\n",
       "      <td>13</td>\n",
       "      <td>22</td>\n",
       "      <td>1.045.246</td>\n",
       "    </tr>\n",
       "    <tr>\n",
       "      <th>4</th>\n",
       "      <td>1954</td>\n",
       "      <td>Switzerland</td>\n",
       "      <td>Germany</td>\n",
       "      <td>Hungary</td>\n",
       "      <td>Austria</td>\n",
       "      <td>Uruguay</td>\n",
       "      <td>140</td>\n",
       "      <td>16</td>\n",
       "      <td>26</td>\n",
       "      <td>768.607</td>\n",
       "    </tr>\n",
       "    <tr>\n",
       "      <th>5</th>\n",
       "      <td>1958</td>\n",
       "      <td>Sweden</td>\n",
       "      <td>Brazil</td>\n",
       "      <td>Sweden</td>\n",
       "      <td>France</td>\n",
       "      <td>Germany</td>\n",
       "      <td>126</td>\n",
       "      <td>16</td>\n",
       "      <td>35</td>\n",
       "      <td>819.810</td>\n",
       "    </tr>\n",
       "    <tr>\n",
       "      <th>6</th>\n",
       "      <td>1962</td>\n",
       "      <td>Chile</td>\n",
       "      <td>Brazil</td>\n",
       "      <td>Czechoslovakia</td>\n",
       "      <td>Chile</td>\n",
       "      <td>Yugoslavia</td>\n",
       "      <td>89</td>\n",
       "      <td>16</td>\n",
       "      <td>32</td>\n",
       "      <td>893.172</td>\n",
       "    </tr>\n",
       "    <tr>\n",
       "      <th>7</th>\n",
       "      <td>1966</td>\n",
       "      <td>England</td>\n",
       "      <td>England</td>\n",
       "      <td>Germany</td>\n",
       "      <td>Portugal</td>\n",
       "      <td>Soviet Union</td>\n",
       "      <td>89</td>\n",
       "      <td>16</td>\n",
       "      <td>32</td>\n",
       "      <td>1.563.135</td>\n",
       "    </tr>\n",
       "    <tr>\n",
       "      <th>8</th>\n",
       "      <td>1970</td>\n",
       "      <td>Mexico</td>\n",
       "      <td>Brazil</td>\n",
       "      <td>Italy</td>\n",
       "      <td>Germany</td>\n",
       "      <td>Uruguay</td>\n",
       "      <td>95</td>\n",
       "      <td>16</td>\n",
       "      <td>32</td>\n",
       "      <td>1.603.975</td>\n",
       "    </tr>\n",
       "    <tr>\n",
       "      <th>9</th>\n",
       "      <td>1974</td>\n",
       "      <td>Germany</td>\n",
       "      <td>Germany</td>\n",
       "      <td>Netherlands</td>\n",
       "      <td>Poland</td>\n",
       "      <td>Brazil</td>\n",
       "      <td>97</td>\n",
       "      <td>16</td>\n",
       "      <td>38</td>\n",
       "      <td>1.865.753</td>\n",
       "    </tr>\n",
       "    <tr>\n",
       "      <th>10</th>\n",
       "      <td>1978</td>\n",
       "      <td>Argentina</td>\n",
       "      <td>Argentina</td>\n",
       "      <td>Netherlands</td>\n",
       "      <td>Brazil</td>\n",
       "      <td>Italy</td>\n",
       "      <td>102</td>\n",
       "      <td>16</td>\n",
       "      <td>38</td>\n",
       "      <td>1.545.791</td>\n",
       "    </tr>\n",
       "    <tr>\n",
       "      <th>11</th>\n",
       "      <td>1982</td>\n",
       "      <td>Spain</td>\n",
       "      <td>Italy</td>\n",
       "      <td>Germany</td>\n",
       "      <td>Poland</td>\n",
       "      <td>France</td>\n",
       "      <td>146</td>\n",
       "      <td>24</td>\n",
       "      <td>52</td>\n",
       "      <td>2.109.723</td>\n",
       "    </tr>\n",
       "    <tr>\n",
       "      <th>12</th>\n",
       "      <td>1986</td>\n",
       "      <td>Mexico</td>\n",
       "      <td>Argentina</td>\n",
       "      <td>Germany</td>\n",
       "      <td>France</td>\n",
       "      <td>Belgium</td>\n",
       "      <td>132</td>\n",
       "      <td>24</td>\n",
       "      <td>52</td>\n",
       "      <td>2.394.031</td>\n",
       "    </tr>\n",
       "    <tr>\n",
       "      <th>13</th>\n",
       "      <td>1990</td>\n",
       "      <td>Italy</td>\n",
       "      <td>Germany</td>\n",
       "      <td>Argentina</td>\n",
       "      <td>Italy</td>\n",
       "      <td>England</td>\n",
       "      <td>115</td>\n",
       "      <td>24</td>\n",
       "      <td>52</td>\n",
       "      <td>2.516.215</td>\n",
       "    </tr>\n",
       "    <tr>\n",
       "      <th>14</th>\n",
       "      <td>1994</td>\n",
       "      <td>USA</td>\n",
       "      <td>Brazil</td>\n",
       "      <td>Italy</td>\n",
       "      <td>Sweden</td>\n",
       "      <td>Bulgaria</td>\n",
       "      <td>141</td>\n",
       "      <td>24</td>\n",
       "      <td>52</td>\n",
       "      <td>3.587.538</td>\n",
       "    </tr>\n",
       "    <tr>\n",
       "      <th>15</th>\n",
       "      <td>1998</td>\n",
       "      <td>France</td>\n",
       "      <td>France</td>\n",
       "      <td>Brazil</td>\n",
       "      <td>Croatia</td>\n",
       "      <td>Netherlands</td>\n",
       "      <td>171</td>\n",
       "      <td>32</td>\n",
       "      <td>64</td>\n",
       "      <td>2.785.100</td>\n",
       "    </tr>\n",
       "    <tr>\n",
       "      <th>16</th>\n",
       "      <td>2002</td>\n",
       "      <td>Korea/Japan</td>\n",
       "      <td>Brazil</td>\n",
       "      <td>Germany</td>\n",
       "      <td>Turkey</td>\n",
       "      <td>Korea Republic</td>\n",
       "      <td>161</td>\n",
       "      <td>32</td>\n",
       "      <td>64</td>\n",
       "      <td>2.705.197</td>\n",
       "    </tr>\n",
       "    <tr>\n",
       "      <th>17</th>\n",
       "      <td>2006</td>\n",
       "      <td>Germany</td>\n",
       "      <td>Italy</td>\n",
       "      <td>France</td>\n",
       "      <td>Germany</td>\n",
       "      <td>Portugal</td>\n",
       "      <td>147</td>\n",
       "      <td>32</td>\n",
       "      <td>64</td>\n",
       "      <td>3.359.439</td>\n",
       "    </tr>\n",
       "    <tr>\n",
       "      <th>18</th>\n",
       "      <td>2010</td>\n",
       "      <td>South Africa</td>\n",
       "      <td>Spain</td>\n",
       "      <td>Netherlands</td>\n",
       "      <td>Germany</td>\n",
       "      <td>Uruguay</td>\n",
       "      <td>145</td>\n",
       "      <td>32</td>\n",
       "      <td>64</td>\n",
       "      <td>3.178.856</td>\n",
       "    </tr>\n",
       "    <tr>\n",
       "      <th>19</th>\n",
       "      <td>2014</td>\n",
       "      <td>Brazil</td>\n",
       "      <td>Germany</td>\n",
       "      <td>Argentina</td>\n",
       "      <td>Netherlands</td>\n",
       "      <td>Brazil</td>\n",
       "      <td>171</td>\n",
       "      <td>32</td>\n",
       "      <td>64</td>\n",
       "      <td>3.386.810</td>\n",
       "    </tr>\n",
       "  </tbody>\n",
       "</table>\n",
       "</div>"
      ],
      "text/plain": [
       "    Year       Country     Winner      Runners-Up        Third  \\\n",
       "0   1930       Uruguay    Uruguay       Argentina          USA   \n",
       "1   1934         Italy      Italy  Czechoslovakia      Germany   \n",
       "2   1938        France      Italy         Hungary       Brazil   \n",
       "3   1950        Brazil    Uruguay          Brazil       Sweden   \n",
       "4   1954   Switzerland    Germany         Hungary      Austria   \n",
       "5   1958        Sweden     Brazil          Sweden       France   \n",
       "6   1962         Chile     Brazil  Czechoslovakia        Chile   \n",
       "7   1966       England    England         Germany     Portugal   \n",
       "8   1970        Mexico     Brazil           Italy      Germany   \n",
       "9   1974       Germany    Germany     Netherlands       Poland   \n",
       "10  1978     Argentina  Argentina     Netherlands       Brazil   \n",
       "11  1982         Spain      Italy         Germany       Poland   \n",
       "12  1986        Mexico  Argentina         Germany       France   \n",
       "13  1990         Italy    Germany       Argentina        Italy   \n",
       "14  1994           USA     Brazil           Italy       Sweden   \n",
       "15  1998        France     France          Brazil      Croatia   \n",
       "16  2002   Korea/Japan     Brazil         Germany       Turkey   \n",
       "17  2006       Germany      Italy          France      Germany   \n",
       "18  2010  South Africa      Spain     Netherlands      Germany   \n",
       "19  2014        Brazil    Germany       Argentina  Netherlands   \n",
       "\n",
       "            Fourth  GoalsScored  QualifiedTeams  MatchesPlayed Attendance  \n",
       "0       Yugoslavia           70              13             18    590.549  \n",
       "1          Austria           70              16             17    363.000  \n",
       "2           Sweden           84              15             18    375.700  \n",
       "3            Spain           88              13             22  1.045.246  \n",
       "4          Uruguay          140              16             26    768.607  \n",
       "5          Germany          126              16             35    819.810  \n",
       "6       Yugoslavia           89              16             32    893.172  \n",
       "7     Soviet Union           89              16             32  1.563.135  \n",
       "8          Uruguay           95              16             32  1.603.975  \n",
       "9           Brazil           97              16             38  1.865.753  \n",
       "10           Italy          102              16             38  1.545.791  \n",
       "11          France          146              24             52  2.109.723  \n",
       "12         Belgium          132              24             52  2.394.031  \n",
       "13         England          115              24             52  2.516.215  \n",
       "14        Bulgaria          141              24             52  3.587.538  \n",
       "15     Netherlands          171              32             64  2.785.100  \n",
       "16  Korea Republic          161              32             64  2.705.197  \n",
       "17        Portugal          147              32             64  3.359.439  \n",
       "18         Uruguay          145              32             64  3.178.856  \n",
       "19          Brazil          171              32             64  3.386.810  "
      ]
     },
     "execution_count": 26,
     "metadata": {},
     "output_type": "execute_result"
    }
   ],
   "source": [
    "#We have to fix the names on cupd_df as well.\n",
    "#  'Germany FR' = 'Germany'\n",
    "#  Lets use a For loop to change in each column.\n",
    "\n",
    "columns = ('Country','Winner','Runners-Up','Third','Fourth')\n",
    "for column in columns:\n",
    "    cups_df[column]=cups_df[column].str.replace('Germany FR', \"Germany\")\n",
    "\n",
    "cups_df\n"
   ]
  },
  {
   "cell_type": "markdown",
   "metadata": {},
   "source": [
    "# Visualization:\n",
    "Now we have the dataframes cleaned, we can do some analysis.:\n",
    "\n",
    "\n",
    "## The most World Cup trophies won - Plot\n",
    "Lets plot a bar chart with the champions"
   ]
  },
  {
   "cell_type": "code",
   "execution_count": 27,
   "metadata": {},
   "outputs": [
    {
     "data": {
      "text/plain": [
       "Winner\n",
       "Brazil       5\n",
       "Italy        4\n",
       "Germany      4\n",
       "Uruguay      2\n",
       "Argentina    2\n",
       "England      1\n",
       "France       1\n",
       "Spain        1\n",
       "Name: count, dtype: int64"
      ]
     },
     "execution_count": 27,
     "metadata": {},
     "output_type": "execute_result"
    }
   ],
   "source": [
    "\n",
    "winners = cups_df['Winner'].value_counts()\n",
    "winners"
   ]
  },
  {
   "cell_type": "code",
   "execution_count": 28,
   "metadata": {},
   "outputs": [
    {
     "data": {
      "text/plain": [
       "Runners-Up\n",
       "Germany           4\n",
       "Argentina         3\n",
       "Netherlands       3\n",
       "Czechoslovakia    2\n",
       "Hungary           2\n",
       "Brazil            2\n",
       "Italy             2\n",
       "Sweden            1\n",
       "France            1\n",
       "Name: count, dtype: int64"
      ]
     },
     "execution_count": 28,
     "metadata": {},
     "output_type": "execute_result"
    }
   ],
   "source": [
    "runnerup =  cups_df['Runners-Up'].value_counts()\n",
    "runnerup"
   ]
  },
  {
   "cell_type": "code",
   "execution_count": 29,
   "metadata": {},
   "outputs": [
    {
     "data": {
      "text/plain": [
       "Third\n",
       "Germany        4\n",
       "Brazil         2\n",
       "Sweden         2\n",
       "France         2\n",
       "Poland         2\n",
       "USA            1\n",
       "Austria        1\n",
       "Chile          1\n",
       "Portugal       1\n",
       "Italy          1\n",
       "Croatia        1\n",
       "Turkey         1\n",
       "Netherlands    1\n",
       "Name: count, dtype: int64"
      ]
     },
     "execution_count": 29,
     "metadata": {},
     "output_type": "execute_result"
    }
   ],
   "source": [
    "\n",
    "third = cups_df['Third'].value_counts()\n",
    "third"
   ]
  },
  {
   "cell_type": "code",
   "execution_count": null,
   "metadata": {},
   "outputs": [],
   "source": []
  },
  {
   "cell_type": "code",
   "execution_count": 30,
   "metadata": {},
   "outputs": [
    {
     "data": {
      "text/html": [
       "<div>\n",
       "<style scoped>\n",
       "    .dataframe tbody tr th:only-of-type {\n",
       "        vertical-align: middle;\n",
       "    }\n",
       "\n",
       "    .dataframe tbody tr th {\n",
       "        vertical-align: top;\n",
       "    }\n",
       "\n",
       "    .dataframe thead th {\n",
       "        text-align: right;\n",
       "    }\n",
       "</style>\n",
       "<table border=\"1\" class=\"dataframe\">\n",
       "  <thead>\n",
       "    <tr style=\"text-align: right;\">\n",
       "      <th></th>\n",
       "      <th>count</th>\n",
       "      <th>count</th>\n",
       "      <th>count</th>\n",
       "    </tr>\n",
       "  </thead>\n",
       "  <tbody>\n",
       "    <tr>\n",
       "      <th>Brazil</th>\n",
       "      <td>5.0</td>\n",
       "      <td>2.0</td>\n",
       "      <td>2.0</td>\n",
       "    </tr>\n",
       "    <tr>\n",
       "      <th>Italy</th>\n",
       "      <td>4.0</td>\n",
       "      <td>2.0</td>\n",
       "      <td>1.0</td>\n",
       "    </tr>\n",
       "    <tr>\n",
       "      <th>Germany</th>\n",
       "      <td>4.0</td>\n",
       "      <td>4.0</td>\n",
       "      <td>4.0</td>\n",
       "    </tr>\n",
       "    <tr>\n",
       "      <th>Uruguay</th>\n",
       "      <td>2.0</td>\n",
       "      <td>NaN</td>\n",
       "      <td>NaN</td>\n",
       "    </tr>\n",
       "    <tr>\n",
       "      <th>Argentina</th>\n",
       "      <td>2.0</td>\n",
       "      <td>3.0</td>\n",
       "      <td>NaN</td>\n",
       "    </tr>\n",
       "    <tr>\n",
       "      <th>England</th>\n",
       "      <td>1.0</td>\n",
       "      <td>NaN</td>\n",
       "      <td>NaN</td>\n",
       "    </tr>\n",
       "    <tr>\n",
       "      <th>France</th>\n",
       "      <td>1.0</td>\n",
       "      <td>1.0</td>\n",
       "      <td>2.0</td>\n",
       "    </tr>\n",
       "    <tr>\n",
       "      <th>Spain</th>\n",
       "      <td>1.0</td>\n",
       "      <td>NaN</td>\n",
       "      <td>NaN</td>\n",
       "    </tr>\n",
       "    <tr>\n",
       "      <th>Netherlands</th>\n",
       "      <td>NaN</td>\n",
       "      <td>3.0</td>\n",
       "      <td>1.0</td>\n",
       "    </tr>\n",
       "    <tr>\n",
       "      <th>Czechoslovakia</th>\n",
       "      <td>NaN</td>\n",
       "      <td>2.0</td>\n",
       "      <td>NaN</td>\n",
       "    </tr>\n",
       "    <tr>\n",
       "      <th>Hungary</th>\n",
       "      <td>NaN</td>\n",
       "      <td>2.0</td>\n",
       "      <td>NaN</td>\n",
       "    </tr>\n",
       "    <tr>\n",
       "      <th>Sweden</th>\n",
       "      <td>NaN</td>\n",
       "      <td>1.0</td>\n",
       "      <td>2.0</td>\n",
       "    </tr>\n",
       "    <tr>\n",
       "      <th>Poland</th>\n",
       "      <td>NaN</td>\n",
       "      <td>NaN</td>\n",
       "      <td>2.0</td>\n",
       "    </tr>\n",
       "    <tr>\n",
       "      <th>USA</th>\n",
       "      <td>NaN</td>\n",
       "      <td>NaN</td>\n",
       "      <td>1.0</td>\n",
       "    </tr>\n",
       "    <tr>\n",
       "      <th>Austria</th>\n",
       "      <td>NaN</td>\n",
       "      <td>NaN</td>\n",
       "      <td>1.0</td>\n",
       "    </tr>\n",
       "    <tr>\n",
       "      <th>Chile</th>\n",
       "      <td>NaN</td>\n",
       "      <td>NaN</td>\n",
       "      <td>1.0</td>\n",
       "    </tr>\n",
       "    <tr>\n",
       "      <th>Portugal</th>\n",
       "      <td>NaN</td>\n",
       "      <td>NaN</td>\n",
       "      <td>1.0</td>\n",
       "    </tr>\n",
       "    <tr>\n",
       "      <th>Croatia</th>\n",
       "      <td>NaN</td>\n",
       "      <td>NaN</td>\n",
       "      <td>1.0</td>\n",
       "    </tr>\n",
       "    <tr>\n",
       "      <th>Turkey</th>\n",
       "      <td>NaN</td>\n",
       "      <td>NaN</td>\n",
       "      <td>1.0</td>\n",
       "    </tr>\n",
       "  </tbody>\n",
       "</table>\n",
       "</div>"
      ],
      "text/plain": [
       "                count  count  count\n",
       "Brazil            5.0    2.0    2.0\n",
       "Italy             4.0    2.0    1.0\n",
       "Germany           4.0    4.0    4.0\n",
       "Uruguay           2.0    NaN    NaN\n",
       "Argentina         2.0    3.0    NaN\n",
       "England           1.0    NaN    NaN\n",
       "France            1.0    1.0    2.0\n",
       "Spain             1.0    NaN    NaN\n",
       "Netherlands       NaN    3.0    1.0\n",
       "Czechoslovakia    NaN    2.0    NaN\n",
       "Hungary           NaN    2.0    NaN\n",
       "Sweden            NaN    1.0    2.0\n",
       "Poland            NaN    NaN    2.0\n",
       "USA               NaN    NaN    1.0\n",
       "Austria           NaN    NaN    1.0\n",
       "Chile             NaN    NaN    1.0\n",
       "Portugal          NaN    NaN    1.0\n",
       "Croatia           NaN    NaN    1.0\n",
       "Turkey            NaN    NaN    1.0"
      ]
     },
     "execution_count": 30,
     "metadata": {},
     "output_type": "execute_result"
    }
   ],
   "source": [
    "teams=pd.DataFrame()\n",
    "teams= pd.concat([winners, runnerup, third], axis = 1)\n",
    "#teams=teams.reset_index()\n",
    "teams\n"
   ]
  },
  {
   "cell_type": "code",
   "execution_count": 31,
   "metadata": {},
   "outputs": [
    {
     "data": {
      "text/html": [
       "<div>\n",
       "<style scoped>\n",
       "    .dataframe tbody tr th:only-of-type {\n",
       "        vertical-align: middle;\n",
       "    }\n",
       "\n",
       "    .dataframe tbody tr th {\n",
       "        vertical-align: top;\n",
       "    }\n",
       "\n",
       "    .dataframe thead th {\n",
       "        text-align: right;\n",
       "    }\n",
       "</style>\n",
       "<table border=\"1\" class=\"dataframe\">\n",
       "  <thead>\n",
       "    <tr style=\"text-align: right;\">\n",
       "      <th></th>\n",
       "      <th>winners</th>\n",
       "      <th>runnerup</th>\n",
       "      <th>third</th>\n",
       "    </tr>\n",
       "  </thead>\n",
       "  <tbody>\n",
       "    <tr>\n",
       "      <th>Brazil</th>\n",
       "      <td>5.0</td>\n",
       "      <td>2.0</td>\n",
       "      <td>2.0</td>\n",
       "    </tr>\n",
       "    <tr>\n",
       "      <th>Italy</th>\n",
       "      <td>4.0</td>\n",
       "      <td>2.0</td>\n",
       "      <td>1.0</td>\n",
       "    </tr>\n",
       "    <tr>\n",
       "      <th>Germany</th>\n",
       "      <td>4.0</td>\n",
       "      <td>4.0</td>\n",
       "      <td>4.0</td>\n",
       "    </tr>\n",
       "    <tr>\n",
       "      <th>Uruguay</th>\n",
       "      <td>2.0</td>\n",
       "      <td>0.0</td>\n",
       "      <td>0.0</td>\n",
       "    </tr>\n",
       "    <tr>\n",
       "      <th>Argentina</th>\n",
       "      <td>2.0</td>\n",
       "      <td>3.0</td>\n",
       "      <td>0.0</td>\n",
       "    </tr>\n",
       "    <tr>\n",
       "      <th>England</th>\n",
       "      <td>1.0</td>\n",
       "      <td>0.0</td>\n",
       "      <td>0.0</td>\n",
       "    </tr>\n",
       "    <tr>\n",
       "      <th>France</th>\n",
       "      <td>1.0</td>\n",
       "      <td>1.0</td>\n",
       "      <td>2.0</td>\n",
       "    </tr>\n",
       "    <tr>\n",
       "      <th>Spain</th>\n",
       "      <td>1.0</td>\n",
       "      <td>0.0</td>\n",
       "      <td>0.0</td>\n",
       "    </tr>\n",
       "    <tr>\n",
       "      <th>Netherlands</th>\n",
       "      <td>0.0</td>\n",
       "      <td>3.0</td>\n",
       "      <td>1.0</td>\n",
       "    </tr>\n",
       "    <tr>\n",
       "      <th>Czechoslovakia</th>\n",
       "      <td>0.0</td>\n",
       "      <td>2.0</td>\n",
       "      <td>0.0</td>\n",
       "    </tr>\n",
       "    <tr>\n",
       "      <th>Hungary</th>\n",
       "      <td>0.0</td>\n",
       "      <td>2.0</td>\n",
       "      <td>0.0</td>\n",
       "    </tr>\n",
       "    <tr>\n",
       "      <th>Sweden</th>\n",
       "      <td>0.0</td>\n",
       "      <td>1.0</td>\n",
       "      <td>2.0</td>\n",
       "    </tr>\n",
       "    <tr>\n",
       "      <th>Poland</th>\n",
       "      <td>0.0</td>\n",
       "      <td>0.0</td>\n",
       "      <td>2.0</td>\n",
       "    </tr>\n",
       "    <tr>\n",
       "      <th>USA</th>\n",
       "      <td>0.0</td>\n",
       "      <td>0.0</td>\n",
       "      <td>1.0</td>\n",
       "    </tr>\n",
       "    <tr>\n",
       "      <th>Austria</th>\n",
       "      <td>0.0</td>\n",
       "      <td>0.0</td>\n",
       "      <td>1.0</td>\n",
       "    </tr>\n",
       "    <tr>\n",
       "      <th>Chile</th>\n",
       "      <td>0.0</td>\n",
       "      <td>0.0</td>\n",
       "      <td>1.0</td>\n",
       "    </tr>\n",
       "    <tr>\n",
       "      <th>Portugal</th>\n",
       "      <td>0.0</td>\n",
       "      <td>0.0</td>\n",
       "      <td>1.0</td>\n",
       "    </tr>\n",
       "    <tr>\n",
       "      <th>Croatia</th>\n",
       "      <td>0.0</td>\n",
       "      <td>0.0</td>\n",
       "      <td>1.0</td>\n",
       "    </tr>\n",
       "    <tr>\n",
       "      <th>Turkey</th>\n",
       "      <td>0.0</td>\n",
       "      <td>0.0</td>\n",
       "      <td>1.0</td>\n",
       "    </tr>\n",
       "  </tbody>\n",
       "</table>\n",
       "</div>"
      ],
      "text/plain": [
       "                winners  runnerup  third\n",
       "Brazil              5.0       2.0    2.0\n",
       "Italy               4.0       2.0    1.0\n",
       "Germany             4.0       4.0    4.0\n",
       "Uruguay             2.0       0.0    0.0\n",
       "Argentina           2.0       3.0    0.0\n",
       "England             1.0       0.0    0.0\n",
       "France              1.0       1.0    2.0\n",
       "Spain               1.0       0.0    0.0\n",
       "Netherlands         0.0       3.0    1.0\n",
       "Czechoslovakia      0.0       2.0    0.0\n",
       "Hungary             0.0       2.0    0.0\n",
       "Sweden              0.0       1.0    2.0\n",
       "Poland              0.0       0.0    2.0\n",
       "USA                 0.0       0.0    1.0\n",
       "Austria             0.0       0.0    1.0\n",
       "Chile               0.0       0.0    1.0\n",
       "Portugal            0.0       0.0    1.0\n",
       "Croatia             0.0       0.0    1.0\n",
       "Turkey              0.0       0.0    1.0"
      ]
     },
     "execution_count": 31,
     "metadata": {},
     "output_type": "execute_result"
    }
   ],
   "source": [
    "teams['winners']=teams.iloc[:, 0:1].values\n",
    "teams['runnerup']=teams.iloc[:, 1:2].values\n",
    "teams['third']=teams.iloc[:, 2:3].values\n",
    "teams=teams[['winners','runnerup','third']]\n",
    "teams=teams.fillna(0)\n",
    "teams"
   ]
  },
  {
   "cell_type": "code",
   "execution_count": 32,
   "metadata": {},
   "outputs": [
    {
     "data": {
      "application/vnd.plotly.v1+json": {
       "config": {
        "linkText": "Export to plot.ly",
        "plotlyServerURL": "https://plot.ly",
        "showLink": true
       },
       "data": [
        {
         "marker": {
          "color": "rgba(255, 153, 51, 0.6)",
          "line": {
           "color": "rgba(255, 153, 51, 1.0)",
           "width": 1
          }
         },
         "name": "winners",
         "orientation": "v",
         "text": "",
         "type": "bar",
         "x": [
          "Brazil",
          "Italy",
          "Germany",
          "Uruguay",
          "Argentina",
          "England",
          "France",
          "Spain",
          "Netherlands",
          "Czechoslovakia",
          "Hungary",
          "Sweden",
          "Poland",
          "USA",
          "Austria",
          "Chile",
          "Portugal",
          "Croatia",
          "Turkey"
         ],
         "y": [
          5,
          4,
          4,
          2,
          2,
          1,
          1,
          1,
          0,
          0,
          0,
          0,
          0,
          0,
          0,
          0,
          0,
          0,
          0
         ]
        },
        {
         "marker": {
          "color": "rgba(55, 128, 191, 0.6)",
          "line": {
           "color": "rgba(55, 128, 191, 1.0)",
           "width": 1
          }
         },
         "name": "runnerup",
         "orientation": "v",
         "text": "",
         "type": "bar",
         "x": [
          "Brazil",
          "Italy",
          "Germany",
          "Uruguay",
          "Argentina",
          "England",
          "France",
          "Spain",
          "Netherlands",
          "Czechoslovakia",
          "Hungary",
          "Sweden",
          "Poland",
          "USA",
          "Austria",
          "Chile",
          "Portugal",
          "Croatia",
          "Turkey"
         ],
         "y": [
          2,
          2,
          4,
          0,
          3,
          0,
          1,
          0,
          3,
          2,
          2,
          1,
          0,
          0,
          0,
          0,
          0,
          0,
          0
         ]
        },
        {
         "marker": {
          "color": "rgba(50, 171, 96, 0.6)",
          "line": {
           "color": "rgba(50, 171, 96, 1.0)",
           "width": 1
          }
         },
         "name": "third",
         "orientation": "v",
         "text": "",
         "type": "bar",
         "x": [
          "Brazil",
          "Italy",
          "Germany",
          "Uruguay",
          "Argentina",
          "England",
          "France",
          "Spain",
          "Netherlands",
          "Czechoslovakia",
          "Hungary",
          "Sweden",
          "Poland",
          "USA",
          "Austria",
          "Chile",
          "Portugal",
          "Croatia",
          "Turkey"
         ],
         "y": [
          2,
          1,
          4,
          0,
          0,
          0,
          2,
          0,
          1,
          0,
          0,
          2,
          2,
          1,
          1,
          1,
          1,
          1,
          1
         ]
        }
       ],
       "layout": {
        "legend": {
         "bgcolor": "#F5F6F9",
         "font": {
          "color": "#4D5663"
         }
        },
        "paper_bgcolor": "#F5F6F9",
        "plot_bgcolor": "#F5F6F9",
        "template": {
         "data": {
          "bar": [
           {
            "error_x": {
             "color": "#2a3f5f"
            },
            "error_y": {
             "color": "#2a3f5f"
            },
            "marker": {
             "line": {
              "color": "#E5ECF6",
              "width": 0.5
             },
             "pattern": {
              "fillmode": "overlay",
              "size": 10,
              "solidity": 0.2
             }
            },
            "type": "bar"
           }
          ],
          "barpolar": [
           {
            "marker": {
             "line": {
              "color": "#E5ECF6",
              "width": 0.5
             },
             "pattern": {
              "fillmode": "overlay",
              "size": 10,
              "solidity": 0.2
             }
            },
            "type": "barpolar"
           }
          ],
          "carpet": [
           {
            "aaxis": {
             "endlinecolor": "#2a3f5f",
             "gridcolor": "white",
             "linecolor": "white",
             "minorgridcolor": "white",
             "startlinecolor": "#2a3f5f"
            },
            "baxis": {
             "endlinecolor": "#2a3f5f",
             "gridcolor": "white",
             "linecolor": "white",
             "minorgridcolor": "white",
             "startlinecolor": "#2a3f5f"
            },
            "type": "carpet"
           }
          ],
          "choropleth": [
           {
            "colorbar": {
             "outlinewidth": 0,
             "ticks": ""
            },
            "type": "choropleth"
           }
          ],
          "contour": [
           {
            "colorbar": {
             "outlinewidth": 0,
             "ticks": ""
            },
            "colorscale": [
             [
              0,
              "#0d0887"
             ],
             [
              0.1111111111111111,
              "#46039f"
             ],
             [
              0.2222222222222222,
              "#7201a8"
             ],
             [
              0.3333333333333333,
              "#9c179e"
             ],
             [
              0.4444444444444444,
              "#bd3786"
             ],
             [
              0.5555555555555556,
              "#d8576b"
             ],
             [
              0.6666666666666666,
              "#ed7953"
             ],
             [
              0.7777777777777778,
              "#fb9f3a"
             ],
             [
              0.8888888888888888,
              "#fdca26"
             ],
             [
              1,
              "#f0f921"
             ]
            ],
            "type": "contour"
           }
          ],
          "contourcarpet": [
           {
            "colorbar": {
             "outlinewidth": 0,
             "ticks": ""
            },
            "type": "contourcarpet"
           }
          ],
          "heatmap": [
           {
            "colorbar": {
             "outlinewidth": 0,
             "ticks": ""
            },
            "colorscale": [
             [
              0,
              "#0d0887"
             ],
             [
              0.1111111111111111,
              "#46039f"
             ],
             [
              0.2222222222222222,
              "#7201a8"
             ],
             [
              0.3333333333333333,
              "#9c179e"
             ],
             [
              0.4444444444444444,
              "#bd3786"
             ],
             [
              0.5555555555555556,
              "#d8576b"
             ],
             [
              0.6666666666666666,
              "#ed7953"
             ],
             [
              0.7777777777777778,
              "#fb9f3a"
             ],
             [
              0.8888888888888888,
              "#fdca26"
             ],
             [
              1,
              "#f0f921"
             ]
            ],
            "type": "heatmap"
           }
          ],
          "heatmapgl": [
           {
            "colorbar": {
             "outlinewidth": 0,
             "ticks": ""
            },
            "colorscale": [
             [
              0,
              "#0d0887"
             ],
             [
              0.1111111111111111,
              "#46039f"
             ],
             [
              0.2222222222222222,
              "#7201a8"
             ],
             [
              0.3333333333333333,
              "#9c179e"
             ],
             [
              0.4444444444444444,
              "#bd3786"
             ],
             [
              0.5555555555555556,
              "#d8576b"
             ],
             [
              0.6666666666666666,
              "#ed7953"
             ],
             [
              0.7777777777777778,
              "#fb9f3a"
             ],
             [
              0.8888888888888888,
              "#fdca26"
             ],
             [
              1,
              "#f0f921"
             ]
            ],
            "type": "heatmapgl"
           }
          ],
          "histogram": [
           {
            "marker": {
             "pattern": {
              "fillmode": "overlay",
              "size": 10,
              "solidity": 0.2
             }
            },
            "type": "histogram"
           }
          ],
          "histogram2d": [
           {
            "colorbar": {
             "outlinewidth": 0,
             "ticks": ""
            },
            "colorscale": [
             [
              0,
              "#0d0887"
             ],
             [
              0.1111111111111111,
              "#46039f"
             ],
             [
              0.2222222222222222,
              "#7201a8"
             ],
             [
              0.3333333333333333,
              "#9c179e"
             ],
             [
              0.4444444444444444,
              "#bd3786"
             ],
             [
              0.5555555555555556,
              "#d8576b"
             ],
             [
              0.6666666666666666,
              "#ed7953"
             ],
             [
              0.7777777777777778,
              "#fb9f3a"
             ],
             [
              0.8888888888888888,
              "#fdca26"
             ],
             [
              1,
              "#f0f921"
             ]
            ],
            "type": "histogram2d"
           }
          ],
          "histogram2dcontour": [
           {
            "colorbar": {
             "outlinewidth": 0,
             "ticks": ""
            },
            "colorscale": [
             [
              0,
              "#0d0887"
             ],
             [
              0.1111111111111111,
              "#46039f"
             ],
             [
              0.2222222222222222,
              "#7201a8"
             ],
             [
              0.3333333333333333,
              "#9c179e"
             ],
             [
              0.4444444444444444,
              "#bd3786"
             ],
             [
              0.5555555555555556,
              "#d8576b"
             ],
             [
              0.6666666666666666,
              "#ed7953"
             ],
             [
              0.7777777777777778,
              "#fb9f3a"
             ],
             [
              0.8888888888888888,
              "#fdca26"
             ],
             [
              1,
              "#f0f921"
             ]
            ],
            "type": "histogram2dcontour"
           }
          ],
          "mesh3d": [
           {
            "colorbar": {
             "outlinewidth": 0,
             "ticks": ""
            },
            "type": "mesh3d"
           }
          ],
          "parcoords": [
           {
            "line": {
             "colorbar": {
              "outlinewidth": 0,
              "ticks": ""
             }
            },
            "type": "parcoords"
           }
          ],
          "pie": [
           {
            "automargin": true,
            "type": "pie"
           }
          ],
          "scatter": [
           {
            "fillpattern": {
             "fillmode": "overlay",
             "size": 10,
             "solidity": 0.2
            },
            "type": "scatter"
           }
          ],
          "scatter3d": [
           {
            "line": {
             "colorbar": {
              "outlinewidth": 0,
              "ticks": ""
             }
            },
            "marker": {
             "colorbar": {
              "outlinewidth": 0,
              "ticks": ""
             }
            },
            "type": "scatter3d"
           }
          ],
          "scattercarpet": [
           {
            "marker": {
             "colorbar": {
              "outlinewidth": 0,
              "ticks": ""
             }
            },
            "type": "scattercarpet"
           }
          ],
          "scattergeo": [
           {
            "marker": {
             "colorbar": {
              "outlinewidth": 0,
              "ticks": ""
             }
            },
            "type": "scattergeo"
           }
          ],
          "scattergl": [
           {
            "marker": {
             "colorbar": {
              "outlinewidth": 0,
              "ticks": ""
             }
            },
            "type": "scattergl"
           }
          ],
          "scattermapbox": [
           {
            "marker": {
             "colorbar": {
              "outlinewidth": 0,
              "ticks": ""
             }
            },
            "type": "scattermapbox"
           }
          ],
          "scatterpolar": [
           {
            "marker": {
             "colorbar": {
              "outlinewidth": 0,
              "ticks": ""
             }
            },
            "type": "scatterpolar"
           }
          ],
          "scatterpolargl": [
           {
            "marker": {
             "colorbar": {
              "outlinewidth": 0,
              "ticks": ""
             }
            },
            "type": "scatterpolargl"
           }
          ],
          "scatterternary": [
           {
            "marker": {
             "colorbar": {
              "outlinewidth": 0,
              "ticks": ""
             }
            },
            "type": "scatterternary"
           }
          ],
          "surface": [
           {
            "colorbar": {
             "outlinewidth": 0,
             "ticks": ""
            },
            "colorscale": [
             [
              0,
              "#0d0887"
             ],
             [
              0.1111111111111111,
              "#46039f"
             ],
             [
              0.2222222222222222,
              "#7201a8"
             ],
             [
              0.3333333333333333,
              "#9c179e"
             ],
             [
              0.4444444444444444,
              "#bd3786"
             ],
             [
              0.5555555555555556,
              "#d8576b"
             ],
             [
              0.6666666666666666,
              "#ed7953"
             ],
             [
              0.7777777777777778,
              "#fb9f3a"
             ],
             [
              0.8888888888888888,
              "#fdca26"
             ],
             [
              1,
              "#f0f921"
             ]
            ],
            "type": "surface"
           }
          ],
          "table": [
           {
            "cells": {
             "fill": {
              "color": "#EBF0F8"
             },
             "line": {
              "color": "white"
             }
            },
            "header": {
             "fill": {
              "color": "#C8D4E3"
             },
             "line": {
              "color": "white"
             }
            },
            "type": "table"
           }
          ]
         },
         "layout": {
          "annotationdefaults": {
           "arrowcolor": "#2a3f5f",
           "arrowhead": 0,
           "arrowwidth": 1
          },
          "autotypenumbers": "strict",
          "coloraxis": {
           "colorbar": {
            "outlinewidth": 0,
            "ticks": ""
           }
          },
          "colorscale": {
           "diverging": [
            [
             0,
             "#8e0152"
            ],
            [
             0.1,
             "#c51b7d"
            ],
            [
             0.2,
             "#de77ae"
            ],
            [
             0.3,
             "#f1b6da"
            ],
            [
             0.4,
             "#fde0ef"
            ],
            [
             0.5,
             "#f7f7f7"
            ],
            [
             0.6,
             "#e6f5d0"
            ],
            [
             0.7,
             "#b8e186"
            ],
            [
             0.8,
             "#7fbc41"
            ],
            [
             0.9,
             "#4d9221"
            ],
            [
             1,
             "#276419"
            ]
           ],
           "sequential": [
            [
             0,
             "#0d0887"
            ],
            [
             0.1111111111111111,
             "#46039f"
            ],
            [
             0.2222222222222222,
             "#7201a8"
            ],
            [
             0.3333333333333333,
             "#9c179e"
            ],
            [
             0.4444444444444444,
             "#bd3786"
            ],
            [
             0.5555555555555556,
             "#d8576b"
            ],
            [
             0.6666666666666666,
             "#ed7953"
            ],
            [
             0.7777777777777778,
             "#fb9f3a"
            ],
            [
             0.8888888888888888,
             "#fdca26"
            ],
            [
             1,
             "#f0f921"
            ]
           ],
           "sequentialminus": [
            [
             0,
             "#0d0887"
            ],
            [
             0.1111111111111111,
             "#46039f"
            ],
            [
             0.2222222222222222,
             "#7201a8"
            ],
            [
             0.3333333333333333,
             "#9c179e"
            ],
            [
             0.4444444444444444,
             "#bd3786"
            ],
            [
             0.5555555555555556,
             "#d8576b"
            ],
            [
             0.6666666666666666,
             "#ed7953"
            ],
            [
             0.7777777777777778,
             "#fb9f3a"
            ],
            [
             0.8888888888888888,
             "#fdca26"
            ],
            [
             1,
             "#f0f921"
            ]
           ]
          },
          "colorway": [
           "#636efa",
           "#EF553B",
           "#00cc96",
           "#ab63fa",
           "#FFA15A",
           "#19d3f3",
           "#FF6692",
           "#B6E880",
           "#FF97FF",
           "#FECB52"
          ],
          "font": {
           "color": "#2a3f5f"
          },
          "geo": {
           "bgcolor": "white",
           "lakecolor": "white",
           "landcolor": "#E5ECF6",
           "showlakes": true,
           "showland": true,
           "subunitcolor": "white"
          },
          "hoverlabel": {
           "align": "left"
          },
          "hovermode": "closest",
          "mapbox": {
           "style": "light"
          },
          "paper_bgcolor": "white",
          "plot_bgcolor": "#E5ECF6",
          "polar": {
           "angularaxis": {
            "gridcolor": "white",
            "linecolor": "white",
            "ticks": ""
           },
           "bgcolor": "#E5ECF6",
           "radialaxis": {
            "gridcolor": "white",
            "linecolor": "white",
            "ticks": ""
           }
          },
          "scene": {
           "xaxis": {
            "backgroundcolor": "#E5ECF6",
            "gridcolor": "white",
            "gridwidth": 2,
            "linecolor": "white",
            "showbackground": true,
            "ticks": "",
            "zerolinecolor": "white"
           },
           "yaxis": {
            "backgroundcolor": "#E5ECF6",
            "gridcolor": "white",
            "gridwidth": 2,
            "linecolor": "white",
            "showbackground": true,
            "ticks": "",
            "zerolinecolor": "white"
           },
           "zaxis": {
            "backgroundcolor": "#E5ECF6",
            "gridcolor": "white",
            "gridwidth": 2,
            "linecolor": "white",
            "showbackground": true,
            "ticks": "",
            "zerolinecolor": "white"
           }
          },
          "shapedefaults": {
           "line": {
            "color": "#2a3f5f"
           }
          },
          "ternary": {
           "aaxis": {
            "gridcolor": "white",
            "linecolor": "white",
            "ticks": ""
           },
           "baxis": {
            "gridcolor": "white",
            "linecolor": "white",
            "ticks": ""
           },
           "bgcolor": "#E5ECF6",
           "caxis": {
            "gridcolor": "white",
            "linecolor": "white",
            "ticks": ""
           }
          },
          "title": {
           "x": 0.05
          },
          "xaxis": {
           "automargin": true,
           "gridcolor": "white",
           "linecolor": "white",
           "ticks": "",
           "title": {
            "standoff": 15
           },
           "zerolinecolor": "white",
           "zerolinewidth": 2
          },
          "yaxis": {
           "automargin": true,
           "gridcolor": "white",
           "linecolor": "white",
           "ticks": "",
           "title": {
            "standoff": 15
           },
           "zerolinecolor": "white",
           "zerolinewidth": 2
          }
         }
        },
        "title": {
         "font": {
          "color": "#4D5663"
         },
         "text": "FIFA World Cup Winning Count"
        },
        "xaxis": {
         "gridcolor": "#E1E5ED",
         "showgrid": true,
         "tickfont": {
          "color": "#4D5663"
         },
         "title": {
          "font": {
           "color": "#4D5663"
          },
          "text": "Teams"
         },
         "zerolinecolor": "#E1E5ED"
        },
        "yaxis": {
         "gridcolor": "#E1E5ED",
         "showgrid": true,
         "tickfont": {
          "color": "#4D5663"
         },
         "title": {
          "font": {
           "color": "#4D5663"
          },
          "text": "Count"
         },
         "zerolinecolor": "#E1E5ED"
        }
       }
      },
      "text/html": [
       "<div>                            <div id=\"7905eff4-88dd-4c40-a884-9b5da3d350f5\" class=\"plotly-graph-div\" style=\"height:525px; width:100%;\"></div>            <script type=\"text/javascript\">                require([\"plotly\"], function(Plotly) {                    window.PLOTLYENV=window.PLOTLYENV || {};\n",
       "                    window.PLOTLYENV.BASE_URL='https://plot.ly';                                    if (document.getElementById(\"7905eff4-88dd-4c40-a884-9b5da3d350f5\")) {                    Plotly.newPlot(                        \"7905eff4-88dd-4c40-a884-9b5da3d350f5\",                        [{\"marker\":{\"color\":\"rgba(255, 153, 51, 0.6)\",\"line\":{\"color\":\"rgba(255, 153, 51, 1.0)\",\"width\":1}},\"name\":\"winners\",\"orientation\":\"v\",\"text\":\"\",\"x\":[\"Brazil\",\"Italy\",\"Germany\",\"Uruguay\",\"Argentina\",\"England\",\"France\",\"Spain\",\"Netherlands\",\"Czechoslovakia\",\"Hungary\",\"Sweden\",\"Poland\",\"USA\",\"Austria\",\"Chile\",\"Portugal\",\"Croatia\",\"Turkey\"],\"y\":[5.0,4.0,4.0,2.0,2.0,1.0,1.0,1.0,0.0,0.0,0.0,0.0,0.0,0.0,0.0,0.0,0.0,0.0,0.0],\"type\":\"bar\"},{\"marker\":{\"color\":\"rgba(55, 128, 191, 0.6)\",\"line\":{\"color\":\"rgba(55, 128, 191, 1.0)\",\"width\":1}},\"name\":\"runnerup\",\"orientation\":\"v\",\"text\":\"\",\"x\":[\"Brazil\",\"Italy\",\"Germany\",\"Uruguay\",\"Argentina\",\"England\",\"France\",\"Spain\",\"Netherlands\",\"Czechoslovakia\",\"Hungary\",\"Sweden\",\"Poland\",\"USA\",\"Austria\",\"Chile\",\"Portugal\",\"Croatia\",\"Turkey\"],\"y\":[2.0,2.0,4.0,0.0,3.0,0.0,1.0,0.0,3.0,2.0,2.0,1.0,0.0,0.0,0.0,0.0,0.0,0.0,0.0],\"type\":\"bar\"},{\"marker\":{\"color\":\"rgba(50, 171, 96, 0.6)\",\"line\":{\"color\":\"rgba(50, 171, 96, 1.0)\",\"width\":1}},\"name\":\"third\",\"orientation\":\"v\",\"text\":\"\",\"x\":[\"Brazil\",\"Italy\",\"Germany\",\"Uruguay\",\"Argentina\",\"England\",\"France\",\"Spain\",\"Netherlands\",\"Czechoslovakia\",\"Hungary\",\"Sweden\",\"Poland\",\"USA\",\"Austria\",\"Chile\",\"Portugal\",\"Croatia\",\"Turkey\"],\"y\":[2.0,1.0,4.0,0.0,0.0,0.0,2.0,0.0,1.0,0.0,0.0,2.0,2.0,1.0,1.0,1.0,1.0,1.0,1.0],\"type\":\"bar\"}],                        {\"legend\":{\"bgcolor\":\"#F5F6F9\",\"font\":{\"color\":\"#4D5663\"}},\"paper_bgcolor\":\"#F5F6F9\",\"plot_bgcolor\":\"#F5F6F9\",\"template\":{\"data\":{\"barpolar\":[{\"marker\":{\"line\":{\"color\":\"#E5ECF6\",\"width\":0.5},\"pattern\":{\"fillmode\":\"overlay\",\"size\":10,\"solidity\":0.2}},\"type\":\"barpolar\"}],\"bar\":[{\"error_x\":{\"color\":\"#2a3f5f\"},\"error_y\":{\"color\":\"#2a3f5f\"},\"marker\":{\"line\":{\"color\":\"#E5ECF6\",\"width\":0.5},\"pattern\":{\"fillmode\":\"overlay\",\"size\":10,\"solidity\":0.2}},\"type\":\"bar\"}],\"carpet\":[{\"aaxis\":{\"endlinecolor\":\"#2a3f5f\",\"gridcolor\":\"white\",\"linecolor\":\"white\",\"minorgridcolor\":\"white\",\"startlinecolor\":\"#2a3f5f\"},\"baxis\":{\"endlinecolor\":\"#2a3f5f\",\"gridcolor\":\"white\",\"linecolor\":\"white\",\"minorgridcolor\":\"white\",\"startlinecolor\":\"#2a3f5f\"},\"type\":\"carpet\"}],\"choropleth\":[{\"colorbar\":{\"outlinewidth\":0,\"ticks\":\"\"},\"type\":\"choropleth\"}],\"contourcarpet\":[{\"colorbar\":{\"outlinewidth\":0,\"ticks\":\"\"},\"type\":\"contourcarpet\"}],\"contour\":[{\"colorbar\":{\"outlinewidth\":0,\"ticks\":\"\"},\"colorscale\":[[0.0,\"#0d0887\"],[0.1111111111111111,\"#46039f\"],[0.2222222222222222,\"#7201a8\"],[0.3333333333333333,\"#9c179e\"],[0.4444444444444444,\"#bd3786\"],[0.5555555555555556,\"#d8576b\"],[0.6666666666666666,\"#ed7953\"],[0.7777777777777778,\"#fb9f3a\"],[0.8888888888888888,\"#fdca26\"],[1.0,\"#f0f921\"]],\"type\":\"contour\"}],\"heatmapgl\":[{\"colorbar\":{\"outlinewidth\":0,\"ticks\":\"\"},\"colorscale\":[[0.0,\"#0d0887\"],[0.1111111111111111,\"#46039f\"],[0.2222222222222222,\"#7201a8\"],[0.3333333333333333,\"#9c179e\"],[0.4444444444444444,\"#bd3786\"],[0.5555555555555556,\"#d8576b\"],[0.6666666666666666,\"#ed7953\"],[0.7777777777777778,\"#fb9f3a\"],[0.8888888888888888,\"#fdca26\"],[1.0,\"#f0f921\"]],\"type\":\"heatmapgl\"}],\"heatmap\":[{\"colorbar\":{\"outlinewidth\":0,\"ticks\":\"\"},\"colorscale\":[[0.0,\"#0d0887\"],[0.1111111111111111,\"#46039f\"],[0.2222222222222222,\"#7201a8\"],[0.3333333333333333,\"#9c179e\"],[0.4444444444444444,\"#bd3786\"],[0.5555555555555556,\"#d8576b\"],[0.6666666666666666,\"#ed7953\"],[0.7777777777777778,\"#fb9f3a\"],[0.8888888888888888,\"#fdca26\"],[1.0,\"#f0f921\"]],\"type\":\"heatmap\"}],\"histogram2dcontour\":[{\"colorbar\":{\"outlinewidth\":0,\"ticks\":\"\"},\"colorscale\":[[0.0,\"#0d0887\"],[0.1111111111111111,\"#46039f\"],[0.2222222222222222,\"#7201a8\"],[0.3333333333333333,\"#9c179e\"],[0.4444444444444444,\"#bd3786\"],[0.5555555555555556,\"#d8576b\"],[0.6666666666666666,\"#ed7953\"],[0.7777777777777778,\"#fb9f3a\"],[0.8888888888888888,\"#fdca26\"],[1.0,\"#f0f921\"]],\"type\":\"histogram2dcontour\"}],\"histogram2d\":[{\"colorbar\":{\"outlinewidth\":0,\"ticks\":\"\"},\"colorscale\":[[0.0,\"#0d0887\"],[0.1111111111111111,\"#46039f\"],[0.2222222222222222,\"#7201a8\"],[0.3333333333333333,\"#9c179e\"],[0.4444444444444444,\"#bd3786\"],[0.5555555555555556,\"#d8576b\"],[0.6666666666666666,\"#ed7953\"],[0.7777777777777778,\"#fb9f3a\"],[0.8888888888888888,\"#fdca26\"],[1.0,\"#f0f921\"]],\"type\":\"histogram2d\"}],\"histogram\":[{\"marker\":{\"pattern\":{\"fillmode\":\"overlay\",\"size\":10,\"solidity\":0.2}},\"type\":\"histogram\"}],\"mesh3d\":[{\"colorbar\":{\"outlinewidth\":0,\"ticks\":\"\"},\"type\":\"mesh3d\"}],\"parcoords\":[{\"line\":{\"colorbar\":{\"outlinewidth\":0,\"ticks\":\"\"}},\"type\":\"parcoords\"}],\"pie\":[{\"automargin\":true,\"type\":\"pie\"}],\"scatter3d\":[{\"line\":{\"colorbar\":{\"outlinewidth\":0,\"ticks\":\"\"}},\"marker\":{\"colorbar\":{\"outlinewidth\":0,\"ticks\":\"\"}},\"type\":\"scatter3d\"}],\"scattercarpet\":[{\"marker\":{\"colorbar\":{\"outlinewidth\":0,\"ticks\":\"\"}},\"type\":\"scattercarpet\"}],\"scattergeo\":[{\"marker\":{\"colorbar\":{\"outlinewidth\":0,\"ticks\":\"\"}},\"type\":\"scattergeo\"}],\"scattergl\":[{\"marker\":{\"colorbar\":{\"outlinewidth\":0,\"ticks\":\"\"}},\"type\":\"scattergl\"}],\"scattermapbox\":[{\"marker\":{\"colorbar\":{\"outlinewidth\":0,\"ticks\":\"\"}},\"type\":\"scattermapbox\"}],\"scatterpolargl\":[{\"marker\":{\"colorbar\":{\"outlinewidth\":0,\"ticks\":\"\"}},\"type\":\"scatterpolargl\"}],\"scatterpolar\":[{\"marker\":{\"colorbar\":{\"outlinewidth\":0,\"ticks\":\"\"}},\"type\":\"scatterpolar\"}],\"scatter\":[{\"fillpattern\":{\"fillmode\":\"overlay\",\"size\":10,\"solidity\":0.2},\"type\":\"scatter\"}],\"scatterternary\":[{\"marker\":{\"colorbar\":{\"outlinewidth\":0,\"ticks\":\"\"}},\"type\":\"scatterternary\"}],\"surface\":[{\"colorbar\":{\"outlinewidth\":0,\"ticks\":\"\"},\"colorscale\":[[0.0,\"#0d0887\"],[0.1111111111111111,\"#46039f\"],[0.2222222222222222,\"#7201a8\"],[0.3333333333333333,\"#9c179e\"],[0.4444444444444444,\"#bd3786\"],[0.5555555555555556,\"#d8576b\"],[0.6666666666666666,\"#ed7953\"],[0.7777777777777778,\"#fb9f3a\"],[0.8888888888888888,\"#fdca26\"],[1.0,\"#f0f921\"]],\"type\":\"surface\"}],\"table\":[{\"cells\":{\"fill\":{\"color\":\"#EBF0F8\"},\"line\":{\"color\":\"white\"}},\"header\":{\"fill\":{\"color\":\"#C8D4E3\"},\"line\":{\"color\":\"white\"}},\"type\":\"table\"}]},\"layout\":{\"annotationdefaults\":{\"arrowcolor\":\"#2a3f5f\",\"arrowhead\":0,\"arrowwidth\":1},\"autotypenumbers\":\"strict\",\"coloraxis\":{\"colorbar\":{\"outlinewidth\":0,\"ticks\":\"\"}},\"colorscale\":{\"diverging\":[[0,\"#8e0152\"],[0.1,\"#c51b7d\"],[0.2,\"#de77ae\"],[0.3,\"#f1b6da\"],[0.4,\"#fde0ef\"],[0.5,\"#f7f7f7\"],[0.6,\"#e6f5d0\"],[0.7,\"#b8e186\"],[0.8,\"#7fbc41\"],[0.9,\"#4d9221\"],[1,\"#276419\"]],\"sequential\":[[0.0,\"#0d0887\"],[0.1111111111111111,\"#46039f\"],[0.2222222222222222,\"#7201a8\"],[0.3333333333333333,\"#9c179e\"],[0.4444444444444444,\"#bd3786\"],[0.5555555555555556,\"#d8576b\"],[0.6666666666666666,\"#ed7953\"],[0.7777777777777778,\"#fb9f3a\"],[0.8888888888888888,\"#fdca26\"],[1.0,\"#f0f921\"]],\"sequentialminus\":[[0.0,\"#0d0887\"],[0.1111111111111111,\"#46039f\"],[0.2222222222222222,\"#7201a8\"],[0.3333333333333333,\"#9c179e\"],[0.4444444444444444,\"#bd3786\"],[0.5555555555555556,\"#d8576b\"],[0.6666666666666666,\"#ed7953\"],[0.7777777777777778,\"#fb9f3a\"],[0.8888888888888888,\"#fdca26\"],[1.0,\"#f0f921\"]]},\"colorway\":[\"#636efa\",\"#EF553B\",\"#00cc96\",\"#ab63fa\",\"#FFA15A\",\"#19d3f3\",\"#FF6692\",\"#B6E880\",\"#FF97FF\",\"#FECB52\"],\"font\":{\"color\":\"#2a3f5f\"},\"geo\":{\"bgcolor\":\"white\",\"lakecolor\":\"white\",\"landcolor\":\"#E5ECF6\",\"showlakes\":true,\"showland\":true,\"subunitcolor\":\"white\"},\"hoverlabel\":{\"align\":\"left\"},\"hovermode\":\"closest\",\"mapbox\":{\"style\":\"light\"},\"paper_bgcolor\":\"white\",\"plot_bgcolor\":\"#E5ECF6\",\"polar\":{\"angularaxis\":{\"gridcolor\":\"white\",\"linecolor\":\"white\",\"ticks\":\"\"},\"bgcolor\":\"#E5ECF6\",\"radialaxis\":{\"gridcolor\":\"white\",\"linecolor\":\"white\",\"ticks\":\"\"}},\"scene\":{\"xaxis\":{\"backgroundcolor\":\"#E5ECF6\",\"gridcolor\":\"white\",\"gridwidth\":2,\"linecolor\":\"white\",\"showbackground\":true,\"ticks\":\"\",\"zerolinecolor\":\"white\"},\"yaxis\":{\"backgroundcolor\":\"#E5ECF6\",\"gridcolor\":\"white\",\"gridwidth\":2,\"linecolor\":\"white\",\"showbackground\":true,\"ticks\":\"\",\"zerolinecolor\":\"white\"},\"zaxis\":{\"backgroundcolor\":\"#E5ECF6\",\"gridcolor\":\"white\",\"gridwidth\":2,\"linecolor\":\"white\",\"showbackground\":true,\"ticks\":\"\",\"zerolinecolor\":\"white\"}},\"shapedefaults\":{\"line\":{\"color\":\"#2a3f5f\"}},\"ternary\":{\"aaxis\":{\"gridcolor\":\"white\",\"linecolor\":\"white\",\"ticks\":\"\"},\"baxis\":{\"gridcolor\":\"white\",\"linecolor\":\"white\",\"ticks\":\"\"},\"bgcolor\":\"#E5ECF6\",\"caxis\":{\"gridcolor\":\"white\",\"linecolor\":\"white\",\"ticks\":\"\"}},\"title\":{\"x\":0.05},\"xaxis\":{\"automargin\":true,\"gridcolor\":\"white\",\"linecolor\":\"white\",\"ticks\":\"\",\"title\":{\"standoff\":15},\"zerolinecolor\":\"white\",\"zerolinewidth\":2},\"yaxis\":{\"automargin\":true,\"gridcolor\":\"white\",\"linecolor\":\"white\",\"ticks\":\"\",\"title\":{\"standoff\":15},\"zerolinecolor\":\"white\",\"zerolinewidth\":2}}},\"title\":{\"font\":{\"color\":\"#4D5663\"},\"text\":\"FIFA World Cup Winning Count\"},\"xaxis\":{\"gridcolor\":\"#E1E5ED\",\"showgrid\":true,\"tickfont\":{\"color\":\"#4D5663\"},\"title\":{\"font\":{\"color\":\"#4D5663\"},\"text\":\"Teams\"},\"zerolinecolor\":\"#E1E5ED\"},\"yaxis\":{\"gridcolor\":\"#E1E5ED\",\"showgrid\":true,\"tickfont\":{\"color\":\"#4D5663\"},\"title\":{\"font\":{\"color\":\"#4D5663\"},\"text\":\"Count\"},\"zerolinecolor\":\"#E1E5ED\"}},                        {\"showLink\": true, \"linkText\": \"Export to plot.ly\", \"plotlyServerURL\": \"https://plot.ly\", \"responsive\": true}                    ).then(function(){\n",
       "                            \n",
       "var gd = document.getElementById('7905eff4-88dd-4c40-a884-9b5da3d350f5');\n",
       "var x = new MutationObserver(function (mutations, observer) {{\n",
       "        var display = window.getComputedStyle(gd).display;\n",
       "        if (!display || display === 'none') {{\n",
       "            console.log([gd, 'removed!']);\n",
       "            Plotly.purge(gd);\n",
       "            observer.disconnect();\n",
       "        }}\n",
       "}});\n",
       "\n",
       "// Listen for the removal of the full notebook cells\n",
       "var notebookContainer = gd.closest('#notebook-container');\n",
       "if (notebookContainer) {{\n",
       "    x.observe(notebookContainer, {childList: true});\n",
       "}}\n",
       "\n",
       "// Listen for the clearing of the current output cell\n",
       "var outputEl = gd.closest('.output');\n",
       "if (outputEl) {{\n",
       "    x.observe(outputEl, {childList: true});\n",
       "}}\n",
       "\n",
       "                        })                };                });            </script>        </div>"
      ]
     },
     "metadata": {},
     "output_type": "display_data"
    }
   ],
   "source": [
    "teams.iplot(kind = 'bar', xTitle = 'Teams', yTitle = 'Count', title = 'FIFA World Cup Winning Count')"
   ]
  },
  {
   "cell_type": "markdown",
   "metadata": {},
   "source": [
    "# Number of Goal Per Country "
   ]
  },
  {
   "cell_type": "code",
   "execution_count": 33,
   "metadata": {},
   "outputs": [
    {
     "data": {
      "text/html": [
       "<div>\n",
       "<style scoped>\n",
       "    .dataframe tbody tr th:only-of-type {\n",
       "        vertical-align: middle;\n",
       "    }\n",
       "\n",
       "    .dataframe tbody tr th {\n",
       "        vertical-align: top;\n",
       "    }\n",
       "\n",
       "    .dataframe thead th {\n",
       "        text-align: right;\n",
       "    }\n",
       "</style>\n",
       "<table border=\"1\" class=\"dataframe\">\n",
       "  <thead>\n",
       "    <tr style=\"text-align: right;\">\n",
       "      <th></th>\n",
       "      <th>Year</th>\n",
       "      <th>Datetime</th>\n",
       "      <th>Stage</th>\n",
       "      <th>Stadium</th>\n",
       "      <th>City</th>\n",
       "      <th>Home Team Name</th>\n",
       "      <th>Home Team Goals</th>\n",
       "      <th>Away Team Goals</th>\n",
       "      <th>Away Team Name</th>\n",
       "      <th>Win conditions</th>\n",
       "      <th>Attendance</th>\n",
       "      <th>Half-time Home Goals</th>\n",
       "      <th>Half-time Away Goals</th>\n",
       "      <th>Referee</th>\n",
       "      <th>Assistant 1</th>\n",
       "      <th>Assistant 2</th>\n",
       "      <th>RoundID</th>\n",
       "      <th>MatchID</th>\n",
       "      <th>Home Team Initials</th>\n",
       "      <th>Away Team Initials</th>\n",
       "    </tr>\n",
       "  </thead>\n",
       "  <tbody>\n",
       "    <tr>\n",
       "      <th>0</th>\n",
       "      <td>1930.0</td>\n",
       "      <td>13 Jul 1930 - 15:00</td>\n",
       "      <td>Group 1</td>\n",
       "      <td>Pocitos</td>\n",
       "      <td>Montevideo</td>\n",
       "      <td>France</td>\n",
       "      <td>4.0</td>\n",
       "      <td>1.0</td>\n",
       "      <td>Mexico</td>\n",
       "      <td></td>\n",
       "      <td>4444.0</td>\n",
       "      <td>3.0</td>\n",
       "      <td>0.0</td>\n",
       "      <td>LOMBARDI Domingo (URU)</td>\n",
       "      <td>CRISTOPHE Henry (BEL)</td>\n",
       "      <td>REGO Gilberto (BRA)</td>\n",
       "      <td>201.0</td>\n",
       "      <td>1096.0</td>\n",
       "      <td>FRA</td>\n",
       "      <td>MEX</td>\n",
       "    </tr>\n",
       "    <tr>\n",
       "      <th>1</th>\n",
       "      <td>1930.0</td>\n",
       "      <td>13 Jul 1930 - 15:00</td>\n",
       "      <td>Group 4</td>\n",
       "      <td>Parque Central</td>\n",
       "      <td>Montevideo</td>\n",
       "      <td>USA</td>\n",
       "      <td>3.0</td>\n",
       "      <td>0.0</td>\n",
       "      <td>Belgium</td>\n",
       "      <td></td>\n",
       "      <td>18346.0</td>\n",
       "      <td>2.0</td>\n",
       "      <td>0.0</td>\n",
       "      <td>MACIAS Jose (ARG)</td>\n",
       "      <td>MATEUCCI Francisco (URU)</td>\n",
       "      <td>WARNKEN Alberto (CHI)</td>\n",
       "      <td>201.0</td>\n",
       "      <td>1090.0</td>\n",
       "      <td>USA</td>\n",
       "      <td>BEL</td>\n",
       "    </tr>\n",
       "    <tr>\n",
       "      <th>2</th>\n",
       "      <td>1930.0</td>\n",
       "      <td>14 Jul 1930 - 12:45</td>\n",
       "      <td>Group 2</td>\n",
       "      <td>Parque Central</td>\n",
       "      <td>Montevideo</td>\n",
       "      <td>Yugoslavia</td>\n",
       "      <td>2.0</td>\n",
       "      <td>1.0</td>\n",
       "      <td>Brazil</td>\n",
       "      <td></td>\n",
       "      <td>24059.0</td>\n",
       "      <td>2.0</td>\n",
       "      <td>0.0</td>\n",
       "      <td>TEJADA Anibal (URU)</td>\n",
       "      <td>VALLARINO Ricardo (URU)</td>\n",
       "      <td>BALWAY Thomas (FRA)</td>\n",
       "      <td>201.0</td>\n",
       "      <td>1093.0</td>\n",
       "      <td>YUG</td>\n",
       "      <td>BRA</td>\n",
       "    </tr>\n",
       "    <tr>\n",
       "      <th>3</th>\n",
       "      <td>1930.0</td>\n",
       "      <td>14 Jul 1930 - 14:50</td>\n",
       "      <td>Group 3</td>\n",
       "      <td>Pocitos</td>\n",
       "      <td>Montevideo</td>\n",
       "      <td>Romania</td>\n",
       "      <td>3.0</td>\n",
       "      <td>1.0</td>\n",
       "      <td>Peru</td>\n",
       "      <td></td>\n",
       "      <td>2549.0</td>\n",
       "      <td>1.0</td>\n",
       "      <td>0.0</td>\n",
       "      <td>WARNKEN Alberto (CHI)</td>\n",
       "      <td>LANGENUS Jean (BEL)</td>\n",
       "      <td>MATEUCCI Francisco (URU)</td>\n",
       "      <td>201.0</td>\n",
       "      <td>1098.0</td>\n",
       "      <td>ROU</td>\n",
       "      <td>PER</td>\n",
       "    </tr>\n",
       "    <tr>\n",
       "      <th>4</th>\n",
       "      <td>1930.0</td>\n",
       "      <td>15 Jul 1930 - 16:00</td>\n",
       "      <td>Group 1</td>\n",
       "      <td>Parque Central</td>\n",
       "      <td>Montevideo</td>\n",
       "      <td>Argentina</td>\n",
       "      <td>1.0</td>\n",
       "      <td>0.0</td>\n",
       "      <td>France</td>\n",
       "      <td></td>\n",
       "      <td>23409.0</td>\n",
       "      <td>0.0</td>\n",
       "      <td>0.0</td>\n",
       "      <td>REGO Gilberto (BRA)</td>\n",
       "      <td>SAUCEDO Ulises (BOL)</td>\n",
       "      <td>RADULESCU Constantin (ROU)</td>\n",
       "      <td>201.0</td>\n",
       "      <td>1085.0</td>\n",
       "      <td>ARG</td>\n",
       "      <td>FRA</td>\n",
       "    </tr>\n",
       "  </tbody>\n",
       "</table>\n",
       "</div>"
      ],
      "text/plain": [
       "     Year              Datetime    Stage         Stadium         City  \\\n",
       "0  1930.0  13 Jul 1930 - 15:00   Group 1         Pocitos  Montevideo    \n",
       "1  1930.0  13 Jul 1930 - 15:00   Group 4  Parque Central  Montevideo    \n",
       "2  1930.0  14 Jul 1930 - 12:45   Group 2  Parque Central  Montevideo    \n",
       "3  1930.0  14 Jul 1930 - 14:50   Group 3         Pocitos  Montevideo    \n",
       "4  1930.0  15 Jul 1930 - 16:00   Group 1  Parque Central  Montevideo    \n",
       "\n",
       "  Home Team Name  Home Team Goals  Away Team Goals Away Team Name  \\\n",
       "0         France              4.0              1.0         Mexico   \n",
       "1            USA              3.0              0.0        Belgium   \n",
       "2     Yugoslavia              2.0              1.0         Brazil   \n",
       "3        Romania              3.0              1.0           Peru   \n",
       "4      Argentina              1.0              0.0         France   \n",
       "\n",
       "  Win conditions Attendance  Half-time Home Goals  Half-time Away Goals  \\\n",
       "0                    4444.0                   3.0                   0.0   \n",
       "1                   18346.0                   2.0                   0.0   \n",
       "2                   24059.0                   2.0                   0.0   \n",
       "3                    2549.0                   1.0                   0.0   \n",
       "4                   23409.0                   0.0                   0.0   \n",
       "\n",
       "                  Referee               Assistant 1  \\\n",
       "0  LOMBARDI Domingo (URU)     CRISTOPHE Henry (BEL)   \n",
       "1       MACIAS Jose (ARG)  MATEUCCI Francisco (URU)   \n",
       "2     TEJADA Anibal (URU)   VALLARINO Ricardo (URU)   \n",
       "3   WARNKEN Alberto (CHI)       LANGENUS Jean (BEL)   \n",
       "4     REGO Gilberto (BRA)      SAUCEDO Ulises (BOL)   \n",
       "\n",
       "                  Assistant 2  RoundID  MatchID Home Team Initials  \\\n",
       "0         REGO Gilberto (BRA)    201.0   1096.0                FRA   \n",
       "1       WARNKEN Alberto (CHI)    201.0   1090.0                USA   \n",
       "2         BALWAY Thomas (FRA)    201.0   1093.0                YUG   \n",
       "3    MATEUCCI Francisco (URU)    201.0   1098.0                ROU   \n",
       "4  RADULESCU Constantin (ROU)    201.0   1085.0                ARG   \n",
       "\n",
       "  Away Team Initials  \n",
       "0                MEX  \n",
       "1                BEL  \n",
       "2                BRA  \n",
       "3                PER  \n",
       "4                FRA  "
      ]
     },
     "execution_count": 33,
     "metadata": {},
     "output_type": "execute_result"
    }
   ],
   "source": [
    "matches_df.head(5)"
   ]
  },
  {
   "cell_type": "code",
   "execution_count": 34,
   "metadata": {},
   "outputs": [
    {
     "data": {
      "text/html": [
       "<div>\n",
       "<style scoped>\n",
       "    .dataframe tbody tr th:only-of-type {\n",
       "        vertical-align: middle;\n",
       "    }\n",
       "\n",
       "    .dataframe tbody tr th {\n",
       "        vertical-align: top;\n",
       "    }\n",
       "\n",
       "    .dataframe thead th {\n",
       "        text-align: right;\n",
       "    }\n",
       "</style>\n",
       "<table border=\"1\" class=\"dataframe\">\n",
       "  <thead>\n",
       "    <tr style=\"text-align: right;\">\n",
       "      <th></th>\n",
       "      <th>Country</th>\n",
       "      <th>Goals</th>\n",
       "    </tr>\n",
       "  </thead>\n",
       "  <tbody>\n",
       "    <tr>\n",
       "      <th>0</th>\n",
       "      <td>France</td>\n",
       "      <td>4.0</td>\n",
       "    </tr>\n",
       "    <tr>\n",
       "      <th>1</th>\n",
       "      <td>USA</td>\n",
       "      <td>3.0</td>\n",
       "    </tr>\n",
       "    <tr>\n",
       "      <th>2</th>\n",
       "      <td>Yugoslavia</td>\n",
       "      <td>2.0</td>\n",
       "    </tr>\n",
       "    <tr>\n",
       "      <th>3</th>\n",
       "      <td>Romania</td>\n",
       "      <td>3.0</td>\n",
       "    </tr>\n",
       "    <tr>\n",
       "      <th>4</th>\n",
       "      <td>Argentina</td>\n",
       "      <td>1.0</td>\n",
       "    </tr>\n",
       "    <tr>\n",
       "      <th>...</th>\n",
       "      <td>...</td>\n",
       "      <td>...</td>\n",
       "    </tr>\n",
       "    <tr>\n",
       "      <th>847</th>\n",
       "      <td>Netherlands</td>\n",
       "      <td>0.0</td>\n",
       "    </tr>\n",
       "    <tr>\n",
       "      <th>848</th>\n",
       "      <td>Brazil</td>\n",
       "      <td>1.0</td>\n",
       "    </tr>\n",
       "    <tr>\n",
       "      <th>849</th>\n",
       "      <td>Netherlands</td>\n",
       "      <td>0.0</td>\n",
       "    </tr>\n",
       "    <tr>\n",
       "      <th>850</th>\n",
       "      <td>Brazil</td>\n",
       "      <td>0.0</td>\n",
       "    </tr>\n",
       "    <tr>\n",
       "      <th>851</th>\n",
       "      <td>Germany</td>\n",
       "      <td>1.0</td>\n",
       "    </tr>\n",
       "  </tbody>\n",
       "</table>\n",
       "<p>852 rows × 2 columns</p>\n",
       "</div>"
      ],
      "text/plain": [
       "         Country  Goals\n",
       "0         France    4.0\n",
       "1            USA    3.0\n",
       "2     Yugoslavia    2.0\n",
       "3        Romania    3.0\n",
       "4      Argentina    1.0\n",
       "..           ...    ...\n",
       "847  Netherlands    0.0\n",
       "848       Brazil    1.0\n",
       "849  Netherlands    0.0\n",
       "850       Brazil    0.0\n",
       "851      Germany    1.0\n",
       "\n",
       "[852 rows x 2 columns]"
      ]
     },
     "execution_count": 34,
     "metadata": {},
     "output_type": "execute_result"
    }
   ],
   "source": [
    "Goals_home=pd.DataFrame()\n",
    "Goals_away=pd.DataFrame()\n",
    "Goals_home[['Country','Goals']]=matches_df[['Home Team Name', 'Home Team Goals']].dropna()\n",
    "Goals_away[['Country','Goals']]=matches_df[['Away Team Name', 'Away Team Goals']].dropna()\n",
    "\n",
    "Goals_home"
   ]
  },
  {
   "cell_type": "code",
   "execution_count": 35,
   "metadata": {
    "scrolled": true
   },
   "outputs": [
    {
     "data": {
      "text/html": [
       "<div>\n",
       "<style scoped>\n",
       "    .dataframe tbody tr th:only-of-type {\n",
       "        vertical-align: middle;\n",
       "    }\n",
       "\n",
       "    .dataframe tbody tr th {\n",
       "        vertical-align: top;\n",
       "    }\n",
       "\n",
       "    .dataframe thead th {\n",
       "        text-align: right;\n",
       "    }\n",
       "</style>\n",
       "<table border=\"1\" class=\"dataframe\">\n",
       "  <thead>\n",
       "    <tr style=\"text-align: right;\">\n",
       "      <th></th>\n",
       "      <th>Country</th>\n",
       "      <th>Goals</th>\n",
       "    </tr>\n",
       "  </thead>\n",
       "  <tbody>\n",
       "    <tr>\n",
       "      <th>0</th>\n",
       "      <td>France</td>\n",
       "      <td>4.0</td>\n",
       "    </tr>\n",
       "    <tr>\n",
       "      <th>1</th>\n",
       "      <td>USA</td>\n",
       "      <td>3.0</td>\n",
       "    </tr>\n",
       "    <tr>\n",
       "      <th>2</th>\n",
       "      <td>Yugoslavia</td>\n",
       "      <td>2.0</td>\n",
       "    </tr>\n",
       "    <tr>\n",
       "      <th>3</th>\n",
       "      <td>Romania</td>\n",
       "      <td>3.0</td>\n",
       "    </tr>\n",
       "    <tr>\n",
       "      <th>4</th>\n",
       "      <td>Argentina</td>\n",
       "      <td>1.0</td>\n",
       "    </tr>\n",
       "    <tr>\n",
       "      <th>...</th>\n",
       "      <td>...</td>\n",
       "      <td>...</td>\n",
       "    </tr>\n",
       "    <tr>\n",
       "      <th>847</th>\n",
       "      <td>Costa Rica</td>\n",
       "      <td>0.0</td>\n",
       "    </tr>\n",
       "    <tr>\n",
       "      <th>848</th>\n",
       "      <td>Germany</td>\n",
       "      <td>7.0</td>\n",
       "    </tr>\n",
       "    <tr>\n",
       "      <th>849</th>\n",
       "      <td>Argentina</td>\n",
       "      <td>0.0</td>\n",
       "    </tr>\n",
       "    <tr>\n",
       "      <th>850</th>\n",
       "      <td>Netherlands</td>\n",
       "      <td>3.0</td>\n",
       "    </tr>\n",
       "    <tr>\n",
       "      <th>851</th>\n",
       "      <td>Argentina</td>\n",
       "      <td>0.0</td>\n",
       "    </tr>\n",
       "  </tbody>\n",
       "</table>\n",
       "<p>1704 rows × 2 columns</p>\n",
       "</div>"
      ],
      "text/plain": [
       "         Country  Goals\n",
       "0         France    4.0\n",
       "1            USA    3.0\n",
       "2     Yugoslavia    2.0\n",
       "3        Romania    3.0\n",
       "4      Argentina    1.0\n",
       "..           ...    ...\n",
       "847   Costa Rica    0.0\n",
       "848      Germany    7.0\n",
       "849    Argentina    0.0\n",
       "850  Netherlands    3.0\n",
       "851    Argentina    0.0\n",
       "\n",
       "[1704 rows x 2 columns]"
      ]
     },
     "execution_count": 35,
     "metadata": {},
     "output_type": "execute_result"
    }
   ],
   "source": [
    "Goals=pd.DataFrame()\n",
    "Goals= pd.concat([Goals_home, Goals_away])\n",
    "Goals"
   ]
  },
  {
   "cell_type": "code",
   "execution_count": 36,
   "metadata": {},
   "outputs": [
    {
     "data": {
      "text/html": [
       "<div>\n",
       "<style scoped>\n",
       "    .dataframe tbody tr th:only-of-type {\n",
       "        vertical-align: middle;\n",
       "    }\n",
       "\n",
       "    .dataframe tbody tr th {\n",
       "        vertical-align: top;\n",
       "    }\n",
       "\n",
       "    .dataframe thead th {\n",
       "        text-align: right;\n",
       "    }\n",
       "</style>\n",
       "<table border=\"1\" class=\"dataframe\">\n",
       "  <thead>\n",
       "    <tr style=\"text-align: right;\">\n",
       "      <th></th>\n",
       "      <th>Goals</th>\n",
       "    </tr>\n",
       "    <tr>\n",
       "      <th>Country</th>\n",
       "      <th></th>\n",
       "    </tr>\n",
       "  </thead>\n",
       "  <tbody>\n",
       "    <tr>\n",
       "      <th>Germany</th>\n",
       "      <td>240.0</td>\n",
       "    </tr>\n",
       "    <tr>\n",
       "      <th>Brazil</th>\n",
       "      <td>225.0</td>\n",
       "    </tr>\n",
       "    <tr>\n",
       "      <th>Argentina</th>\n",
       "      <td>133.0</td>\n",
       "    </tr>\n",
       "    <tr>\n",
       "      <th>Italy</th>\n",
       "      <td>128.0</td>\n",
       "    </tr>\n",
       "    <tr>\n",
       "      <th>France</th>\n",
       "      <td>108.0</td>\n",
       "    </tr>\n",
       "  </tbody>\n",
       "</table>\n",
       "</div>"
      ],
      "text/plain": [
       "           Goals\n",
       "Country         \n",
       "Germany    240.0\n",
       "Brazil     225.0\n",
       "Argentina  133.0\n",
       "Italy      128.0\n",
       "France     108.0"
      ]
     },
     "execution_count": 36,
     "metadata": {},
     "output_type": "execute_result"
    }
   ],
   "source": [
    "Goals = Goals.groupby('Country').agg(Goals=('Goals', 'sum')).sort_values(by='Goals', ascending=False)\n",
    "Goals.head()"
   ]
  },
  {
   "cell_type": "code",
   "execution_count": 37,
   "metadata": {
    "scrolled": true
   },
   "outputs": [
    {
     "data": {
      "application/vnd.plotly.v1+json": {
       "config": {
        "linkText": "Export to plot.ly",
        "plotlyServerURL": "https://plot.ly",
        "showLink": true
       },
       "data": [
        {
         "marker": {
          "color": "rgba(255, 153, 51, 0.6)",
          "line": {
           "color": "rgba(255, 153, 51, 1.0)",
           "width": 1
          }
         },
         "name": "Goals",
         "orientation": "v",
         "text": "",
         "type": "bar",
         "x": [
          "Germany",
          "Brazil",
          "Argentina",
          "Italy",
          "France",
          "Spai",
          "Netherlands",
          "Hungary",
          "Uruguay",
          "England",
          "Swede",
          "Yugoslavia",
          "Mexico",
          "Belgium",
          "Soviet Unio",
          "Switzerland",
          "Czechoslovakia",
          "Poland",
          "Portugal",
          "Austria"
         ],
         "y": [
          240,
          225,
          133,
          128,
          108,
          92,
          91,
          87,
          80,
          79,
          74,
          60,
          58,
          54,
          53,
          45,
          44,
          44,
          43,
          43
         ]
        }
       ],
       "layout": {
        "legend": {
         "bgcolor": "#F5F6F9",
         "font": {
          "color": "#4D5663"
         }
        },
        "paper_bgcolor": "#F5F6F9",
        "plot_bgcolor": "#F5F6F9",
        "template": {
         "data": {
          "bar": [
           {
            "error_x": {
             "color": "#2a3f5f"
            },
            "error_y": {
             "color": "#2a3f5f"
            },
            "marker": {
             "line": {
              "color": "#E5ECF6",
              "width": 0.5
             },
             "pattern": {
              "fillmode": "overlay",
              "size": 10,
              "solidity": 0.2
             }
            },
            "type": "bar"
           }
          ],
          "barpolar": [
           {
            "marker": {
             "line": {
              "color": "#E5ECF6",
              "width": 0.5
             },
             "pattern": {
              "fillmode": "overlay",
              "size": 10,
              "solidity": 0.2
             }
            },
            "type": "barpolar"
           }
          ],
          "carpet": [
           {
            "aaxis": {
             "endlinecolor": "#2a3f5f",
             "gridcolor": "white",
             "linecolor": "white",
             "minorgridcolor": "white",
             "startlinecolor": "#2a3f5f"
            },
            "baxis": {
             "endlinecolor": "#2a3f5f",
             "gridcolor": "white",
             "linecolor": "white",
             "minorgridcolor": "white",
             "startlinecolor": "#2a3f5f"
            },
            "type": "carpet"
           }
          ],
          "choropleth": [
           {
            "colorbar": {
             "outlinewidth": 0,
             "ticks": ""
            },
            "type": "choropleth"
           }
          ],
          "contour": [
           {
            "colorbar": {
             "outlinewidth": 0,
             "ticks": ""
            },
            "colorscale": [
             [
              0,
              "#0d0887"
             ],
             [
              0.1111111111111111,
              "#46039f"
             ],
             [
              0.2222222222222222,
              "#7201a8"
             ],
             [
              0.3333333333333333,
              "#9c179e"
             ],
             [
              0.4444444444444444,
              "#bd3786"
             ],
             [
              0.5555555555555556,
              "#d8576b"
             ],
             [
              0.6666666666666666,
              "#ed7953"
             ],
             [
              0.7777777777777778,
              "#fb9f3a"
             ],
             [
              0.8888888888888888,
              "#fdca26"
             ],
             [
              1,
              "#f0f921"
             ]
            ],
            "type": "contour"
           }
          ],
          "contourcarpet": [
           {
            "colorbar": {
             "outlinewidth": 0,
             "ticks": ""
            },
            "type": "contourcarpet"
           }
          ],
          "heatmap": [
           {
            "colorbar": {
             "outlinewidth": 0,
             "ticks": ""
            },
            "colorscale": [
             [
              0,
              "#0d0887"
             ],
             [
              0.1111111111111111,
              "#46039f"
             ],
             [
              0.2222222222222222,
              "#7201a8"
             ],
             [
              0.3333333333333333,
              "#9c179e"
             ],
             [
              0.4444444444444444,
              "#bd3786"
             ],
             [
              0.5555555555555556,
              "#d8576b"
             ],
             [
              0.6666666666666666,
              "#ed7953"
             ],
             [
              0.7777777777777778,
              "#fb9f3a"
             ],
             [
              0.8888888888888888,
              "#fdca26"
             ],
             [
              1,
              "#f0f921"
             ]
            ],
            "type": "heatmap"
           }
          ],
          "heatmapgl": [
           {
            "colorbar": {
             "outlinewidth": 0,
             "ticks": ""
            },
            "colorscale": [
             [
              0,
              "#0d0887"
             ],
             [
              0.1111111111111111,
              "#46039f"
             ],
             [
              0.2222222222222222,
              "#7201a8"
             ],
             [
              0.3333333333333333,
              "#9c179e"
             ],
             [
              0.4444444444444444,
              "#bd3786"
             ],
             [
              0.5555555555555556,
              "#d8576b"
             ],
             [
              0.6666666666666666,
              "#ed7953"
             ],
             [
              0.7777777777777778,
              "#fb9f3a"
             ],
             [
              0.8888888888888888,
              "#fdca26"
             ],
             [
              1,
              "#f0f921"
             ]
            ],
            "type": "heatmapgl"
           }
          ],
          "histogram": [
           {
            "marker": {
             "pattern": {
              "fillmode": "overlay",
              "size": 10,
              "solidity": 0.2
             }
            },
            "type": "histogram"
           }
          ],
          "histogram2d": [
           {
            "colorbar": {
             "outlinewidth": 0,
             "ticks": ""
            },
            "colorscale": [
             [
              0,
              "#0d0887"
             ],
             [
              0.1111111111111111,
              "#46039f"
             ],
             [
              0.2222222222222222,
              "#7201a8"
             ],
             [
              0.3333333333333333,
              "#9c179e"
             ],
             [
              0.4444444444444444,
              "#bd3786"
             ],
             [
              0.5555555555555556,
              "#d8576b"
             ],
             [
              0.6666666666666666,
              "#ed7953"
             ],
             [
              0.7777777777777778,
              "#fb9f3a"
             ],
             [
              0.8888888888888888,
              "#fdca26"
             ],
             [
              1,
              "#f0f921"
             ]
            ],
            "type": "histogram2d"
           }
          ],
          "histogram2dcontour": [
           {
            "colorbar": {
             "outlinewidth": 0,
             "ticks": ""
            },
            "colorscale": [
             [
              0,
              "#0d0887"
             ],
             [
              0.1111111111111111,
              "#46039f"
             ],
             [
              0.2222222222222222,
              "#7201a8"
             ],
             [
              0.3333333333333333,
              "#9c179e"
             ],
             [
              0.4444444444444444,
              "#bd3786"
             ],
             [
              0.5555555555555556,
              "#d8576b"
             ],
             [
              0.6666666666666666,
              "#ed7953"
             ],
             [
              0.7777777777777778,
              "#fb9f3a"
             ],
             [
              0.8888888888888888,
              "#fdca26"
             ],
             [
              1,
              "#f0f921"
             ]
            ],
            "type": "histogram2dcontour"
           }
          ],
          "mesh3d": [
           {
            "colorbar": {
             "outlinewidth": 0,
             "ticks": ""
            },
            "type": "mesh3d"
           }
          ],
          "parcoords": [
           {
            "line": {
             "colorbar": {
              "outlinewidth": 0,
              "ticks": ""
             }
            },
            "type": "parcoords"
           }
          ],
          "pie": [
           {
            "automargin": true,
            "type": "pie"
           }
          ],
          "scatter": [
           {
            "fillpattern": {
             "fillmode": "overlay",
             "size": 10,
             "solidity": 0.2
            },
            "type": "scatter"
           }
          ],
          "scatter3d": [
           {
            "line": {
             "colorbar": {
              "outlinewidth": 0,
              "ticks": ""
             }
            },
            "marker": {
             "colorbar": {
              "outlinewidth": 0,
              "ticks": ""
             }
            },
            "type": "scatter3d"
           }
          ],
          "scattercarpet": [
           {
            "marker": {
             "colorbar": {
              "outlinewidth": 0,
              "ticks": ""
             }
            },
            "type": "scattercarpet"
           }
          ],
          "scattergeo": [
           {
            "marker": {
             "colorbar": {
              "outlinewidth": 0,
              "ticks": ""
             }
            },
            "type": "scattergeo"
           }
          ],
          "scattergl": [
           {
            "marker": {
             "colorbar": {
              "outlinewidth": 0,
              "ticks": ""
             }
            },
            "type": "scattergl"
           }
          ],
          "scattermapbox": [
           {
            "marker": {
             "colorbar": {
              "outlinewidth": 0,
              "ticks": ""
             }
            },
            "type": "scattermapbox"
           }
          ],
          "scatterpolar": [
           {
            "marker": {
             "colorbar": {
              "outlinewidth": 0,
              "ticks": ""
             }
            },
            "type": "scatterpolar"
           }
          ],
          "scatterpolargl": [
           {
            "marker": {
             "colorbar": {
              "outlinewidth": 0,
              "ticks": ""
             }
            },
            "type": "scatterpolargl"
           }
          ],
          "scatterternary": [
           {
            "marker": {
             "colorbar": {
              "outlinewidth": 0,
              "ticks": ""
             }
            },
            "type": "scatterternary"
           }
          ],
          "surface": [
           {
            "colorbar": {
             "outlinewidth": 0,
             "ticks": ""
            },
            "colorscale": [
             [
              0,
              "#0d0887"
             ],
             [
              0.1111111111111111,
              "#46039f"
             ],
             [
              0.2222222222222222,
              "#7201a8"
             ],
             [
              0.3333333333333333,
              "#9c179e"
             ],
             [
              0.4444444444444444,
              "#bd3786"
             ],
             [
              0.5555555555555556,
              "#d8576b"
             ],
             [
              0.6666666666666666,
              "#ed7953"
             ],
             [
              0.7777777777777778,
              "#fb9f3a"
             ],
             [
              0.8888888888888888,
              "#fdca26"
             ],
             [
              1,
              "#f0f921"
             ]
            ],
            "type": "surface"
           }
          ],
          "table": [
           {
            "cells": {
             "fill": {
              "color": "#EBF0F8"
             },
             "line": {
              "color": "white"
             }
            },
            "header": {
             "fill": {
              "color": "#C8D4E3"
             },
             "line": {
              "color": "white"
             }
            },
            "type": "table"
           }
          ]
         },
         "layout": {
          "annotationdefaults": {
           "arrowcolor": "#2a3f5f",
           "arrowhead": 0,
           "arrowwidth": 1
          },
          "autotypenumbers": "strict",
          "coloraxis": {
           "colorbar": {
            "outlinewidth": 0,
            "ticks": ""
           }
          },
          "colorscale": {
           "diverging": [
            [
             0,
             "#8e0152"
            ],
            [
             0.1,
             "#c51b7d"
            ],
            [
             0.2,
             "#de77ae"
            ],
            [
             0.3,
             "#f1b6da"
            ],
            [
             0.4,
             "#fde0ef"
            ],
            [
             0.5,
             "#f7f7f7"
            ],
            [
             0.6,
             "#e6f5d0"
            ],
            [
             0.7,
             "#b8e186"
            ],
            [
             0.8,
             "#7fbc41"
            ],
            [
             0.9,
             "#4d9221"
            ],
            [
             1,
             "#276419"
            ]
           ],
           "sequential": [
            [
             0,
             "#0d0887"
            ],
            [
             0.1111111111111111,
             "#46039f"
            ],
            [
             0.2222222222222222,
             "#7201a8"
            ],
            [
             0.3333333333333333,
             "#9c179e"
            ],
            [
             0.4444444444444444,
             "#bd3786"
            ],
            [
             0.5555555555555556,
             "#d8576b"
            ],
            [
             0.6666666666666666,
             "#ed7953"
            ],
            [
             0.7777777777777778,
             "#fb9f3a"
            ],
            [
             0.8888888888888888,
             "#fdca26"
            ],
            [
             1,
             "#f0f921"
            ]
           ],
           "sequentialminus": [
            [
             0,
             "#0d0887"
            ],
            [
             0.1111111111111111,
             "#46039f"
            ],
            [
             0.2222222222222222,
             "#7201a8"
            ],
            [
             0.3333333333333333,
             "#9c179e"
            ],
            [
             0.4444444444444444,
             "#bd3786"
            ],
            [
             0.5555555555555556,
             "#d8576b"
            ],
            [
             0.6666666666666666,
             "#ed7953"
            ],
            [
             0.7777777777777778,
             "#fb9f3a"
            ],
            [
             0.8888888888888888,
             "#fdca26"
            ],
            [
             1,
             "#f0f921"
            ]
           ]
          },
          "colorway": [
           "#636efa",
           "#EF553B",
           "#00cc96",
           "#ab63fa",
           "#FFA15A",
           "#19d3f3",
           "#FF6692",
           "#B6E880",
           "#FF97FF",
           "#FECB52"
          ],
          "font": {
           "color": "#2a3f5f"
          },
          "geo": {
           "bgcolor": "white",
           "lakecolor": "white",
           "landcolor": "#E5ECF6",
           "showlakes": true,
           "showland": true,
           "subunitcolor": "white"
          },
          "hoverlabel": {
           "align": "left"
          },
          "hovermode": "closest",
          "mapbox": {
           "style": "light"
          },
          "paper_bgcolor": "white",
          "plot_bgcolor": "#E5ECF6",
          "polar": {
           "angularaxis": {
            "gridcolor": "white",
            "linecolor": "white",
            "ticks": ""
           },
           "bgcolor": "#E5ECF6",
           "radialaxis": {
            "gridcolor": "white",
            "linecolor": "white",
            "ticks": ""
           }
          },
          "scene": {
           "xaxis": {
            "backgroundcolor": "#E5ECF6",
            "gridcolor": "white",
            "gridwidth": 2,
            "linecolor": "white",
            "showbackground": true,
            "ticks": "",
            "zerolinecolor": "white"
           },
           "yaxis": {
            "backgroundcolor": "#E5ECF6",
            "gridcolor": "white",
            "gridwidth": 2,
            "linecolor": "white",
            "showbackground": true,
            "ticks": "",
            "zerolinecolor": "white"
           },
           "zaxis": {
            "backgroundcolor": "#E5ECF6",
            "gridcolor": "white",
            "gridwidth": 2,
            "linecolor": "white",
            "showbackground": true,
            "ticks": "",
            "zerolinecolor": "white"
           }
          },
          "shapedefaults": {
           "line": {
            "color": "#2a3f5f"
           }
          },
          "ternary": {
           "aaxis": {
            "gridcolor": "white",
            "linecolor": "white",
            "ticks": ""
           },
           "baxis": {
            "gridcolor": "white",
            "linecolor": "white",
            "ticks": ""
           },
           "bgcolor": "#E5ECF6",
           "caxis": {
            "gridcolor": "white",
            "linecolor": "white",
            "ticks": ""
           }
          },
          "title": {
           "x": 0.05
          },
          "xaxis": {
           "automargin": true,
           "gridcolor": "white",
           "linecolor": "white",
           "ticks": "",
           "title": {
            "standoff": 15
           },
           "zerolinecolor": "white",
           "zerolinewidth": 2
          },
          "yaxis": {
           "automargin": true,
           "gridcolor": "white",
           "linecolor": "white",
           "ticks": "",
           "title": {
            "standoff": 15
           },
           "zerolinecolor": "white",
           "zerolinewidth": 2
          }
         }
        },
        "title": {
         "font": {
          "color": "#4D5663"
         },
         "text": "20 Countries with Most Number of Goals"
        },
        "xaxis": {
         "gridcolor": "#E1E5ED",
         "showgrid": true,
         "tickfont": {
          "color": "#4D5663"
         },
         "title": {
          "font": {
           "color": "#4D5663"
          },
          "text": "Country Names"
         },
         "zerolinecolor": "#E1E5ED"
        },
        "yaxis": {
         "gridcolor": "#E1E5ED",
         "showgrid": true,
         "tickfont": {
          "color": "#4D5663"
         },
         "title": {
          "font": {
           "color": "#4D5663"
          },
          "text": "Goals"
         },
         "zerolinecolor": "#E1E5ED"
        }
       }
      },
      "text/html": [
       "<div>                            <div id=\"47dd76b5-082a-4660-af1a-675ea39a5651\" class=\"plotly-graph-div\" style=\"height:525px; width:100%;\"></div>            <script type=\"text/javascript\">                require([\"plotly\"], function(Plotly) {                    window.PLOTLYENV=window.PLOTLYENV || {};\n",
       "                    window.PLOTLYENV.BASE_URL='https://plot.ly';                                    if (document.getElementById(\"47dd76b5-082a-4660-af1a-675ea39a5651\")) {                    Plotly.newPlot(                        \"47dd76b5-082a-4660-af1a-675ea39a5651\",                        [{\"marker\":{\"color\":\"rgba(255, 153, 51, 0.6)\",\"line\":{\"color\":\"rgba(255, 153, 51, 1.0)\",\"width\":1}},\"name\":\"Goals\",\"orientation\":\"v\",\"text\":\"\",\"x\":[\"Germany\",\"Brazil\",\"Argentina\",\"Italy\",\"France\",\"Spai\",\"Netherlands\",\"Hungary\",\"Uruguay\",\"England\",\"Swede\",\"Yugoslavia\",\"Mexico\",\"Belgium\",\"Soviet Unio\",\"Switzerland\",\"Czechoslovakia\",\"Poland\",\"Portugal\",\"Austria\"],\"y\":[240.0,225.0,133.0,128.0,108.0,92.0,91.0,87.0,80.0,79.0,74.0,60.0,58.0,54.0,53.0,45.0,44.0,44.0,43.0,43.0],\"type\":\"bar\"}],                        {\"legend\":{\"bgcolor\":\"#F5F6F9\",\"font\":{\"color\":\"#4D5663\"}},\"paper_bgcolor\":\"#F5F6F9\",\"plot_bgcolor\":\"#F5F6F9\",\"template\":{\"data\":{\"barpolar\":[{\"marker\":{\"line\":{\"color\":\"#E5ECF6\",\"width\":0.5},\"pattern\":{\"fillmode\":\"overlay\",\"size\":10,\"solidity\":0.2}},\"type\":\"barpolar\"}],\"bar\":[{\"error_x\":{\"color\":\"#2a3f5f\"},\"error_y\":{\"color\":\"#2a3f5f\"},\"marker\":{\"line\":{\"color\":\"#E5ECF6\",\"width\":0.5},\"pattern\":{\"fillmode\":\"overlay\",\"size\":10,\"solidity\":0.2}},\"type\":\"bar\"}],\"carpet\":[{\"aaxis\":{\"endlinecolor\":\"#2a3f5f\",\"gridcolor\":\"white\",\"linecolor\":\"white\",\"minorgridcolor\":\"white\",\"startlinecolor\":\"#2a3f5f\"},\"baxis\":{\"endlinecolor\":\"#2a3f5f\",\"gridcolor\":\"white\",\"linecolor\":\"white\",\"minorgridcolor\":\"white\",\"startlinecolor\":\"#2a3f5f\"},\"type\":\"carpet\"}],\"choropleth\":[{\"colorbar\":{\"outlinewidth\":0,\"ticks\":\"\"},\"type\":\"choropleth\"}],\"contourcarpet\":[{\"colorbar\":{\"outlinewidth\":0,\"ticks\":\"\"},\"type\":\"contourcarpet\"}],\"contour\":[{\"colorbar\":{\"outlinewidth\":0,\"ticks\":\"\"},\"colorscale\":[[0.0,\"#0d0887\"],[0.1111111111111111,\"#46039f\"],[0.2222222222222222,\"#7201a8\"],[0.3333333333333333,\"#9c179e\"],[0.4444444444444444,\"#bd3786\"],[0.5555555555555556,\"#d8576b\"],[0.6666666666666666,\"#ed7953\"],[0.7777777777777778,\"#fb9f3a\"],[0.8888888888888888,\"#fdca26\"],[1.0,\"#f0f921\"]],\"type\":\"contour\"}],\"heatmapgl\":[{\"colorbar\":{\"outlinewidth\":0,\"ticks\":\"\"},\"colorscale\":[[0.0,\"#0d0887\"],[0.1111111111111111,\"#46039f\"],[0.2222222222222222,\"#7201a8\"],[0.3333333333333333,\"#9c179e\"],[0.4444444444444444,\"#bd3786\"],[0.5555555555555556,\"#d8576b\"],[0.6666666666666666,\"#ed7953\"],[0.7777777777777778,\"#fb9f3a\"],[0.8888888888888888,\"#fdca26\"],[1.0,\"#f0f921\"]],\"type\":\"heatmapgl\"}],\"heatmap\":[{\"colorbar\":{\"outlinewidth\":0,\"ticks\":\"\"},\"colorscale\":[[0.0,\"#0d0887\"],[0.1111111111111111,\"#46039f\"],[0.2222222222222222,\"#7201a8\"],[0.3333333333333333,\"#9c179e\"],[0.4444444444444444,\"#bd3786\"],[0.5555555555555556,\"#d8576b\"],[0.6666666666666666,\"#ed7953\"],[0.7777777777777778,\"#fb9f3a\"],[0.8888888888888888,\"#fdca26\"],[1.0,\"#f0f921\"]],\"type\":\"heatmap\"}],\"histogram2dcontour\":[{\"colorbar\":{\"outlinewidth\":0,\"ticks\":\"\"},\"colorscale\":[[0.0,\"#0d0887\"],[0.1111111111111111,\"#46039f\"],[0.2222222222222222,\"#7201a8\"],[0.3333333333333333,\"#9c179e\"],[0.4444444444444444,\"#bd3786\"],[0.5555555555555556,\"#d8576b\"],[0.6666666666666666,\"#ed7953\"],[0.7777777777777778,\"#fb9f3a\"],[0.8888888888888888,\"#fdca26\"],[1.0,\"#f0f921\"]],\"type\":\"histogram2dcontour\"}],\"histogram2d\":[{\"colorbar\":{\"outlinewidth\":0,\"ticks\":\"\"},\"colorscale\":[[0.0,\"#0d0887\"],[0.1111111111111111,\"#46039f\"],[0.2222222222222222,\"#7201a8\"],[0.3333333333333333,\"#9c179e\"],[0.4444444444444444,\"#bd3786\"],[0.5555555555555556,\"#d8576b\"],[0.6666666666666666,\"#ed7953\"],[0.7777777777777778,\"#fb9f3a\"],[0.8888888888888888,\"#fdca26\"],[1.0,\"#f0f921\"]],\"type\":\"histogram2d\"}],\"histogram\":[{\"marker\":{\"pattern\":{\"fillmode\":\"overlay\",\"size\":10,\"solidity\":0.2}},\"type\":\"histogram\"}],\"mesh3d\":[{\"colorbar\":{\"outlinewidth\":0,\"ticks\":\"\"},\"type\":\"mesh3d\"}],\"parcoords\":[{\"line\":{\"colorbar\":{\"outlinewidth\":0,\"ticks\":\"\"}},\"type\":\"parcoords\"}],\"pie\":[{\"automargin\":true,\"type\":\"pie\"}],\"scatter3d\":[{\"line\":{\"colorbar\":{\"outlinewidth\":0,\"ticks\":\"\"}},\"marker\":{\"colorbar\":{\"outlinewidth\":0,\"ticks\":\"\"}},\"type\":\"scatter3d\"}],\"scattercarpet\":[{\"marker\":{\"colorbar\":{\"outlinewidth\":0,\"ticks\":\"\"}},\"type\":\"scattercarpet\"}],\"scattergeo\":[{\"marker\":{\"colorbar\":{\"outlinewidth\":0,\"ticks\":\"\"}},\"type\":\"scattergeo\"}],\"scattergl\":[{\"marker\":{\"colorbar\":{\"outlinewidth\":0,\"ticks\":\"\"}},\"type\":\"scattergl\"}],\"scattermapbox\":[{\"marker\":{\"colorbar\":{\"outlinewidth\":0,\"ticks\":\"\"}},\"type\":\"scattermapbox\"}],\"scatterpolargl\":[{\"marker\":{\"colorbar\":{\"outlinewidth\":0,\"ticks\":\"\"}},\"type\":\"scatterpolargl\"}],\"scatterpolar\":[{\"marker\":{\"colorbar\":{\"outlinewidth\":0,\"ticks\":\"\"}},\"type\":\"scatterpolar\"}],\"scatter\":[{\"fillpattern\":{\"fillmode\":\"overlay\",\"size\":10,\"solidity\":0.2},\"type\":\"scatter\"}],\"scatterternary\":[{\"marker\":{\"colorbar\":{\"outlinewidth\":0,\"ticks\":\"\"}},\"type\":\"scatterternary\"}],\"surface\":[{\"colorbar\":{\"outlinewidth\":0,\"ticks\":\"\"},\"colorscale\":[[0.0,\"#0d0887\"],[0.1111111111111111,\"#46039f\"],[0.2222222222222222,\"#7201a8\"],[0.3333333333333333,\"#9c179e\"],[0.4444444444444444,\"#bd3786\"],[0.5555555555555556,\"#d8576b\"],[0.6666666666666666,\"#ed7953\"],[0.7777777777777778,\"#fb9f3a\"],[0.8888888888888888,\"#fdca26\"],[1.0,\"#f0f921\"]],\"type\":\"surface\"}],\"table\":[{\"cells\":{\"fill\":{\"color\":\"#EBF0F8\"},\"line\":{\"color\":\"white\"}},\"header\":{\"fill\":{\"color\":\"#C8D4E3\"},\"line\":{\"color\":\"white\"}},\"type\":\"table\"}]},\"layout\":{\"annotationdefaults\":{\"arrowcolor\":\"#2a3f5f\",\"arrowhead\":0,\"arrowwidth\":1},\"autotypenumbers\":\"strict\",\"coloraxis\":{\"colorbar\":{\"outlinewidth\":0,\"ticks\":\"\"}},\"colorscale\":{\"diverging\":[[0,\"#8e0152\"],[0.1,\"#c51b7d\"],[0.2,\"#de77ae\"],[0.3,\"#f1b6da\"],[0.4,\"#fde0ef\"],[0.5,\"#f7f7f7\"],[0.6,\"#e6f5d0\"],[0.7,\"#b8e186\"],[0.8,\"#7fbc41\"],[0.9,\"#4d9221\"],[1,\"#276419\"]],\"sequential\":[[0.0,\"#0d0887\"],[0.1111111111111111,\"#46039f\"],[0.2222222222222222,\"#7201a8\"],[0.3333333333333333,\"#9c179e\"],[0.4444444444444444,\"#bd3786\"],[0.5555555555555556,\"#d8576b\"],[0.6666666666666666,\"#ed7953\"],[0.7777777777777778,\"#fb9f3a\"],[0.8888888888888888,\"#fdca26\"],[1.0,\"#f0f921\"]],\"sequentialminus\":[[0.0,\"#0d0887\"],[0.1111111111111111,\"#46039f\"],[0.2222222222222222,\"#7201a8\"],[0.3333333333333333,\"#9c179e\"],[0.4444444444444444,\"#bd3786\"],[0.5555555555555556,\"#d8576b\"],[0.6666666666666666,\"#ed7953\"],[0.7777777777777778,\"#fb9f3a\"],[0.8888888888888888,\"#fdca26\"],[1.0,\"#f0f921\"]]},\"colorway\":[\"#636efa\",\"#EF553B\",\"#00cc96\",\"#ab63fa\",\"#FFA15A\",\"#19d3f3\",\"#FF6692\",\"#B6E880\",\"#FF97FF\",\"#FECB52\"],\"font\":{\"color\":\"#2a3f5f\"},\"geo\":{\"bgcolor\":\"white\",\"lakecolor\":\"white\",\"landcolor\":\"#E5ECF6\",\"showlakes\":true,\"showland\":true,\"subunitcolor\":\"white\"},\"hoverlabel\":{\"align\":\"left\"},\"hovermode\":\"closest\",\"mapbox\":{\"style\":\"light\"},\"paper_bgcolor\":\"white\",\"plot_bgcolor\":\"#E5ECF6\",\"polar\":{\"angularaxis\":{\"gridcolor\":\"white\",\"linecolor\":\"white\",\"ticks\":\"\"},\"bgcolor\":\"#E5ECF6\",\"radialaxis\":{\"gridcolor\":\"white\",\"linecolor\":\"white\",\"ticks\":\"\"}},\"scene\":{\"xaxis\":{\"backgroundcolor\":\"#E5ECF6\",\"gridcolor\":\"white\",\"gridwidth\":2,\"linecolor\":\"white\",\"showbackground\":true,\"ticks\":\"\",\"zerolinecolor\":\"white\"},\"yaxis\":{\"backgroundcolor\":\"#E5ECF6\",\"gridcolor\":\"white\",\"gridwidth\":2,\"linecolor\":\"white\",\"showbackground\":true,\"ticks\":\"\",\"zerolinecolor\":\"white\"},\"zaxis\":{\"backgroundcolor\":\"#E5ECF6\",\"gridcolor\":\"white\",\"gridwidth\":2,\"linecolor\":\"white\",\"showbackground\":true,\"ticks\":\"\",\"zerolinecolor\":\"white\"}},\"shapedefaults\":{\"line\":{\"color\":\"#2a3f5f\"}},\"ternary\":{\"aaxis\":{\"gridcolor\":\"white\",\"linecolor\":\"white\",\"ticks\":\"\"},\"baxis\":{\"gridcolor\":\"white\",\"linecolor\":\"white\",\"ticks\":\"\"},\"bgcolor\":\"#E5ECF6\",\"caxis\":{\"gridcolor\":\"white\",\"linecolor\":\"white\",\"ticks\":\"\"}},\"title\":{\"x\":0.05},\"xaxis\":{\"automargin\":true,\"gridcolor\":\"white\",\"linecolor\":\"white\",\"ticks\":\"\",\"title\":{\"standoff\":15},\"zerolinecolor\":\"white\",\"zerolinewidth\":2},\"yaxis\":{\"automargin\":true,\"gridcolor\":\"white\",\"linecolor\":\"white\",\"ticks\":\"\",\"title\":{\"standoff\":15},\"zerolinecolor\":\"white\",\"zerolinewidth\":2}}},\"title\":{\"font\":{\"color\":\"#4D5663\"},\"text\":\"20 Countries with Most Number of Goals\"},\"xaxis\":{\"gridcolor\":\"#E1E5ED\",\"showgrid\":true,\"tickfont\":{\"color\":\"#4D5663\"},\"title\":{\"font\":{\"color\":\"#4D5663\"},\"text\":\"Country Names\"},\"zerolinecolor\":\"#E1E5ED\"},\"yaxis\":{\"gridcolor\":\"#E1E5ED\",\"showgrid\":true,\"tickfont\":{\"color\":\"#4D5663\"},\"title\":{\"font\":{\"color\":\"#4D5663\"},\"text\":\"Goals\"},\"zerolinecolor\":\"#E1E5ED\"}},                        {\"showLink\": true, \"linkText\": \"Export to plot.ly\", \"plotlyServerURL\": \"https://plot.ly\", \"responsive\": true}                    ).then(function(){\n",
       "                            \n",
       "var gd = document.getElementById('47dd76b5-082a-4660-af1a-675ea39a5651');\n",
       "var x = new MutationObserver(function (mutations, observer) {{\n",
       "        var display = window.getComputedStyle(gd).display;\n",
       "        if (!display || display === 'none') {{\n",
       "            console.log([gd, 'removed!']);\n",
       "            Plotly.purge(gd);\n",
       "            observer.disconnect();\n",
       "        }}\n",
       "}});\n",
       "\n",
       "// Listen for the removal of the full notebook cells\n",
       "var notebookContainer = gd.closest('#notebook-container');\n",
       "if (notebookContainer) {{\n",
       "    x.observe(notebookContainer, {childList: true});\n",
       "}}\n",
       "\n",
       "// Listen for the clearing of the current output cell\n",
       "var outputEl = gd.closest('.output');\n",
       "if (outputEl) {{\n",
       "    x.observe(outputEl, {childList: true});\n",
       "}}\n",
       "\n",
       "                        })                };                });            </script>        </div>"
      ]
     },
     "metadata": {},
     "output_type": "display_data"
    }
   ],
   "source": [
    "# Plot a bar chart \n",
    "Goals[:20].iplot(kind = 'bar', xTitle = 'Country Names', yTitle = 'Goals', title = '20 Countries with Most Number of Goals')"
   ]
  },
  {
   "cell_type": "markdown",
   "metadata": {},
   "source": [
    "# Attendance, Number of Teams, Goals, and Matches per Cup"
   ]
  },
  {
   "cell_type": "markdown",
   "metadata": {},
   "source": [
    "# Goals Per Team Per Word Cup "
   ]
  },
  {
   "cell_type": "code",
   "execution_count": null,
   "metadata": {},
   "outputs": [],
   "source": []
  },
  {
   "cell_type": "code",
   "execution_count": null,
   "metadata": {},
   "outputs": [],
   "source": []
  },
  {
   "cell_type": "markdown",
   "metadata": {},
   "source": [
    "# Matches with Highest Number of Attendance"
   ]
  },
  {
   "cell_type": "code",
   "execution_count": null,
   "metadata": {},
   "outputs": [],
   "source": []
  },
  {
   "cell_type": "markdown",
   "metadata": {},
   "source": [
    "# Other Resources\n",
    "|  ML Course | Description |\n",
    "|:---|:---|\n",
    "| [**Data Visualization in Python Masterclass™: Beginners to Pro**](https://bit.ly/udemy95off_kgptalkie) |  Learn to build Machine Learning and Deep Learning models using Python and its libraries like Scikit-Learn, Keras, and TensorFlow. |\n",
    "| [**Python for Machine Learning: A Step-by-Step Guide**](https://bit.ly/ml-ds-project) | Learn to build Machine Learning and Deep Learning models using Python and its libraries like Scikit-Learn, Keras, and TensorFlow. |\n",
    "\n",
    "\n"
   ]
  },
  {
   "cell_type": "markdown",
   "metadata": {},
   "source": [
    "\n"
   ]
  }
 ],
 "metadata": {
  "kernelspec": {
   "display_name": "Python 3 (ipykernel)",
   "language": "python",
   "name": "python3"
  },
  "language_info": {
   "codemirror_mode": {
    "name": "ipython",
    "version": 3
   },
   "file_extension": ".py",
   "mimetype": "text/x-python",
   "name": "python",
   "nbconvert_exporter": "python",
   "pygments_lexer": "ipython3",
   "version": "3.11.5"
  },
  "vscode": {
   "interpreter": {
    "hash": "1c559bdd7b754ece9e8e368b13568ddb0f2d10662da44815ae704e790d52c5c0"
   }
  }
 },
 "nbformat": 4,
 "nbformat_minor": 4
}
